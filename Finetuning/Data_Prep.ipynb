{
 "cells": [
  {
   "cell_type": "code",
   "execution_count": 1,
   "id": "ac84e80d-e069-4666-8870-a4c39fe43a9e",
   "metadata": {},
   "outputs": [
    {
     "name": "stdout",
     "output_type": "stream",
     "text": [
      "\u001b[33mWARNING: Ignoring invalid distribution -orch (/home/karim/Jupyter/.venv/lib/python3.10/site-packages)\u001b[0m\u001b[33m\n",
      "\u001b[0m\u001b[33mWARNING: Ignoring invalid distribution -orch (/home/karim/Jupyter/.venv/lib/python3.10/site-packages)\u001b[0m\u001b[33m\n",
      "\u001b[0m\u001b[33mDEPRECATION: nb-black 1.0.7 has a non-standard dependency specifier black>='19.3'. pip 24.1 will enforce this behaviour change. A possible replacement is to upgrade to a newer version of nb-black or contact the author to suggest that they release a version with a conforming dependency specifiers. Discussion can be found at https://github.com/pypa/pip/issues/12063\u001b[0m\u001b[33m\n",
      "\u001b[0m"
     ]
    }
   ],
   "source": [
    "!pip install huggingface-hub -qU"
   ]
  },
  {
   "cell_type": "code",
   "execution_count": 2,
   "id": "742e8c59-765c-4bc4-a357-e0734d1fe19b",
   "metadata": {},
   "outputs": [],
   "source": [
    "from datasets import load_dataset\n",
    "from huggingface_hub import login, logout\n",
    "from dotenv import load_dotenv\n",
    "import os"
   ]
  },
  {
   "cell_type": "code",
   "execution_count": 19,
   "id": "5ed9b0b3-d393-439b-b9de-bfd3999d2556",
   "metadata": {},
   "outputs": [
    {
     "data": {
      "text/plain": [
       "True"
      ]
     },
     "execution_count": 19,
     "metadata": {},
     "output_type": "execute_result"
    }
   ],
   "source": [
    "load_dotenv()"
   ]
  },
  {
   "cell_type": "code",
   "execution_count": 20,
   "id": "5b8539e2-e2ee-404d-a655-c3772d48fc3d",
   "metadata": {},
   "outputs": [],
   "source": [
    "hf_token = os.environ[\"HF_TOKEN\"]"
   ]
  },
  {
   "cell_type": "code",
   "execution_count": 5,
   "id": "e3f7c9f3-0efb-44a5-9624-ededca7cff00",
   "metadata": {},
   "outputs": [
    {
     "data": {
      "text/plain": [
       "Dataset({\n",
       "    features: ['chat', 'system'],\n",
       "    num_rows: 112960\n",
       "})"
      ]
     },
     "execution_count": 5,
     "metadata": {},
     "output_type": "execute_result"
    }
   ],
   "source": [
    "dataset_id = \"glaiveai/glaive-function-calling-v2\"\n",
    "new_dataset_id = \"lalanikarim/glaive-function-calling-v2\"\n",
    "\n",
    "dataset = load_dataset(dataset_id,split=\"train\")\n",
    "dataset"
   ]
  },
  {
   "cell_type": "code",
   "execution_count": 6,
   "id": "de332e9a-79ce-436b-ae3a-92ef46ca67fd",
   "metadata": {},
   "outputs": [],
   "source": [
    "def clean_data(record):\n",
    "    system = record[\"system\"] \n",
    "\n",
    "    \"\"\"\n",
    "    record[\"system\"] = system.replace(\"SYSTEM:\",\"System:\")\n",
    "    \"\"\"\n",
    "    \n",
    "    chat = record[\"chat\"]\n",
    "    \n",
    "    chat = (chat\n",
    "            #.replace(\"USER:\",\"Human:\")\n",
    "            .replace(\"ASSISTANT: <functioncall>\",\"FUNCTION:\")\n",
    "            #.replace(\"ASSISTANT:\",\"AI:\")\n",
    "            #.replace(\"FUNCTION RESPONSE:\",\"Response:\")\n",
    "            .replace(\"<|endoftext|>\",\"\")\n",
    "           )\n",
    "    \n",
    "    chat = chat.split(\"\\n\\n\\n\")\n",
    "\n",
    "    record[\"prompt\"] = chat[0]\n",
    "    record[\"response\"] = \"\\n\".join(chat[1:])\n",
    "    \n",
    "    return record"
   ]
  },
  {
   "cell_type": "code",
   "execution_count": 7,
   "id": "eb62d89b-2d06-4941-8a91-2005a9c8fcac",
   "metadata": {},
   "outputs": [
    {
     "data": {
      "text/plain": [
       "Dataset({\n",
       "    features: ['chat', 'system', 'prompt', 'response'],\n",
       "    num_rows: 79643\n",
       "})"
      ]
     },
     "execution_count": 7,
     "metadata": {},
     "output_type": "execute_result"
    }
   ],
   "source": [
    "dataset = dataset.filter(lambda c: c[\"chat\"].find(\"\\n\\n\\n\") > 1)\n",
    "dataset = dataset.map(clean_data)\n",
    "dataset"
   ]
  },
  {
   "cell_type": "code",
   "execution_count": 8,
   "id": "b16705d6-9630-4555-a798-79c4e567e9e6",
   "metadata": {},
   "outputs": [
    {
     "data": {
      "text/plain": [
       "DatasetDict({\n",
       "    train: Dataset({\n",
       "        features: ['chat', 'system', 'prompt', 'response'],\n",
       "        num_rows: 71678\n",
       "    })\n",
       "    test: Dataset({\n",
       "        features: ['chat', 'system', 'prompt', 'response'],\n",
       "        num_rows: 7965\n",
       "    })\n",
       "})"
      ]
     },
     "execution_count": 8,
     "metadata": {},
     "output_type": "execute_result"
    }
   ],
   "source": [
    "seed = 421337\n",
    "test_size = 0.1\n",
    "split_dataset = dataset.shuffle(seed=421337).train_test_split(test_size=test_size)\n",
    "split_dataset"
   ]
  },
  {
   "cell_type": "code",
   "execution_count": 21,
   "id": "43e7304a-25e8-40cb-89b4-aa21f90b3779",
   "metadata": {},
   "outputs": [
    {
     "name": "stdout",
     "output_type": "stream",
     "text": [
      "Token will not been saved to git credential helper. Pass `add_to_git_credential=True` if you want to set the git credential as well.\n",
      "Token is valid (permission: write).\n",
      "Your token has been saved to /home/karim/.cache/huggingface/token\n",
      "Login successful\n"
     ]
    }
   ],
   "source": [
    "login(token=hf_token, write_permission=True)"
   ]
  },
  {
   "cell_type": "code",
   "execution_count": 11,
   "id": "2b0e80e4-ca8b-42c5-82f4-a9a8869e24c1",
   "metadata": {},
   "outputs": [
    {
     "data": {
      "application/vnd.jupyter.widget-view+json": {
       "model_id": "f7c24a1d0cef4c038e3afe50dbfa9458",
       "version_major": 2,
       "version_minor": 0
      },
      "text/plain": [
       "Uploading the dataset shards:   0%|          | 0/1 [00:00<?, ?it/s]"
      ]
     },
     "metadata": {},
     "output_type": "display_data"
    },
    {
     "data": {
      "application/vnd.jupyter.widget-view+json": {
       "model_id": "1c2d746cf9bd499bacabbf5fbbc5e502",
       "version_major": 2,
       "version_minor": 0
      },
      "text/plain": [
       "Creating parquet from Arrow format:   0%|          | 0/72 [00:00<?, ?ba/s]"
      ]
     },
     "metadata": {},
     "output_type": "display_data"
    },
    {
     "data": {
      "application/vnd.jupyter.widget-view+json": {
       "model_id": "266d73b36780427492c656f42ec70461",
       "version_major": 2,
       "version_minor": 0
      },
      "text/plain": [
       "Uploading the dataset shards:   0%|          | 0/1 [00:00<?, ?it/s]"
      ]
     },
     "metadata": {},
     "output_type": "display_data"
    },
    {
     "data": {
      "application/vnd.jupyter.widget-view+json": {
       "model_id": "4af1f5f703a446d5bd8069c8557fae5f",
       "version_major": 2,
       "version_minor": 0
      },
      "text/plain": [
       "Creating parquet from Arrow format:   0%|          | 0/8 [00:00<?, ?ba/s]"
      ]
     },
     "metadata": {},
     "output_type": "display_data"
    },
    {
     "data": {
      "text/plain": [
       "CommitInfo(commit_url='https://huggingface.co/datasets/lalanikarim/glaive-function-calling-v2/commit/6dc2413b756af851ec7c632b2044c48cf4b39841', commit_message='Upload dataset', commit_description='', oid='6dc2413b756af851ec7c632b2044c48cf4b39841', pr_url=None, pr_revision=None, pr_num=None)"
      ]
     },
     "execution_count": 11,
     "metadata": {},
     "output_type": "execute_result"
    }
   ],
   "source": [
    "split_dataset.push_to_hub(new_dataset_id)"
   ]
  },
  {
   "cell_type": "code",
   "execution_count": 22,
   "id": "771d11af-78e6-43a0-bd0c-1d155c7d9bb9",
   "metadata": {},
   "outputs": [],
   "source": [
    "hf_env_vars = [\"HF_TOKEN\",\"HUGGING_FACE_HUB_TOKEN\"]\n",
    "\n",
    "for var in hf_env_vars:\n",
    "    if var in os.environ:\n",
    "        del os.environ[var]"
   ]
  },
  {
   "cell_type": "code",
   "execution_count": 23,
   "id": "4aee0af4-c2ce-4575-b304-c405c95282a2",
   "metadata": {},
   "outputs": [
    {
     "name": "stdout",
     "output_type": "stream",
     "text": [
      "Successfully logged out.\n"
     ]
    }
   ],
   "source": [
    "logout()"
   ]
  },
  {
   "cell_type": "code",
   "execution_count": null,
   "id": "c20bbe21-8f02-4e2b-ae4b-fe2806b25c5c",
   "metadata": {},
   "outputs": [],
   "source": []
  }
 ],
 "metadata": {
  "kernelspec": {
   "display_name": "Python 3 (ipykernel)",
   "language": "python",
   "name": "python3"
  },
  "language_info": {
   "codemirror_mode": {
    "name": "ipython",
    "version": 3
   },
   "file_extension": ".py",
   "mimetype": "text/x-python",
   "name": "python",
   "nbconvert_exporter": "python",
   "pygments_lexer": "ipython3",
   "version": "3.10.12"
  }
 },
 "nbformat": 4,
 "nbformat_minor": 5
}
