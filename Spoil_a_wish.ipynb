{
  "nbformat": 4,
  "nbformat_minor": 0,
  "metadata": {
    "colab": {
      "provenance": [],
      "authorship_tag": "ABX9TyMK1h6kGcMDYLDB7CdPkrXZ",
      "include_colab_link": true
    },
    "kernelspec": {
      "name": "python3",
      "display_name": "Python 3"
    },
    "language_info": {
      "name": "python"
    }
  },
  "cells": [
    {
      "cell_type": "markdown",
      "metadata": {
        "id": "view-in-github",
        "colab_type": "text"
      },
      "source": [
        "<a href=\"https://colab.research.google.com/github/lalanikarim/notebooks/blob/main/Spoil_a_wish.ipynb\" target=\"_parent\"><img src=\"https://colab.research.google.com/assets/colab-badge.svg\" alt=\"Open In Colab\"/></a>"
      ]
    },
    {
      "cell_type": "markdown",
      "source": [
        "# Spoil-A-Wish with LangChain, Cloudflare Workers AI, and Gradio\n",
        "\n",
        "Spoil-A-Wish is a fun little game you play with friends where you make a wish and your friend grants it with a twist, essentially ruining it.\n",
        "\n",
        "For example:\n",
        "\n",
        "```\n",
        "Wish: I wish for a million dollars.  \n",
        "Response: Granted, but you get a million dollars in ZWL (Zimbabwe's defunct currency) which equals $15 USD. Enjoy your happy meal.\n",
        "```\n",
        "\n",
        "In this sample project, we will create a simple AI Agent that spoils your wishes.\n",
        "\n",
        "We will build it with [LangChain](https://www.langchain.com) using [llama 3.1 70b instruct](https://developers.cloudflare.com/workers-ai/models/llama-3.1-70b-instruct/) model hosted on [Cloudflare Workers AI](https://developers.cloudflare.com/workers-ai/).  \n",
        "\n",
        "`llama 3.1 70b instruct` model is available for free by Cloudflare while it is still in `beta` status. Other models are also available with [daily free token allocations](https://developers.cloudflare.com/workers-ai/platform/pricing/#free-allocation).\n",
        "\n",
        "You will need your Cloudflare Account ID and API Token for this exercise.  \n",
        "You can register for a free Cloudflare Account [https://www.cloudflare.com/](https://www.cloudflare.com/).\n",
        "\n",
        "Account ID can be found at [https://dash.cloudflare.com](https://dash.cloudflare.com) under the `Overview` section towards the bottom. You may have to select a domain if you have multiple domains on your account.\n",
        "\n",
        "API Token can be created [https://dash.cloudflare.com/profile/api-tokens](https://dash.cloudflare.com/profile/api-tokens). Make sure to give it permissions for `Workers AI`.\n",
        "\n",
        "List of all availabe models supported by `Cloudflare Workers AI` can be found at [https://developers.cloudflare.com/workers-ai/models/](https://developers.cloudflare.com/workers-ai/models/).  \n",
        "Select `Text Generation` under `Model Types`."
      ],
      "metadata": {
        "id": "23pPvkirlGFU"
      }
    },
    {
      "cell_type": "markdown",
      "source": [
        "## 1. Install python dependencies"
      ],
      "metadata": {
        "id": "lIMiEg1MlmHe"
      }
    },
    {
      "cell_type": "code",
      "execution_count": 1,
      "metadata": {
        "colab": {
          "base_uri": "https://localhost:8080/"
        },
        "id": "pMxyOma_XRxq",
        "outputId": "1a111410-bf1e-467a-89cf-44d3d48209b3"
      },
      "outputs": [
        {
          "output_type": "stream",
          "name": "stdout",
          "text": [
            "\u001b[?25l   \u001b[90m━━━━━━━━━━━━━━━━━━━━━━━━━━━━━━━━━━━━━━━━\u001b[0m \u001b[32m0.0/2.4 MB\u001b[0m \u001b[31m?\u001b[0m eta \u001b[36m-:--:--\u001b[0m\r\u001b[2K   \u001b[91m━━━━━━━━━━━━━━━━━━━━━━━━━━━━━━━━━━━━━━━\u001b[0m\u001b[91m╸\u001b[0m \u001b[32m2.4/2.4 MB\u001b[0m \u001b[31m129.5 MB/s\u001b[0m eta \u001b[36m0:00:01\u001b[0m\r\u001b[2K   \u001b[90m━━━━━━━━━━━━━━━━━━━━━━━━━━━━━━━━━━━━━━━━\u001b[0m \u001b[32m2.4/2.4 MB\u001b[0m \u001b[31m61.2 MB/s\u001b[0m eta \u001b[36m0:00:00\u001b[0m\n",
            "\u001b[?25h\u001b[?25l   \u001b[90m━━━━━━━━━━━━━━━━━━━━━━━━━━━━━━━━━━━━━━━━\u001b[0m \u001b[32m0.0/409.5 kB\u001b[0m \u001b[31m?\u001b[0m eta \u001b[36m-:--:--\u001b[0m\r\u001b[2K   \u001b[90m━━━━━━━━━━━━━━━━━━━━━━━━━━━━━━━━━━━━━━━━\u001b[0m \u001b[32m409.5/409.5 kB\u001b[0m \u001b[31m28.2 MB/s\u001b[0m eta \u001b[36m0:00:00\u001b[0m\n",
            "\u001b[?25h\u001b[?25l   \u001b[90m━━━━━━━━━━━━━━━━━━━━━━━━━━━━━━━━━━━━━━━━\u001b[0m \u001b[32m0.0/1.0 MB\u001b[0m \u001b[31m?\u001b[0m eta \u001b[36m-:--:--\u001b[0m\r\u001b[2K   \u001b[90m━━━━━━━━━━━━━━━━━━━━━━━━━━━━━━━━━━━━━━━━\u001b[0m \u001b[32m1.0/1.0 MB\u001b[0m \u001b[31m48.8 MB/s\u001b[0m eta \u001b[36m0:00:00\u001b[0m\n",
            "\u001b[?25h\u001b[?25l   \u001b[90m━━━━━━━━━━━━━━━━━━━━━━━━━━━━━━━━━━━━━━━━\u001b[0m \u001b[32m0.0/49.5 kB\u001b[0m \u001b[31m?\u001b[0m eta \u001b[36m-:--:--\u001b[0m\r\u001b[2K   \u001b[90m━━━━━━━━━━━━━━━━━━━━━━━━━━━━━━━━━━━━━━━━\u001b[0m \u001b[32m49.5/49.5 kB\u001b[0m \u001b[31m4.0 MB/s\u001b[0m eta \u001b[36m0:00:00\u001b[0m\n",
            "\u001b[?25h"
          ]
        }
      ],
      "source": [
        "!pip install -q langchain-core langchain-community"
      ]
    },
    {
      "cell_type": "markdown",
      "source": [
        "## 2. Import packages"
      ],
      "metadata": {
        "id": "mtcLuPuvleFA"
      }
    },
    {
      "cell_type": "code",
      "source": [
        "from langchain_core.prompts import PromptTemplate\n",
        "from langchain_core.messages import SystemMessage, HumanMessage, AIMessage\n",
        "from langchain_core.output_parsers import BaseOutputParser\n",
        "from langchain_community.chat_models.cloudflare_workersai import ChatCloudflareWorkersAI\n",
        "import json\n",
        "import ast"
      ],
      "metadata": {
        "id": "qsjzAFVIX-tw"
      },
      "execution_count": 38,
      "outputs": []
    },
    {
      "cell_type": "markdown",
      "source": [
        "## 3. Extract Google Colab Secrets"
      ],
      "metadata": {
        "id": "MRHPDXyElthM"
      }
    },
    {
      "cell_type": "code",
      "source": [
        "import os\n",
        "from google.colab import userdata\n",
        "\n",
        "CLOUDFLARE_ACCOUNT_ID = userdata.get('CLOUDFLARE_ACCOUNT_ID')\n",
        "CLOUDFLARE_API_TOKEN = userdata.get('CLOUDFLARE_API_TOKEN')\n",
        "\n",
        "if not CLOUDFLARE_ACCOUNT_ID or not CLOUDFLARE_API_TOKEN:\n",
        "    raise ValueError(\"CLOUDFLARE_ACCOUNT_ID and CLOUDFLARE_API_TOKEN must be set in environment variables or userdata.\")\n",
        "\n",
        "os.environ['CLOUDFLARE_ACCOUNT_ID'] = CLOUDFLARE_ACCOUNT_ID\n",
        "os.environ['CLOUDFLARE_API_TOKEN'] = CLOUDFLARE_API_TOKEN"
      ],
      "metadata": {
        "id": "dLK0yxgJZbeA"
      },
      "execution_count": 3,
      "outputs": []
    },
    {
      "cell_type": "markdown",
      "source": [
        "## 4. Prepare Prompt Template"
      ],
      "metadata": {
        "id": "A_475JNcl-NY"
      }
    },
    {
      "cell_type": "code",
      "source": [
        "# prompt: create a prompt template for a game of \"Spoil a wish\". In this game the user asks for a wish and the ai grants the wish but spoils it.\n",
        "\n",
        "prompt_template = \"\"\"\n",
        "You are playing the game \"Spoil a Wish\".  A user will make a wish. Your job is to grant their wish, but then spoil it in a creative and humorous way.  Make sure to follow these rules:\n",
        "\n",
        "1. First, acknowledge and grant the wish in a positive and enthusiastic manner.\n",
        "2. Then, introduce a twist or complication that completely ruins or undermines the wish in a funny way. Be creative with the way the wish is ruined.\n",
        "3. Your response should be concise and engaging.\n",
        "\n",
        "Here is the wish:\n",
        "\n",
        "{wish}\n",
        "\"\"\"\n",
        "\n",
        "prompt = PromptTemplate.from_template(prompt_template)"
      ],
      "metadata": {
        "id": "3HTJhkpCYJTS"
      },
      "execution_count": 4,
      "outputs": []
    },
    {
      "cell_type": "markdown",
      "source": [
        "## 5. Initialize LLM and create chain"
      ],
      "metadata": {
        "id": "WEcGIDRYmECJ"
      }
    },
    {
      "cell_type": "code",
      "source": [
        "# prompt: Initialize an LLM from langchain_community.chat_models.cloudflare_workersai.ChatCloudflareWorkersAI. Use CLOUDFLARE_ACCOUNT_ID and CLOUDFLARE_API_TOKEN from google.colab.userdata\n",
        "\n",
        "model = ChatCloudflareWorkersAI(account_id=os.getenv('CLOUDFLARE_ACCOUNT_ID'), api_token=os.getenv('CLOUDFLARE_API_TOKEN'),model='@cf/meta/llama-3.1-70b-instruct')\n",
        "\n",
        "# Example usage (you can replace \"I wish for a million dollars\" with any wish)\n",
        "wish = \"I wish for a million dollars\"\n",
        "\n",
        "chat = prompt | model"
      ],
      "metadata": {
        "id": "MbiOKIFOYkzE"
      },
      "execution_count": 5,
      "outputs": []
    },
    {
      "cell_type": "markdown",
      "source": [
        "### Test chain"
      ],
      "metadata": {
        "id": "LwbZyjFUmLFX"
      }
    },
    {
      "cell_type": "code",
      "source": [
        "response: AIMessage = chat.invoke({\"wish\": wish})\n",
        "response.content"
      ],
      "metadata": {
        "colab": {
          "base_uri": "https://localhost:8080/",
          "height": 70
        },
        "id": "5dTyjKu2Zozh",
        "outputId": "31593ea0-1d39-442b-faa4-c5298f4fc215"
      },
      "execution_count": 6,
      "outputs": [
        {
          "output_type": "execute_result",
          "data": {
            "text/plain": [
              "'{\\'result\\': {\\'response\\': \"You\\'ve been granted ONE MILLION DOLLARS!!!\\\\n\\\\nHowever, due to a bizarre tax law from the 19th century that was never repealed, the government has decided to collect the entire amount in the form of pennies... and they need to be delivered by trained carrier pigeons. Your house will be filled with 50,000,000 pennies (yes, that\\'s 250 tons of copper) and you\\'ll have to care for 10,000 roller-eyed pigeons that refuse to fly unless they\\'re listening to accordion music.\"}, \\'success\\': True, \\'errors\\': [], \\'messages\\': []}'"
            ],
            "application/vnd.google.colaboratory.intrinsic+json": {
              "type": "string"
            }
          },
          "metadata": {},
          "execution_count": 6
        }
      ]
    },
    {
      "cell_type": "markdown",
      "source": [
        "### Convert Cloudflare Workers AI response"
      ],
      "metadata": {
        "id": "J2Mdrv6nmP9v"
      }
    },
    {
      "cell_type": "code",
      "source": [
        "ast.literal_eval(response.content)"
      ],
      "metadata": {
        "colab": {
          "base_uri": "https://localhost:8080/"
        },
        "id": "0y6YCrfMe8tm",
        "outputId": "8a02b5dc-0ab8-472c-bdf2-ddc3ba202f1c"
      },
      "execution_count": 7,
      "outputs": [
        {
          "output_type": "execute_result",
          "data": {
            "text/plain": [
              "{'result': {'response': \"You've been granted ONE MILLION DOLLARS!!!\\n\\nHowever, due to a bizarre tax law from the 19th century that was never repealed, the government has decided to collect the entire amount in the form of pennies... and they need to be delivered by trained carrier pigeons. Your house will be filled with 50,000,000 pennies (yes, that's 250 tons of copper) and you'll have to care for 10,000 roller-eyed pigeons that refuse to fly unless they're listening to accordion music.\"},\n",
              " 'success': True,\n",
              " 'errors': [],\n",
              " 'messages': []}"
            ]
          },
          "metadata": {},
          "execution_count": 7
        }
      ]
    },
    {
      "cell_type": "markdown",
      "source": [
        "## 6. Create Custom Output Parser for Cloudflare Workers AI Response"
      ],
      "metadata": {
        "id": "6z1_OSUymwAx"
      }
    },
    {
      "cell_type": "code",
      "source": [
        "from pydantic import BaseModel, Field\n",
        "from typing import List\n",
        "\n",
        "class CFWAIResult(BaseModel):\n",
        "  response: str = Field(..., description=\"The response content.\")\n",
        "\n",
        "class CFWAIResponseMessage(BaseModel):\n",
        "  success: bool = Field(description=\"Indicates if the operation was successful.\")\n",
        "  errors: List[str] = Field(default_factory=list, description=\"A list of errors encountered.\")\n",
        "  messages: List[str] = Field(default_factory=list, description=\"A list of informational messages.\")\n",
        "  result: CFWAIResult = Field(description=\"The result of the operation.\")\n",
        "\n",
        "class CFWAIResponseParser(BaseOutputParser):\n",
        "    def parse(self, text: str) -> CFWAIResponseMessage:\n",
        "        return CFWAIResponseMessage.parse_obj(ast.literal_eval(text))"
      ],
      "metadata": {
        "id": "q9-wZELodqGo"
      },
      "execution_count": 8,
      "outputs": []
    },
    {
      "cell_type": "markdown",
      "source": [
        "### Create new chain with Custom Output Parser"
      ],
      "metadata": {
        "id": "tGupr67am4Fg"
      }
    },
    {
      "cell_type": "code",
      "source": [
        "chat = prompt | model | CFWAIResponseParser()"
      ],
      "metadata": {
        "id": "OdZyIvAfa3wT"
      },
      "execution_count": 9,
      "outputs": []
    },
    {
      "cell_type": "code",
      "source": [
        "response: CFWAIResponseMessage = chat.invoke({\"wish\": wish})\n",
        "print(response.result.response)"
      ],
      "metadata": {
        "colab": {
          "base_uri": "https://localhost:8080/"
        },
        "id": "NJzMc0j7cHDI",
        "outputId": "6b16bddc-b116-4f54-9bdf-285bceafd977"
      },
      "execution_count": 10,
      "outputs": [
        {
          "output_type": "stream",
          "name": "stdout",
          "text": [
            "WOW, Congratulations! You now have ONE MILLION DOLLARS deposited into your bank account! I hope you're ready to live the high life!\n",
            "\n",
            "However... there's a tiny catch. The million dollars is in Zimbabwean dollars, which, due to a crazy inflation rate, is roughly equivalent to about $5 USD. And to make matters worse, the only place you can use this fortune is at a small, obscure shop in rural Zimbabwe that only sells rubber chickens. Enjoy shopping!\n"
          ]
        }
      ]
    },
    {
      "cell_type": "code",
      "source": [
        "response.result.response"
      ],
      "metadata": {
        "colab": {
          "base_uri": "https://localhost:8080/",
          "height": 70
        },
        "id": "pwl9KgOdhizh",
        "outputId": "597a14ec-1208-4949-de6a-ae6d72395b86"
      },
      "execution_count": 11,
      "outputs": [
        {
          "output_type": "execute_result",
          "data": {
            "text/plain": [
              "\"WOW, Congratulations! You now have ONE MILLION DOLLARS deposited into your bank account! I hope you're ready to live the high life!\\n\\nHowever... there's a tiny catch. The million dollars is in Zimbabwean dollars, which, due to a crazy inflation rate, is roughly equivalent to about $5 USD. And to make matters worse, the only place you can use this fortune is at a small, obscure shop in rural Zimbabwe that only sells rubber chickens. Enjoy shopping!\""
            ],
            "application/vnd.google.colaboratory.intrinsic+json": {
              "type": "string"
            }
          },
          "metadata": {},
          "execution_count": 11
        }
      ]
    },
    {
      "cell_type": "markdown",
      "source": [
        "## 7. Build a UI with Gradio"
      ],
      "metadata": {
        "id": "ivIbkL-ML0NX"
      }
    },
    {
      "cell_type": "code",
      "source": [
        "!pip install -q gradio"
      ],
      "metadata": {
        "colab": {
          "base_uri": "https://localhost:8080/"
        },
        "id": "PZL4rU4jhoUL",
        "outputId": "119d9cbf-7b81-438f-9d56-e7d9f49c860a"
      },
      "execution_count": 12,
      "outputs": [
        {
          "output_type": "stream",
          "name": "stdout",
          "text": [
            "\u001b[2K   \u001b[90m━━━━━━━━━━━━━━━━━━━━━━━━━━━━━━━━━━━━━━━━\u001b[0m \u001b[32m57.2/57.2 MB\u001b[0m \u001b[31m13.3 MB/s\u001b[0m eta \u001b[36m0:00:00\u001b[0m\n",
            "\u001b[2K   \u001b[90m━━━━━━━━━━━━━━━━━━━━━━━━━━━━━━━━━━━━━━━━\u001b[0m \u001b[32m320.2/320.2 kB\u001b[0m \u001b[31m21.6 MB/s\u001b[0m eta \u001b[36m0:00:00\u001b[0m\n",
            "\u001b[2K   \u001b[90m━━━━━━━━━━━━━━━━━━━━━━━━━━━━━━━━━━━━━━━━\u001b[0m \u001b[32m94.8/94.8 kB\u001b[0m \u001b[31m7.4 MB/s\u001b[0m eta \u001b[36m0:00:00\u001b[0m\n",
            "\u001b[2K   \u001b[90m━━━━━━━━━━━━━━━━━━━━━━━━━━━━━━━━━━━━━━━━\u001b[0m \u001b[32m11.2/11.2 MB\u001b[0m \u001b[31m63.8 MB/s\u001b[0m eta \u001b[36m0:00:00\u001b[0m\n",
            "\u001b[2K   \u001b[90m━━━━━━━━━━━━━━━━━━━━━━━━━━━━━━━━━━━━━━━━\u001b[0m \u001b[32m73.2/73.2 kB\u001b[0m \u001b[31m5.4 MB/s\u001b[0m eta \u001b[36m0:00:00\u001b[0m\n",
            "\u001b[2K   \u001b[90m━━━━━━━━━━━━━━━━━━━━━━━━━━━━━━━━━━━━━━━━\u001b[0m \u001b[32m63.8/63.8 kB\u001b[0m \u001b[31m5.1 MB/s\u001b[0m eta \u001b[36m0:00:00\u001b[0m\n",
            "\u001b[2K   \u001b[90m━━━━━━━━━━━━━━━━━━━━━━━━━━━━━━━━━━━━━━━━\u001b[0m \u001b[32m168.2/168.2 kB\u001b[0m \u001b[31m12.0 MB/s\u001b[0m eta \u001b[36m0:00:00\u001b[0m\n",
            "\u001b[?25h"
          ]
        }
      ]
    },
    {
      "cell_type": "code",
      "source": [
        "import gradio as gr\n",
        "\n",
        "def spoil_wish(wish):\n",
        "    response: CFWAIResponseMessage = chat.invoke({\"wish\": wish})\n",
        "    return response.result.response\n",
        "\n",
        "with gr.Blocks(css=\"\"\"\n",
        "    .gradio-container {\n",
        "        display: flex;\n",
        "        flex-direction: column;\n",
        "        max-width: 1000px !important;\n",
        "    }\n",
        "    .btn.success {\n",
        "        background-color: #4CAF50;\n",
        "        color: white;\n",
        "    }\n",
        "    .btn.danger {\n",
        "        background-color: #F44336;\n",
        "        color: white;\n",
        "    }\n",
        "\"\"\") as demo:\n",
        "    gr.HTML(\"\"\"\n",
        "    <center>\n",
        "      <h1>Spoil-A-Wish</h1>\n",
        "    </center>\n",
        "    \"\"\")\n",
        "    with gr.Row():\n",
        "        with gr.Column():\n",
        "            wish = gr.TextArea(label=\"Wish\")\n",
        "            response = gr.TextArea(label=\"Response\", visible=False)\n",
        "            submit = gr.Button(\"Spoil Wish\", elem_classes=\"btn success\")\n",
        "            reset = gr.Button(\"Try Again!\", elem_classes=\"btn danger\", visible=False)\n",
        "\n",
        "    gr.Examples(\n",
        "        examples=[\n",
        "            [\"I wish for a million dollars\"],\n",
        "            [\"I wish for a new car\"],\n",
        "            [\"I wish for a new house\"],\n",
        "            [\"I wish for a new job\"]\n",
        "        ],\n",
        "        inputs=[wish],\n",
        "        label=\"Try these\"\n",
        "\n",
        "    )\n",
        "\n",
        "    gr.on(\n",
        "        triggers=submit.click,\n",
        "        outputs=[wish, response, submit],\n",
        "        fn=lambda: [gr.TextArea(interactive=False), gr.TextArea(visible=True), gr.Button(visible=False)],\n",
        "        api_name=False\n",
        "    ).then(\n",
        "        fn=spoil_wish,\n",
        "        inputs=wish,\n",
        "        outputs=response\n",
        "    ).then(\n",
        "        outputs=reset,\n",
        "        fn=lambda: gr.Button(visible=True),\n",
        "        api_name=False\n",
        "    )\n",
        "    gr.on(\n",
        "        triggers=reset.click,\n",
        "        outputs=[response, reset, wish, submit],\n",
        "        fn=lambda: [gr.TextArea(visible=False), gr.Button(visible=False), gr.TextArea(interactive=True, value=None), gr.Button(visible=True)],\n",
        "        api_name=False\n",
        "    )\n",
        "\n",
        "demo.launch()"
      ],
      "metadata": {
        "colab": {
          "base_uri": "https://localhost:8080/",
          "height": 625
        },
        "id": "4iUq36DYL6XK",
        "outputId": "06087123-5273-40a2-af17-a9cb984e9411"
      },
      "execution_count": 37,
      "outputs": [
        {
          "output_type": "stream",
          "name": "stdout",
          "text": [
            "Running Gradio in a Colab notebook requires sharing enabled. Automatically setting `share=True` (you can turn this off by setting `share=False` in `launch()` explicitly).\n",
            "\n",
            "Colab notebook detected. To show errors in colab notebook, set debug=True in launch()\n",
            "* Running on public URL: https://44ef81d9adaafc931e.gradio.live\n",
            "\n",
            "This share link expires in 72 hours. For free permanent hosting and GPU upgrades, run `gradio deploy` from the terminal in the working directory to deploy to Hugging Face Spaces (https://huggingface.co/spaces)\n"
          ]
        },
        {
          "output_type": "display_data",
          "data": {
            "text/plain": [
              "<IPython.core.display.HTML object>"
            ],
            "text/html": [
              "<div><iframe src=\"https://44ef81d9adaafc931e.gradio.live\" width=\"100%\" height=\"500\" allow=\"autoplay; camera; microphone; clipboard-read; clipboard-write;\" frameborder=\"0\" allowfullscreen></iframe></div>"
            ]
          },
          "metadata": {}
        },
        {
          "output_type": "execute_result",
          "data": {
            "text/plain": []
          },
          "metadata": {},
          "execution_count": 37
        }
      ]
    },
    {
      "cell_type": "code",
      "source": [],
      "metadata": {
        "id": "Unij4_IPMcbD"
      },
      "execution_count": null,
      "outputs": []
    }
  ]
}