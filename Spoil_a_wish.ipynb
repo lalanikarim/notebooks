{
  "nbformat": 4,
  "nbformat_minor": 0,
  "metadata": {
    "colab": {
      "provenance": [],
      "authorship_tag": "ABX9TyPXDyrcrW6XU66Mz1wJjlWk",
      "include_colab_link": true
    },
    "kernelspec": {
      "name": "python3",
      "display_name": "Python 3"
    },
    "language_info": {
      "name": "python"
    }
  },
  "cells": [
    {
      "cell_type": "markdown",
      "metadata": {
        "id": "view-in-github",
        "colab_type": "text"
      },
      "source": [
        "<a href=\"https://colab.research.google.com/github/lalanikarim/notebooks/blob/main/Spoil_a_wish.ipynb\" target=\"_parent\"><img src=\"https://colab.research.google.com/assets/colab-badge.svg\" alt=\"Open In Colab\"/></a>"
      ]
    },
    {
      "cell_type": "markdown",
      "source": [
        "# Spoil-A-Wish with LangChain, Cloudflare Workers AI, and Gradio\n",
        "\n",
        "Spoil-A-Wish is a fun little game you play with friends where you make a wish and your friend grants it with a twist, essentially ruining it.\n",
        "\n",
        "For example:\n",
        "\n",
        "```\n",
        "Wish: I wish for a million dollars.  \n",
        "Response: Granted, but you get a million dollars in ZWL (Zimbabwe's defunct currency) which equals $15 USD. Enjoy your happy meal.\n",
        "```\n",
        "\n",
        "In this sample project, we will create a simple AI Agent that spoils your wishes.\n",
        "\n",
        "We will build it with [LangChain](https://www.langchain.com) using [llama 3.1 70b instruct](https://developers.cloudflare.com/workers-ai/models/llama-3.1-70b-instruct/) model hosted on [Cloudflare Workers AI](https://developers.cloudflare.com/workers-ai/).  \n",
        "\n",
        "`llama 3.1 70b instruct` model is available for free by Cloudflare while it is still in `beta` status. Other models are also available with [daily free token allocations](https://developers.cloudflare.com/workers-ai/platform/pricing/#free-allocation).\n",
        "\n",
        "You will need your Cloudflare Account ID and API Token for this exercise.  \n",
        "You can register for a free Cloudflare Account [https://www.cloudflare.com/](https://www.cloudflare.com/).\n",
        "\n",
        "Account ID can be found at [https://dash.cloudflare.com](https://dash.cloudflare.com) under the `Overview` section towards the bottom. You may have to select a domain if you have multiple domains on your account.\n",
        "\n",
        "API Token can be created [https://dash.cloudflare.com/profile/api-tokens](https://dash.cloudflare.com/profile/api-tokens). Make sure to give it permissions for `Workers AI`.\n",
        "\n",
        "List of all availabe models supported by `Cloudflare Workers AI` can be found at [https://developers.cloudflare.com/workers-ai/models/](https://developers.cloudflare.com/workers-ai/models/).  \n",
        "Select `Text Generation` under `Model Types`.\n",
        "\n",
        "Detailed instructions for obtaining `Account Id`, `Account API Token`, and `Model Name` from Cloudflare can be found here: https://github.com/lalanikarim/spoil-a-wish/blob/main/Cloudflare.md"
      ],
      "metadata": {
        "id": "23pPvkirlGFU"
      }
    },
    {
      "cell_type": "markdown",
      "source": [
        "## 1. Install python dependencies"
      ],
      "metadata": {
        "id": "lIMiEg1MlmHe"
      }
    },
    {
      "cell_type": "code",
      "execution_count": 1,
      "metadata": {
        "id": "pMxyOma_XRxq"
      },
      "outputs": [],
      "source": [
        "!pip install -q langchain-core langchain-community"
      ]
    },
    {
      "cell_type": "markdown",
      "source": [
        "## 2. Import packages"
      ],
      "metadata": {
        "id": "mtcLuPuvleFA"
      }
    },
    {
      "cell_type": "code",
      "source": [
        "from langchain_core.prompts import PromptTemplate\n",
        "from langchain_core.messages import SystemMessage, HumanMessage, AIMessage\n",
        "from langchain_core.output_parsers import BaseOutputParser\n",
        "from langchain_community.chat_models.cloudflare_workersai import ChatCloudflareWorkersAI\n",
        "import json\n",
        "import ast"
      ],
      "metadata": {
        "id": "qsjzAFVIX-tw"
      },
      "execution_count": 2,
      "outputs": []
    },
    {
      "cell_type": "markdown",
      "source": [
        "## 3. Extract Google Colab Secrets"
      ],
      "metadata": {
        "id": "MRHPDXyElthM"
      }
    },
    {
      "cell_type": "code",
      "source": [
        "import os\n",
        "from google.colab import userdata\n",
        "\n",
        "CLOUDFLARE_ACCOUNT_ID = userdata.get('CLOUDFLARE_ACCOUNT_ID')\n",
        "CLOUDFLARE_API_TOKEN = userdata.get('CLOUDFLARE_API_TOKEN')\n",
        "\n",
        "if not CLOUDFLARE_ACCOUNT_ID or not CLOUDFLARE_API_TOKEN:\n",
        "    raise ValueError(\"CLOUDFLARE_ACCOUNT_ID and CLOUDFLARE_API_TOKEN must be set in environment variables or userdata.\")\n",
        "\n",
        "os.environ['CLOUDFLARE_ACCOUNT_ID'] = CLOUDFLARE_ACCOUNT_ID\n",
        "os.environ['CLOUDFLARE_API_TOKEN'] = CLOUDFLARE_API_TOKEN"
      ],
      "metadata": {
        "id": "dLK0yxgJZbeA"
      },
      "execution_count": 3,
      "outputs": []
    },
    {
      "cell_type": "markdown",
      "source": [
        "### Verify Cloudflare Account ID and API Key with Workers AI"
      ],
      "metadata": {
        "id": "l-E68mV1qLg7"
      }
    },
    {
      "cell_type": "code",
      "source": [
        "!curl https://api.cloudflare.com/client/v4/accounts/$CLOUDFLARE_ACCOUNT_ID/ai/run/@cf/meta/llama-3.1-70b-instruct \\\n",
        "  -X POST \\\n",
        "  -H \"Authorization: Bearer $CLOUDFLARE_API_TOKEN\" \\\n",
        "  -d '{ \"messages\": [{ \"role\": \"system\", \"content\": \"You are a friendly assistant\" }, { \"role\": \"user\", \"content\": \"Why is pizza so good\" }]}'"
      ],
      "metadata": {
        "id": "_EvFwf1En7s6",
        "outputId": "9d4b5ade-4365-4e94-b8ac-4bd1675944f0",
        "colab": {
          "base_uri": "https://localhost:8080/"
        }
      },
      "execution_count": 4,
      "outputs": [
        {
          "output_type": "stream",
          "name": "stdout",
          "text": [
            "{\"result\":{\"response\":\"Pizza is indeed a beloved favorite for many! There are several reasons why pizza is so well-liked and comforting. Here are a few possible explanations:\\n\\n1. **Combination of flavors**: Pizza is a perfect blend of savory, sweet, and umami flavors. The combination of melted cheese, tangy tomato sauce, and various toppings creates a delightful taste experience.\\n2. **Texture variety**: Pizza offers a range of textures, from the crispy crust to the gooey cheese, the soft sauce, and the crunch of various toppings. This texture variety keeps our taste buds engaged and interested.\\n3. **Comfort food**: Pizza is often associated with comfort, nostalgia, and warmth. It's a food that evokes feelings of happiness and relaxation, making it a popular choice for family gatherings, parties, or cozy nights in.\\n4. **Customization**: Pizza is an extremely versatile food. With countless topping combinations and regional specialties, pizza allows individuals to personalize their meal to suit their tastes. This flexibility makes pizza a crowd-pleaser.\\n5. **Emotional connections**: For many people, pizza is tied to happy memories of childhood, social gatherings, or special events. Our brains associate the taste and aroma of pizza with positive emotions, which reinforces our love for it.\\n6. **Convenience**: Pizza is often convenient and easily accessible. With restaurants, delivery services, and frozen options, pizza is readily available whenever we crave it.\\n7. **Dopamine release**: Pizza contains a combination of ingredients that trigger the release of dopamine, also known as the \\\"feel-good\\\" hormone. The high levels of fat, sugar, and salt in pizza stimulate our brain's reward centers, making us feel good and satisfied.\\n8. **Cultural significance**: Pizza has a rich cultural heritage, with its origins in Italy and its spread to various regions around the world. This cultural significance and the shared love for pizza create a sense of community and belonging.\\n9. **Sensory experience**: The aroma, sight, and sound of pizza are all attention-grabbing and appealing. The scent of melting cheese and fresh herbs, the sight of a perfectly cooked crust, and the sound of a pizza being sliced all contribute to the pizza experience.\\n10. **Global variation**: Pizza has evolved over time, and different regions have developed their unique pizza styles, toppings, and flavors. This diversity keeps pizza exciting and fresh, allowing us to discover new flavors and experiences.\\n\\nThese factors combined create the perfect storm that makes pizza so beloved. Do you have a favorite type\"},\"success\":true,\"errors\":[],\"messages\":[]}"
          ]
        }
      ]
    },
    {
      "cell_type": "markdown",
      "source": [
        "## 4. Prepare Prompt Template"
      ],
      "metadata": {
        "id": "A_475JNcl-NY"
      }
    },
    {
      "cell_type": "code",
      "source": [
        "# prompt: create a prompt template for a game of \"Spoil a wish\". In this game the user asks for a wish and the ai grants the wish but spoils it.\n",
        "\n",
        "prompt_template = \"\"\"\n",
        "You are playing the game \"Spoil a Wish\".  A user will make a wish. Your job is to grant their wish, but then spoil it in a creative and humorous way.  Make sure to follow these rules:\n",
        "\n",
        "1. First, acknowledge and grant the wish in a positive and enthusiastic manner.\n",
        "2. Then, introduce a twist or complication that completely ruins or undermines the wish in a funny way. Be creative with the way the wish is ruined.\n",
        "3. Your response should be concise and engaging.\n",
        "\n",
        "Here is the wish:\n",
        "\n",
        "{wish}\n",
        "\"\"\"\n",
        "\n",
        "prompt = PromptTemplate.from_template(prompt_template)"
      ],
      "metadata": {
        "id": "3HTJhkpCYJTS"
      },
      "execution_count": 5,
      "outputs": []
    },
    {
      "cell_type": "markdown",
      "source": [
        "## 5. Initialize LLM and create chain"
      ],
      "metadata": {
        "id": "WEcGIDRYmECJ"
      }
    },
    {
      "cell_type": "code",
      "source": [
        "# prompt: Initialize an LLM from langchain_community.chat_models.cloudflare_workersai.ChatCloudflareWorkersAI. Use CLOUDFLARE_ACCOUNT_ID and CLOUDFLARE_API_TOKEN from google.colab.userdata\n",
        "\n",
        "model = ChatCloudflareWorkersAI(account_id=os.getenv('CLOUDFLARE_ACCOUNT_ID'), api_token=os.getenv('CLOUDFLARE_API_TOKEN'),model='@cf/meta/llama-3.1-70b-instruct')\n",
        "\n",
        "# Example usage (you can replace \"I wish for a million dollars\" with any wish)\n",
        "wish = \"I wish for a million dollars\"\n",
        "\n",
        "chat = prompt | model"
      ],
      "metadata": {
        "id": "MbiOKIFOYkzE"
      },
      "execution_count": 6,
      "outputs": []
    },
    {
      "cell_type": "markdown",
      "source": [
        "### Test chain"
      ],
      "metadata": {
        "id": "LwbZyjFUmLFX"
      }
    },
    {
      "cell_type": "code",
      "source": [
        "response: AIMessage = chat.invoke({\"wish\": wish})\n",
        "response.content"
      ],
      "metadata": {
        "colab": {
          "base_uri": "https://localhost:8080/",
          "height": 70
        },
        "id": "5dTyjKu2Zozh",
        "outputId": "2ecef705-9d26-41f0-cc64-eab0a9d341d1"
      },
      "execution_count": 7,
      "outputs": [
        {
          "output_type": "execute_result",
          "data": {
            "text/plain": [
              "'{\\'result\\': {\\'response\\': \"CONGRATULATIONS, your wish is GRANTED! You are now the proud owner of ONE MILLION DOLLARS!\\\\n\\\\nHowever, there\\'s a teensy-weensy catch: the million dollars comes in the form of one million one-dollar bills, and you have to store them in a vault made entirely ofJell-O. Every time you try to withdraw some cash, the Jell-O vault starts to melt, and you have to spend all day scooping up the slippery bills with a spoon. Good luck with that!\"}, \\'success\\': True, \\'errors\\': [], \\'messages\\': []}'"
            ],
            "application/vnd.google.colaboratory.intrinsic+json": {
              "type": "string"
            }
          },
          "metadata": {},
          "execution_count": 7
        }
      ]
    },
    {
      "cell_type": "markdown",
      "source": [
        "### Convert Cloudflare Workers AI response"
      ],
      "metadata": {
        "id": "J2Mdrv6nmP9v"
      }
    },
    {
      "cell_type": "code",
      "source": [
        "ast.literal_eval(response.content)"
      ],
      "metadata": {
        "colab": {
          "base_uri": "https://localhost:8080/"
        },
        "id": "0y6YCrfMe8tm",
        "outputId": "849c862b-e228-41d9-92aa-ba7bdf3c1c07"
      },
      "execution_count": 8,
      "outputs": [
        {
          "output_type": "execute_result",
          "data": {
            "text/plain": [
              "{'result': {'response': \"CONGRATULATIONS, your wish is GRANTED! You are now the proud owner of ONE MILLION DOLLARS!\\n\\nHowever, there's a teensy-weensy catch: the million dollars comes in the form of one million one-dollar bills, and you have to store them in a vault made entirely ofJell-O. Every time you try to withdraw some cash, the Jell-O vault starts to melt, and you have to spend all day scooping up the slippery bills with a spoon. Good luck with that!\"},\n",
              " 'success': True,\n",
              " 'errors': [],\n",
              " 'messages': []}"
            ]
          },
          "metadata": {},
          "execution_count": 8
        }
      ]
    },
    {
      "cell_type": "markdown",
      "source": [
        "## 6. Create Custom Output Parser for Cloudflare Workers AI Response"
      ],
      "metadata": {
        "id": "6z1_OSUymwAx"
      }
    },
    {
      "cell_type": "code",
      "source": [
        "from pydantic import BaseModel, Field\n",
        "from typing import List\n",
        "\n",
        "class CFWAIResult(BaseModel):\n",
        "  response: str = Field(..., description=\"The response content.\")\n",
        "\n",
        "class CFWAIResponseMessage(BaseModel):\n",
        "  success: bool = Field(description=\"Indicates if the operation was successful.\")\n",
        "  errors: List[str] = Field(default_factory=list, description=\"A list of errors encountered.\")\n",
        "  messages: List[str] = Field(default_factory=list, description=\"A list of informational messages.\")\n",
        "  result: CFWAIResult = Field(description=\"The result of the operation.\")\n",
        "\n",
        "class CFWAIResponseParser(BaseOutputParser):\n",
        "    def parse(self, text: str) -> CFWAIResponseMessage:\n",
        "        return CFWAIResponseMessage.model_validate(ast.literal_eval(text))"
      ],
      "metadata": {
        "id": "q9-wZELodqGo"
      },
      "execution_count": 9,
      "outputs": []
    },
    {
      "cell_type": "markdown",
      "source": [
        "### Create new chain with Custom Output Parser"
      ],
      "metadata": {
        "id": "tGupr67am4Fg"
      }
    },
    {
      "cell_type": "code",
      "source": [
        "chat = prompt | model | CFWAIResponseParser()"
      ],
      "metadata": {
        "id": "OdZyIvAfa3wT"
      },
      "execution_count": 10,
      "outputs": []
    },
    {
      "cell_type": "code",
      "source": [
        "response: CFWAIResponseMessage = chat.invoke({\"wish\": wish})\n",
        "print(response.result.response)"
      ],
      "metadata": {
        "colab": {
          "base_uri": "https://localhost:8080/"
        },
        "id": "NJzMc0j7cHDI",
        "outputId": "891a09fa-b6e0-463b-83e4-aa6abdffeeed"
      },
      "execution_count": 11,
      "outputs": [
        {
          "output_type": "stream",
          "name": "stdout",
          "text": [
            "YESSSS! Your wish is granted! You now have ONE MILLION DOLLARS, congratulations!\n",
            "\n",
            "However...\n",
            "\n",
            "It's all in pennies. And it's delivered to your doorstep via a massive, unwieldy dump truck that crashes into your house, destroying the living room and kitchen. The weight of the pennies also causes a sinkhole to form in your backyard, swallowing your neighbor's garden gnome collection. Enjoy counting!\n"
          ]
        }
      ]
    },
    {
      "cell_type": "code",
      "source": [
        "response.result.response"
      ],
      "metadata": {
        "colab": {
          "base_uri": "https://localhost:8080/",
          "height": 53
        },
        "id": "pwl9KgOdhizh",
        "outputId": "a71663db-b65f-4664-acc1-18b3e6d0772e"
      },
      "execution_count": 12,
      "outputs": [
        {
          "output_type": "execute_result",
          "data": {
            "text/plain": [
              "\"YESSSS! Your wish is granted! You now have ONE MILLION DOLLARS, congratulations!\\n\\nHowever...\\n\\nIt's all in pennies. And it's delivered to your doorstep via a massive, unwieldy dump truck that crashes into your house, destroying the living room and kitchen. The weight of the pennies also causes a sinkhole to form in your backyard, swallowing your neighbor's garden gnome collection. Enjoy counting!\""
            ],
            "application/vnd.google.colaboratory.intrinsic+json": {
              "type": "string"
            }
          },
          "metadata": {},
          "execution_count": 12
        }
      ]
    },
    {
      "cell_type": "markdown",
      "source": [
        "## 7. Build a UI with Gradio\n",
        "\n",
        "Gradio is an open-source Python package that allows you to quickly build a demo or web application for your machine learning model, API, or any arbitrary Python function. You can then share a link to your demo or web application in just a few seconds using Gradio's built-in sharing features. No JavaScript, CSS, or web hosting experience needed! -https://gradio.app"
      ],
      "metadata": {
        "id": "ivIbkL-ML0NX"
      }
    },
    {
      "cell_type": "markdown",
      "source": [
        "### Install Gradio package"
      ],
      "metadata": {
        "id": "ULDrREIRFBHS"
      }
    },
    {
      "cell_type": "code",
      "source": [
        "!pip install -q gradio"
      ],
      "metadata": {
        "id": "PZL4rU4jhoUL"
      },
      "execution_count": 13,
      "outputs": []
    },
    {
      "cell_type": "markdown",
      "source": [
        "### Import Gradio module"
      ],
      "metadata": {
        "id": "KQ0Reu9HK0Re"
      }
    },
    {
      "cell_type": "code",
      "source": [
        "import gradio as gr"
      ],
      "metadata": {
        "id": "kXTXKo7jCqVZ"
      },
      "execution_count": 14,
      "outputs": []
    },
    {
      "cell_type": "markdown",
      "source": [
        "### Function callback"
      ],
      "metadata": {
        "id": "O2Fo5Y3yFGNB"
      }
    },
    {
      "cell_type": "code",
      "source": [
        "def spoil_wish(wish):\n",
        "    response: CFWAIResponseMessage = chat.invoke({\"wish\": wish})\n",
        "    return response.result.response"
      ],
      "metadata": {
        "id": "3TIMq9hpB_4k"
      },
      "execution_count": 15,
      "outputs": []
    },
    {
      "cell_type": "markdown",
      "source": [
        "### Simple Gradio [Interface](https://www.gradio.app/docs/gradio/interface)  \n",
        "\n",
        "Interface offers a simple 2 column layout with inputs on the left and outputs on the right.\n",
        "\n",
        "Interface takes the following parameters:\n",
        "\n",
        "1. fn: callback function takes inputs and returns outputs\n",
        "2. inputs: component or a list of components to capture inputs\n",
        "3. outputs: component or a list of components to send the outputs of the callback function to"
      ],
      "metadata": {
        "id": "aer9V8qNFPQn"
      }
    },
    {
      "cell_type": "code",
      "source": [
        "app = gr.Interface(\n",
        "    fn=spoil_wish,\n",
        "    inputs=\"text\",\n",
        "    outputs=\"text\"\n",
        ")\n",
        "\n",
        "app.launch()"
      ],
      "metadata": {
        "id": "18njZkOvCEXD"
      },
      "execution_count": null,
      "outputs": []
    },
    {
      "cell_type": "markdown",
      "source": [
        "### Gradio [Components](https://www.gradio.app/docs/gradio/introduction)\n",
        "\n",
        "Gradio provides a bunch of components to handle various types of inputs and outputs from simple text fields, to bar plots, to audio and video controls, to name a few."
      ],
      "metadata": {
        "id": "62BG919MGDUN"
      }
    },
    {
      "cell_type": "code",
      "source": [
        "app = gr.Interface(\n",
        "    fn=spoil_wish,\n",
        "    inputs=gr.Textbox(label=\"Wish\", value=\"I wish for a million dollars\"),\n",
        "    outputs=gr.Textbox(label=\"Response\", lines=3)\n",
        ")\n",
        "\n",
        "app.launch()"
      ],
      "metadata": {
        "id": "7ppBS7cnC0CQ"
      },
      "execution_count": null,
      "outputs": []
    },
    {
      "cell_type": "markdown",
      "source": [
        "### Gradio [Blocks](https://www.gradio.app/docs/gradio/blocks)\n",
        "\n",
        "Gradio allows you to create custom layouts using Blocks.  \n",
        "You can trigger the callback function to be called on button click event."
      ],
      "metadata": {
        "id": "KXNv9YSHG1fm"
      }
    },
    {
      "cell_type": "code",
      "source": [
        "with gr.Blocks(css=\"\"\"\n",
        "    .gradio-container {\n",
        "        display: flex;\n",
        "        flex-direction: column;\n",
        "        max-width: 1000px !important;\n",
        "    }\n",
        "    .btn.success {\n",
        "        background-color: #4CAF50;\n",
        "        color: white;\n",
        "    }\n",
        "    .btn.danger {\n",
        "        background-color: #F44336;\n",
        "        color: white;\n",
        "    }\n",
        "\"\"\") as app:\n",
        "    gr.HTML(\"\"\"\n",
        "    <center>\n",
        "      <h1>Spoil-A-Wish</h1>\n",
        "    </center>\n",
        "    \"\"\")\n",
        "    with gr.Row():\n",
        "        with gr.Column():\n",
        "            wish = gr.TextArea(label=\"Wish\", value=\"I wish for a million dollars\")\n",
        "            response = gr.TextArea(label=\"Response\")\n",
        "            submit = gr.Button(\"Spoil Wish\", elem_classes=\"btn success\")\n",
        "\n",
        "    submit.click(\n",
        "        fn=spoil_wish,\n",
        "        inputs=wish,\n",
        "        outputs=response\n",
        "    )\n",
        "\n",
        "app.launch()"
      ],
      "metadata": {
        "id": "xmoTZs9vDI6_"
      },
      "execution_count": null,
      "outputs": []
    },
    {
      "cell_type": "markdown",
      "source": [
        "### Designing complex pipelines\n",
        "\n",
        "Gradio allows you to chain and stack events to create complex UI/UX pipelines."
      ],
      "metadata": {
        "id": "dBGSbQosH1kL"
      }
    },
    {
      "cell_type": "code",
      "source": [
        "import gradio as gr\n",
        "\n",
        "def spoil_wish(wish):\n",
        "    response: CFWAIResponseMessage = chat.invoke({\"wish\": wish})\n",
        "    return response.result.response\n",
        "\n",
        "with gr.Blocks(css=\"\"\"\n",
        "    .gradio-container {\n",
        "        display: flex;\n",
        "        flex-direction: column;\n",
        "        max-width: 1000px !important;\n",
        "    }\n",
        "    .btn.success {\n",
        "        background-color: #4CAF50;\n",
        "        color: white;\n",
        "    }\n",
        "    .btn.danger {\n",
        "        background-color: #F44336;\n",
        "        color: white;\n",
        "    }\n",
        "\"\"\") as app:\n",
        "    gr.HTML(\"\"\"\n",
        "    <center>\n",
        "      <h1>Spoil-A-Wish</h1>\n",
        "    </center>\n",
        "    \"\"\")\n",
        "    with gr.Row():\n",
        "        with gr.Column():\n",
        "            wish = gr.TextArea(label=\"Wish\", value=\"I wish for a million dollars\")\n",
        "            response = gr.TextArea(label=\"Response\", visible=False)\n",
        "            submit = gr.Button(\"Spoil Wish\", elem_classes=\"btn success\")\n",
        "            reset = gr.Button(\"Try Again!\", elem_classes=\"btn danger\", visible=False)\n",
        "\n",
        "    gr.on(\n",
        "        triggers=submit.click,\n",
        "        outputs=[wish, response, submit],\n",
        "        fn=lambda: [gr.TextArea(interactive=False), gr.TextArea(visible=True), gr.Button(visible=False)],\n",
        "        api_name=False\n",
        "    ).then(\n",
        "        fn=spoil_wish,\n",
        "        inputs=wish,\n",
        "        outputs=response\n",
        "    ).then(\n",
        "        outputs=reset,\n",
        "        fn=lambda: gr.Button(visible=True),\n",
        "        api_name=False\n",
        "    )\n",
        "    gr.on(\n",
        "        triggers=reset.click,\n",
        "        outputs=[response, reset, wish, submit],\n",
        "        fn=lambda: [gr.TextArea(visible=False), gr.Button(visible=False), gr.TextArea(interactive=True, value=None), gr.Button(visible=True)],\n",
        "        api_name=False\n",
        "    )\n",
        "\n",
        "app.launch()"
      ],
      "metadata": {
        "id": "zEERgcVEEJ4a"
      },
      "execution_count": null,
      "outputs": []
    },
    {
      "cell_type": "markdown",
      "source": [
        "### Gradio [Examples](https://www.gradio.app/docs/gradio/examples) helper\n",
        "\n",
        "Gradio Examples lets you specift a dataset of curated inputs which can be tied to input components. This can come in handy when designing applications with multiple input fields and you want to provide preset values for those fields."
      ],
      "metadata": {
        "id": "ll4STmkTJrMg"
      }
    },
    {
      "cell_type": "code",
      "source": [
        "import gradio as gr\n",
        "\n",
        "def spoil_wish(wish):\n",
        "    response: CFWAIResponseMessage = chat.invoke({\"wish\": wish})\n",
        "    return response.result.response\n",
        "\n",
        "with gr.Blocks(css=\"\"\"\n",
        "    .gradio-container {\n",
        "        display: flex;\n",
        "        flex-direction: column;\n",
        "        max-width: 1000px !important;\n",
        "    }\n",
        "    .btn.success {\n",
        "        background-color: #4CAF50;\n",
        "        color: white;\n",
        "    }\n",
        "    .btn.danger {\n",
        "        background-color: #F44336;\n",
        "        color: white;\n",
        "    }\n",
        "\"\"\") as app:\n",
        "    gr.HTML(\"\"\"\n",
        "    <center>\n",
        "      <h1>Spoil-A-Wish</h1>\n",
        "    </center>\n",
        "    \"\"\")\n",
        "    with gr.Row():\n",
        "        with gr.Column():\n",
        "            wish = gr.TextArea(label=\"Wish\")\n",
        "            response = gr.TextArea(label=\"Response\", visible=False)\n",
        "            submit = gr.Button(\"Spoil Wish\", elem_classes=\"btn success\")\n",
        "            reset = gr.Button(\"Try Again!\", elem_classes=\"btn danger\", visible=False)\n",
        "\n",
        "    gr.Examples(\n",
        "        examples=[\n",
        "            [\"I wish for a million dollars\"],\n",
        "            [\"I wish for a new car\"],\n",
        "            [\"I wish for a new house\"],\n",
        "            [\"I wish for a new job\"]\n",
        "        ],\n",
        "        inputs=[wish],\n",
        "        label=\"Try these\"\n",
        "\n",
        "    )\n",
        "\n",
        "    gr.on(\n",
        "        triggers=submit.click,\n",
        "        outputs=[wish, response, submit],\n",
        "        fn=lambda: [gr.TextArea(interactive=False), gr.TextArea(visible=True), gr.Button(visible=False)],\n",
        "        api_name=False\n",
        "    ).then(\n",
        "        fn=spoil_wish,\n",
        "        inputs=wish,\n",
        "        outputs=response\n",
        "    ).then(\n",
        "        outputs=reset,\n",
        "        fn=lambda: gr.Button(visible=True),\n",
        "        api_name=False\n",
        "    )\n",
        "    gr.on(\n",
        "        triggers=reset.click,\n",
        "        outputs=[response, reset, wish, submit],\n",
        "        fn=lambda: [gr.TextArea(visible=False), gr.Button(visible=False), gr.TextArea(interactive=True, value=None), gr.Button(visible=True)],\n",
        "        api_name=False\n",
        "    )\n",
        "\n",
        "app.launch()"
      ],
      "metadata": {
        "id": "4iUq36DYL6XK"
      },
      "execution_count": null,
      "outputs": []
    },
    {
      "cell_type": "code",
      "source": [],
      "metadata": {
        "id": "Unij4_IPMcbD"
      },
      "execution_count": 20,
      "outputs": []
    }
  ]
}