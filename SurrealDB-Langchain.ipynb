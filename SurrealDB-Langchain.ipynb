{
 "cells": [
  {
   "cell_type": "markdown",
   "id": "e6555521-1bfb-47cd-be93-af7226a83dfc",
   "metadata": {},
   "source": [
    "# SurrealDB as a Vectorstore for LangChain\n",
    "## Install packages"
   ]
  },
  {
   "cell_type": "code",
   "execution_count": 1,
   "id": "a3b5eae5-8d77-423f-90d4-d90959293dc6",
   "metadata": {},
   "outputs": [
    {
     "name": "stdout",
     "output_type": "stream",
     "text": [
      "\n",
      "\u001b[1m[\u001b[0m\u001b[34;49mnotice\u001b[0m\u001b[1;39;49m]\u001b[0m\u001b[39;49m A new release of pip is available: \u001b[0m\u001b[31;49m24.1\u001b[0m\u001b[39;49m -> \u001b[0m\u001b[32;49m24.1.2\u001b[0m\n",
      "\u001b[1m[\u001b[0m\u001b[34;49mnotice\u001b[0m\u001b[1;39;49m]\u001b[0m\u001b[39;49m To update, run: \u001b[0m\u001b[32;49mpip install --upgrade pip\u001b[0m\n",
      "Note: you may need to restart the kernel to use updated packages.\n"
     ]
    }
   ],
   "source": [
    "%pip install --upgrade --quiet  surrealdb langchain langchain-community beautifulsoup4 requests"
   ]
  },
  {
   "cell_type": "markdown",
   "id": "009416d3-51b2-440b-860f-6a85c97ecd26",
   "metadata": {},
   "source": [
    "## Import packages"
   ]
  },
  {
   "cell_type": "code",
   "execution_count": 2,
   "id": "53666cb3-b6d5-4f9f-95a2-fdc86b6e73f0",
   "metadata": {},
   "outputs": [],
   "source": [
    "import requests\n",
    "from bs4 import BeautifulSoup\n",
    "from langchain_core.documents import Document\n",
    "from langchain_community.vectorstores import SurrealDBStore\n",
    "from langchain_community.embeddings import HuggingFaceEmbeddings"
   ]
  },
  {
   "cell_type": "markdown",
   "id": "0b714ee0-ceca-4491-b1af-77a70db4b0df",
   "metadata": {},
   "source": [
    "## Scrape features and client testimonials from SurrealDB.com"
   ]
  },
  {
   "cell_type": "code",
   "execution_count": 3,
   "id": "80f6b908-61a0-4bba-9a9a-2a5956824fa2",
   "metadata": {},
   "outputs": [],
   "source": [
    "home_page = requests.get(\"https://surrealdb.com\")\n",
    "soup = BeautifulSoup(home_page.content,'html.parser')\n",
    "features = soup.find(\"div\", class_=\"space-y-32\")\n",
    "clients = soup.find(\"div\", class_=\"space-y-28\")"
   ]
  },
  {
   "cell_type": "code",
   "execution_count": 4,
   "id": "e33e9e68-24e9-426b-80a8-5e283c9d0346",
   "metadata": {},
   "outputs": [],
   "source": [
    "spotlight_feature = [features.find(\"p\").text]"
   ]
  },
  {
   "cell_type": "code",
   "execution_count": 5,
   "id": "46a21361-00d3-443e-8646-640b24c78a09",
   "metadata": {},
   "outputs": [
    {
     "data": {
      "text/plain": [
       "['SurrealDB offers a dynamic and adaptable platform for business. With an integrated suite of cutting-edge database solutions, tools, and services, SurrealDB empowers your workforce to discover innovative answers using products meticulously crafted to meet their requirements.',\n",
       " \"Database, realtime API layer, and security permissions all-in-one\\nSurrealDB combines the database layer, the querying layer, and the API and authentication layer into one platform. Advanced table-based and row-based customisable access permissions allow for granular data access patterns for different types of users. There's no need for custom backend code and security rules with complicated database development.\",\n",
       " 'Query the database with the tools you want. Your data, your choice.\\nSurrealDB is designed to be flexible to use, with support for SurrealQL, GraphQL (coming soon), CRUD support over REST, and JSON-RPC querying and modification over WebSockets. With direct-to-client connection with in-built permissions, SurrealDB speeds up the development process, and fits in seamlessly into any tech stack.']"
      ]
     },
     "execution_count": 5,
     "metadata": {},
     "output_type": "execute_result"
    }
   ],
   "source": [
    "all_features = spotlight_feature + [f\"{feature.text}\\n{feature.next_sibling.text}\" for feature in features.find_all(\"h3\")]\n",
    "all_features[:3]"
   ]
  },
  {
   "cell_type": "code",
   "execution_count": 6,
   "id": "c4f6860c-4538-453d-b1c3-47284636342d",
   "metadata": {},
   "outputs": [],
   "source": [
    "spotlight_client = [clients.find(\"p\").text]"
   ]
  },
  {
   "cell_type": "code",
   "execution_count": 7,
   "id": "2916da74-1476-4585-80a2-7a68749219df",
   "metadata": {},
   "outputs": [
    {
     "data": {
      "text/plain": [
       "['\"Here at Yaacomm we are already using SurrealDB in a significant way for our backend infrastructure, however I believe SurrealDB can play an even bigger role in other areas as well. Being able to embed SurrealDB locally in Android and iOS apps could make it a perfect fit for local caching. Additionally, this would provide us with all the benefits of SurrealDB such as full-text searching and its graph based nature without relying on a network connection.\"',\n",
       " '\"It think it\\'s going to change how we query databases.\"\\n\\nAnup Jadhav\\nDirector, Partner Delivery Success, C360 Cross-Cloud, Salesforce',\n",
       " '\"Throughout my years dealing with database challenges, SurrealDB seems to be a beacon of innovation. Addressing issues like multi-tenancy, blending the best of hybrid & distributed databases, and ensuring unmatched scalability & performance. Oh and btw it had ML integrated in the database - how cool is that! But the true standout? Live queries and change feeds. Such features are not just advancements, they\\'re revolutions in how we handle data. Goes to show the evolution of databases are not over yet!!\"\\n\\nRajani Rao FRSA MBCS\\nR&D Principal Technologist, Aveva']"
      ]
     },
     "execution_count": 7,
     "metadata": {},
     "output_type": "execute_result"
    }
   ],
   "source": [
    "all_clients = spotlight_client + [\n",
    "    f\"{client.text}\\n\\n{client.next_sibling.find(\"h5\").text}\\n{client.next_sibling.find(\"p\").text}\" \n",
    "    for client in clients.find(\"div\", class_=\"flex\").find_all(\"p\", class_=\"text-lg\")\n",
    "]\n",
    "all_clients[:3]"
   ]
  },
  {
   "cell_type": "markdown",
   "id": "b4053392-6784-42be-980a-0513f3224cdf",
   "metadata": {},
   "source": [
    "## Merge features and testimonials into a single list"
   ]
  },
  {
   "cell_type": "code",
   "execution_count": 8,
   "id": "e8b697f0-e6eb-48ba-ba73-4a1c238b3083",
   "metadata": {},
   "outputs": [
    {
     "data": {
      "text/plain": [
       "['SurrealDB offers a dynamic and adaptable platform for business. With an integrated suite of cutting-edge database solutions, tools, and services, SurrealDB empowers your workforce to discover innovative answers using products meticulously crafted to meet their requirements.',\n",
       " 'Advanced inter-document relations and analysis. No JOINs. No pain.\\nWith full graph database functionality, SurrealDB enables more advanced querying and analysis. Records (or vertices) can be connected to one another with edges, each with its own record properties and metadata. Simple extensions to traditional SQL queries allow for multi-table, multi-depth document retrieval, efficiently in the database, without the use of complicated JOINs and without bringing the data down to the client.',\n",
       " 'Realtime live queries and data changes direct to application\\nSurrealDB keeps every client device in-sync with data modifications pushed in realtime to the clients, applications, end-user devices, and server-side libraries. Live SQL queries allow for advanced filtering of the changes to which a client subscribes, and efficient data formats, including DIFFing and PATCHing enable highly-performant web-based data syncing.',\n",
       " '\"It think it\\'s going to change how we query databases.\"\\n\\nAnup Jadhav\\nDirector, Partner Delivery Success, C360 Cross-Cloud, Salesforce',\n",
       " '\"Now that it\\'s at 1.0, there is a pretty good use case to using it in some serious projects.\"\\n\\nJeff Delaney\\nWeb Developer and Tech Influencer, Fireship']"
      ]
     },
     "execution_count": 8,
     "metadata": {},
     "output_type": "execute_result"
    }
   ],
   "source": [
    "all_docs = all_features + all_clients\n",
    "all_docs[::4]"
   ]
  },
  {
   "cell_type": "markdown",
   "id": "fe4d129a-d024-4c03-b95c-2e5c32c409bc",
   "metadata": {},
   "source": [
    "## Prepare Document object from features and testimonials list"
   ]
  },
  {
   "cell_type": "code",
   "execution_count": 9,
   "id": "f13772bc-fc5c-4f76-8077-ef4c050138c9",
   "metadata": {},
   "outputs": [
    {
     "data": {
      "text/plain": [
       "[Document(page_content='SurrealDB offers a dynamic and adaptable platform for business. With an integrated suite of cutting-edge database solutions, tools, and services, SurrealDB empowers your workforce to discover innovative answers using products meticulously crafted to meet their requirements.'),\n",
       " Document(page_content='Advanced inter-document relations and analysis. No JOINs. No pain.\\nWith full graph database functionality, SurrealDB enables more advanced querying and analysis. Records (or vertices) can be connected to one another with edges, each with its own record properties and metadata. Simple extensions to traditional SQL queries allow for multi-table, multi-depth document retrieval, efficiently in the database, without the use of complicated JOINs and without bringing the data down to the client.'),\n",
       " Document(page_content='Realtime live queries and data changes direct to application\\nSurrealDB keeps every client device in-sync with data modifications pushed in realtime to the clients, applications, end-user devices, and server-side libraries. Live SQL queries allow for advanced filtering of the changes to which a client subscribes, and efficient data formats, including DIFFing and PATCHing enable highly-performant web-based data syncing.'),\n",
       " Document(page_content='\"It think it\\'s going to change how we query databases.\"\\n\\nAnup Jadhav\\nDirector, Partner Delivery Success, C360 Cross-Cloud, Salesforce'),\n",
       " Document(page_content='\"Now that it\\'s at 1.0, there is a pretty good use case to using it in some serious projects.\"\\n\\nJeff Delaney\\nWeb Developer and Tech Influencer, Fireship')]"
      ]
     },
     "execution_count": 9,
     "metadata": {},
     "output_type": "execute_result"
    }
   ],
   "source": [
    "docs = [Document(page_content=doc) for doc in all_docs]\n",
    "docs[::4]"
   ]
  },
  {
   "cell_type": "markdown",
   "id": "745e0f33-1535-46c4-a3be-ad622da7c40b",
   "metadata": {},
   "source": [
    "## Create a LangChain supported Text Embeddings Function\n",
    "\n",
    "We use `sentence-transformers/all-mpnet-base-v2` embeddings which is the default with `HuggingFaceEmbeddings`.  \n",
    "This will be used to generate embeddings vectors for our documents when store them within SurrealDB.  \n",
    "This will also be used to generate query embeddings vector which will help us do similarity searches on our documents.  \n",
    "Currently support text embedding functions for LangChain can be found [here](https://python.langchain.com/v0.2/docs/integrations/text_embedding/)."
   ]
  },
  {
   "cell_type": "code",
   "execution_count": 10,
   "id": "a0a7348b-d35c-40fd-b0b5-f24382d8ebc8",
   "metadata": {},
   "outputs": [
    {
     "name": "stderr",
     "output_type": "stream",
     "text": [
      "/home/karim/Jupyter/.venv/lib/python3.12/site-packages/langchain_core/_api/deprecation.py:139: LangChainDeprecationWarning: The class `HuggingFaceEmbeddings` was deprecated in LangChain 0.2.2 and will be removed in 0.3.0. An updated version of the class exists in the langchain-huggingface package and should be used instead. To use it run `pip install -U langchain-huggingface` and import as `from langchain_huggingface import HuggingFaceEmbeddings`.\n",
      "  warn_deprecated(\n",
      "/home/karim/Jupyter/.venv/lib/python3.12/site-packages/sentence_transformers/cross_encoder/CrossEncoder.py:11: TqdmExperimentalWarning: Using `tqdm.autonotebook.tqdm` in notebook mode. Use `tqdm.tqdm` instead to force console mode (e.g. in jupyter console)\n",
      "  from tqdm.autonotebook import tqdm, trange\n",
      "/home/karim/Jupyter/.venv/lib/python3.12/site-packages/huggingface_hub/file_download.py:1132: FutureWarning: `resume_download` is deprecated and will be removed in version 1.0.0. Downloads always resume when possible. If you want to force a new download, use `force_download=True`.\n",
      "  warnings.warn(\n"
     ]
    }
   ],
   "source": [
    "embedding_function = HuggingFaceEmbeddings()"
   ]
  },
  {
   "cell_type": "markdown",
   "id": "0397d86e-263c-4c28-90ea-befcb6ca0414",
   "metadata": {},
   "source": [
    "## Initialize SurrealDBStore with embeddings function\n",
    "\n",
    "Following arguments are supported along with their applicable default :\n",
    "```\n",
    "embedding_function: Embedding function to use.\n",
    "dburl: SurrealDB connection url. (default: \"ws://localhost:8000/rpc\")\n",
    "ns: surrealdb namespace for the vector store. (default: \"langchain\")\n",
    "db: surrealdb database for the vector store. (default: \"database\")\n",
    "collection: surrealdb collection for the vector store. (default: \"documents\")\n",
    "(optional) db_user and db_pass: surrealdb credentials\n",
    "```"
   ]
  },
  {
   "cell_type": "code",
   "execution_count": 11,
   "id": "d8829ff8-b252-4c4f-bf75-a0f09a181979",
   "metadata": {},
   "outputs": [],
   "source": [
    "sdb = SurrealDBStore(embedding_function=embedding_function,collection=\"surrealdb.com\")\n",
    "await sdb.initialize()"
   ]
  },
  {
   "cell_type": "markdown",
   "id": "8f4aa2fc-3375-43e4-aaa9-076bbe39cbdc",
   "metadata": {},
   "source": [
    "## Delete existing records/documents"
   ]
  },
  {
   "cell_type": "code",
   "execution_count": 12,
   "id": "51741770-0a63-4b60-8c6f-087a0dfa2937",
   "metadata": {},
   "outputs": [
    {
     "data": {
      "text/plain": [
       "True"
      ]
     },
     "execution_count": 12,
     "metadata": {},
     "output_type": "execute_result"
    }
   ],
   "source": [
    "await sdb.adelete()"
   ]
  },
  {
   "cell_type": "markdown",
   "id": "b0ad9e24-5a4a-4311-806c-98141258698d",
   "metadata": {},
   "source": [
    "## Add features and testimonials documents into SurrealDBStore"
   ]
  },
  {
   "cell_type": "code",
   "execution_count": 13,
   "id": "c8dc346c-9995-4909-99cf-7d31b5e9b700",
   "metadata": {},
   "outputs": [
    {
     "data": {
      "text/plain": [
       "['⟨surrealdb.com⟩:9dblbhacmz08vml95os8',\n",
       " '⟨surrealdb.com⟩:km39swfbtkbabqxj2djw',\n",
       " '⟨surrealdb.com⟩:78t5je6qyflg4wktpbuz',\n",
       " '⟨surrealdb.com⟩:yikrswb6cb0dyeij7sy3',\n",
       " '⟨surrealdb.com⟩:h1z155pvmf2izmwt8gtn',\n",
       " '⟨surrealdb.com⟩:4gsshdf1anll1l710c6c',\n",
       " '⟨surrealdb.com⟩:mll9dhn9wc199pcwvucf',\n",
       " '⟨surrealdb.com⟩:20x312gj3p5zlw5nwoc3',\n",
       " '⟨surrealdb.com⟩:zb10xd5hkwik22g0hvth',\n",
       " '⟨surrealdb.com⟩:lrzqw0ovcdd3tpdnza7i',\n",
       " '⟨surrealdb.com⟩:i9gvu10gywwdm0h4noi2',\n",
       " '⟨surrealdb.com⟩:petlksjj0x7v4cg3bq5y',\n",
       " '⟨surrealdb.com⟩:jbkyt339lj0cwnzfe4y8',\n",
       " '⟨surrealdb.com⟩:n7irbdyx76k2m2cx6vas',\n",
       " '⟨surrealdb.com⟩:a3t8izkjyeq337lwbrpb',\n",
       " '⟨surrealdb.com⟩:dhash0855vzc0s3aul3a',\n",
       " '⟨surrealdb.com⟩:u7ht511mbkmolcw2p5d1',\n",
       " '⟨surrealdb.com⟩:4fr6azac7a8c47fwdpfd',\n",
       " '⟨surrealdb.com⟩:8m868uytux27e7tqp5j7',\n",
       " '⟨surrealdb.com⟩:gpxv8rysofxi13bn2yfz']"
      ]
     },
     "execution_count": 13,
     "metadata": {},
     "output_type": "execute_result"
    }
   ],
   "source": [
    "await sdb.aadd_documents(docs)"
   ]
  },
  {
   "cell_type": "markdown",
   "id": "02420944-c38c-4317-8d0c-60f436caf3ac",
   "metadata": {},
   "source": [
    "## Querying documents with embedding function using similarity score\n",
    "\n",
    "query is converted to its embedding vector and [`vector::similarity::cosine`](https://surrealdb.com/docs/surrealdb/surrealql/functions/database/vector#vectorsimilaritycosine) is used find matching documents."
   ]
  },
  {
   "cell_type": "code",
   "execution_count": 14,
   "id": "a98e7d28-b453-4ad4-889c-81c810e2e52d",
   "metadata": {},
   "outputs": [
    {
     "data": {
      "text/plain": [
       "[Document(metadata={'id': '⟨surrealdb.com⟩:h1z155pvmf2izmwt8gtn'}, page_content='Advanced inter-document relations and analysis. No JOINs. No pain.\\nWith full graph database functionality, SurrealDB enables more advanced querying and analysis. Records (or vertices) can be connected to one another with edges, each with its own record properties and metadata. Simple extensions to traditional SQL queries allow for multi-table, multi-depth document retrieval, efficiently in the database, without the use of complicated JOINs and without bringing the data down to the client.')]"
      ]
     },
     "execution_count": 14,
     "metadata": {},
     "output_type": "execute_result"
    }
   ],
   "source": [
    "await sdb.asimilarity_search(\"How do Joins work in SurrealDB?\",k=1)"
   ]
  },
  {
   "cell_type": "code",
   "execution_count": 15,
   "id": "5e878d66-0a6f-4ea4-aad4-74458270f31e",
   "metadata": {},
   "outputs": [
    {
     "data": {
      "text/plain": [
       "[Document(metadata={'id': '⟨surrealdb.com⟩:petlksjj0x7v4cg3bq5y'}, page_content='\"Here at Yaacomm we are already using SurrealDB in a significant way for our backend infrastructure, however I believe SurrealDB can play an even bigger role in other areas as well. Being able to embed SurrealDB locally in Android and iOS apps could make it a perfect fit for local caching. Additionally, this would provide us with all the benefits of SurrealDB such as full-text searching and its graph based nature without relying on a network connection.\"')]"
      ]
     },
     "execution_count": 15,
     "metadata": {},
     "output_type": "execute_result"
    }
   ],
   "source": [
    "await sdb.asimilarity_search(\"Can SurrealDB run on mobile platforms?\",k=1)"
   ]
  }
 ],
 "metadata": {
  "kernelspec": {
   "display_name": "Python 3 (ipykernel)",
   "language": "python",
   "name": "python3"
  },
  "language_info": {
   "codemirror_mode": {
    "name": "ipython",
    "version": 3
   },
   "file_extension": ".py",
   "mimetype": "text/x-python",
   "name": "python",
   "nbconvert_exporter": "python",
   "pygments_lexer": "ipython3",
   "version": "3.12.4"
  }
 },
 "nbformat": 4,
 "nbformat_minor": 5
}
