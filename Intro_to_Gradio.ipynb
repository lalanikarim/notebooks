{
  "cells": [
    {
      "cell_type": "markdown",
      "metadata": {
        "id": "view-in-github",
        "colab_type": "text"
      },
      "source": [
        "<a href=\"https://colab.research.google.com/github/lalanikarim/notebooks/blob/main/Intro_to_Gradio.ipynb\" target=\"_parent\"><img src=\"https://colab.research.google.com/assets/colab-badge.svg\" alt=\"Open In Colab\"/></a>"
      ]
    },
    {
      "cell_type": "markdown",
      "metadata": {
        "id": "23pPvkirlGFU"
      },
      "source": [
        "# Spoil-A-Wish with LangChain and Gradio\n",
        "\n",
        "Spoil-A-Wish is a fun little game you play with friends where you make a wish and your friend grants it with a twist, essentially ruining it.\n",
        "\n",
        "For example:\n",
        "\n",
        "```\n",
        "Wish: I wish for a million dollars.  \n",
        "Response: Granted, but you get a million dollars in ZWL (Zimbabwe's defunct currency) which equals $15 USD. Enjoy your happy meal.\n",
        "```\n",
        "\n",
        "In this sample project, we will create a simple scaffolding that can be used to build an AI Agent that spoils your wishes."
      ]
    },
    {
      "cell_type": "markdown",
      "metadata": {
        "id": "lIMiEg1MlmHe"
      },
      "source": [
        "## 1. Install python dependencies"
      ]
    },
    {
      "cell_type": "code",
      "execution_count": 1,
      "metadata": {
        "id": "pMxyOma_XRxq"
      },
      "outputs": [],
      "source": [
        "!pip install -q langchain-core"
      ]
    },
    {
      "cell_type": "markdown",
      "metadata": {
        "id": "mtcLuPuvleFA"
      },
      "source": [
        "## 2. Import packages"
      ]
    },
    {
      "cell_type": "code",
      "execution_count": 2,
      "metadata": {
        "id": "qsjzAFVIX-tw"
      },
      "outputs": [],
      "source": [
        "from langchain_core.prompts import PromptTemplate"
      ]
    },
    {
      "cell_type": "markdown",
      "metadata": {
        "id": "A_475JNcl-NY"
      },
      "source": [
        "## 3. Prepare Prompt Template"
      ]
    },
    {
      "cell_type": "code",
      "execution_count": 3,
      "metadata": {
        "id": "3HTJhkpCYJTS"
      },
      "outputs": [],
      "source": [
        "prompt_template = \"\"\"\n",
        "Consider your wish, \"{wish}\", spoiled!!!\n",
        "\"\"\"\n",
        "\n",
        "prompt = PromptTemplate.from_template(prompt_template)"
      ]
    },
    {
      "cell_type": "markdown",
      "metadata": {
        "id": "LwbZyjFUmLFX"
      },
      "source": [
        "### Test Prompt Template"
      ]
    },
    {
      "cell_type": "code",
      "execution_count": 4,
      "metadata": {
        "colab": {
          "base_uri": "https://localhost:8080/",
          "height": 35
        },
        "id": "5dTyjKu2Zozh",
        "outputId": "85d285c7-dd00-4442-ceab-d93592b392c7"
      },
      "outputs": [
        {
          "output_type": "execute_result",
          "data": {
            "text/plain": [
              "'Consider your wish, \"I wish for a million dollars\", spoiled!!!'"
            ],
            "application/vnd.google.colaboratory.intrinsic+json": {
              "type": "string"
            }
          },
          "metadata": {},
          "execution_count": 4
        }
      ],
      "source": [
        "wish = \"I wish for a million dollars\"\n",
        "response = prompt.invoke({\"wish\": wish})\n",
        "response.text.strip()"
      ]
    },
    {
      "cell_type": "markdown",
      "metadata": {
        "id": "ivIbkL-ML0NX"
      },
      "source": [
        "## 4. Build a UI with Gradio\n",
        "\n",
        "Gradio is an open-source Python package that allows you to quickly build a demo or web application for your machine learning model, API, or any arbitrary Python function. You can then share a link to your demo or web application in just a few seconds using Gradio's built-in sharing features. No JavaScript, CSS, or web hosting experience needed! -https://gradio.app"
      ]
    },
    {
      "cell_type": "markdown",
      "metadata": {
        "id": "ULDrREIRFBHS"
      },
      "source": [
        "### Install Gradio package"
      ]
    },
    {
      "cell_type": "code",
      "execution_count": 5,
      "metadata": {
        "id": "PZL4rU4jhoUL"
      },
      "outputs": [],
      "source": [
        "!pip install -q gradio"
      ]
    },
    {
      "cell_type": "markdown",
      "metadata": {
        "id": "KQ0Reu9HK0Re"
      },
      "source": [
        "### Import Gradio module"
      ]
    },
    {
      "cell_type": "code",
      "execution_count": 6,
      "metadata": {
        "id": "kXTXKo7jCqVZ"
      },
      "outputs": [],
      "source": [
        "import gradio as gr"
      ]
    },
    {
      "cell_type": "markdown",
      "metadata": {
        "id": "O2Fo5Y3yFGNB"
      },
      "source": [
        "### Function callback"
      ]
    },
    {
      "cell_type": "code",
      "execution_count": 7,
      "metadata": {
        "id": "3TIMq9hpB_4k"
      },
      "outputs": [],
      "source": [
        "def spoil_wish(wish):\n",
        "    response = prompt.invoke({\"wish\": wish})\n",
        "    return response.text.strip()"
      ]
    },
    {
      "cell_type": "markdown",
      "metadata": {
        "id": "aer9V8qNFPQn"
      },
      "source": [
        "### Simple Gradio [Interface](https://www.gradio.app/docs/gradio/interface)  \n",
        "\n",
        "Interface offers a simple 2 column layout with inputs on the left and outputs on the right.\n",
        "\n",
        "Interface takes the following parameters:\n",
        "\n",
        "1. fn: callback function takes inputs and returns outputs\n",
        "2. inputs: component or a list of components to capture inputs\n",
        "3. outputs: component or a list of components to send the outputs of the callback function to"
      ]
    },
    {
      "cell_type": "code",
      "execution_count": null,
      "metadata": {
        "id": "18njZkOvCEXD"
      },
      "outputs": [],
      "source": [
        "app = gr.Interface(\n",
        "    fn=spoil_wish,\n",
        "    inputs=\"text\",\n",
        "    outputs=\"text\"\n",
        ")\n",
        "\n",
        "app.launch()"
      ]
    },
    {
      "cell_type": "markdown",
      "metadata": {
        "id": "62BG919MGDUN"
      },
      "source": [
        "### Gradio [Components](https://www.gradio.app/docs/gradio/introduction)\n",
        "\n",
        "Gradio provides a bunch of components to handle various types of inputs and outputs from simple text fields, to bar plots, to audio and video controls, to name a few."
      ]
    },
    {
      "cell_type": "code",
      "execution_count": null,
      "metadata": {
        "id": "7ppBS7cnC0CQ"
      },
      "outputs": [],
      "source": [
        "app = gr.Interface(\n",
        "    fn=spoil_wish,\n",
        "    inputs=gr.Textbox(label=\"Wish\", value=\"I wish for a million dollars\"),\n",
        "    outputs=gr.Textbox(label=\"Response\", lines=3)\n",
        ")\n",
        "\n",
        "app.launch()"
      ]
    },
    {
      "cell_type": "markdown",
      "metadata": {
        "id": "KXNv9YSHG1fm"
      },
      "source": [
        "### Gradio [Blocks](https://www.gradio.app/docs/gradio/blocks)\n",
        "\n",
        "Gradio allows you to create custom layouts using Blocks.  \n",
        "You can trigger the callback function to be called on button click event."
      ]
    },
    {
      "cell_type": "code",
      "execution_count": null,
      "metadata": {
        "id": "xmoTZs9vDI6_"
      },
      "outputs": [],
      "source": [
        "with gr.Blocks(css=\"\"\"\n",
        "    .gradio-container {\n",
        "        display: flex;\n",
        "        flex-direction: column;\n",
        "        max-width: 1000px !important;\n",
        "    }\n",
        "    .btn.success {\n",
        "        background-color: #4CAF50;\n",
        "        color: white;\n",
        "    }\n",
        "    .btn.danger {\n",
        "        background-color: #F44336;\n",
        "        color: white;\n",
        "    }\n",
        "\"\"\") as app:\n",
        "    gr.HTML(\"\"\"\n",
        "    <center>\n",
        "      <h1>Spoil-A-Wish</h1>\n",
        "    </center>\n",
        "    \"\"\")\n",
        "    with gr.Row():\n",
        "        with gr.Column():\n",
        "            wish = gr.TextArea(label=\"Wish\", value=\"I wish for a million dollars\")\n",
        "            response = gr.TextArea(label=\"Response\")\n",
        "            submit = gr.Button(\"Spoil Wish\", elem_classes=\"btn success\")\n",
        "\n",
        "    submit.click(\n",
        "        fn=spoil_wish,\n",
        "        inputs=wish,\n",
        "        outputs=response\n",
        "    )\n",
        "\n",
        "app.launch()"
      ]
    },
    {
      "cell_type": "markdown",
      "metadata": {
        "id": "dBGSbQosH1kL"
      },
      "source": [
        "### Designing complex pipelines\n",
        "\n",
        "Gradio allows you to chain and stack events to create complex UI/UX pipelines."
      ]
    },
    {
      "cell_type": "code",
      "execution_count": null,
      "metadata": {
        "id": "zEERgcVEEJ4a"
      },
      "outputs": [],
      "source": [
        "with gr.Blocks(css=\"\"\"\n",
        "    .gradio-container {\n",
        "        display: flex;\n",
        "        flex-direction: column;\n",
        "        max-width: 1000px !important;\n",
        "    }\n",
        "    .btn.success {\n",
        "        background-color: #4CAF50;\n",
        "        color: white;\n",
        "    }\n",
        "    .btn.danger {\n",
        "        background-color: #F44336;\n",
        "        color: white;\n",
        "    }\n",
        "\"\"\") as app:\n",
        "    gr.HTML(\"\"\"\n",
        "    <center>\n",
        "      <h1>Spoil-A-Wish</h1>\n",
        "    </center>\n",
        "    \"\"\")\n",
        "    with gr.Row():\n",
        "        with gr.Column():\n",
        "            wish = gr.TextArea(label=\"Wish\", value=\"I wish for a million dollars\")\n",
        "            response = gr.TextArea(label=\"Response\", visible=False)\n",
        "            submit = gr.Button(\"Spoil Wish\", elem_classes=\"btn success\")\n",
        "            reset = gr.Button(\"Try Again!\", elem_classes=\"btn danger\", visible=False)\n",
        "\n",
        "    gr.on(\n",
        "        triggers=submit.click,\n",
        "        outputs=[wish, response, submit],\n",
        "        fn=lambda: [gr.TextArea(interactive=False), gr.TextArea(visible=True), gr.Button(visible=False)],\n",
        "        api_name=False\n",
        "    ).then(\n",
        "        fn=spoil_wish,\n",
        "        inputs=wish,\n",
        "        outputs=response\n",
        "    ).then(\n",
        "        outputs=reset,\n",
        "        fn=lambda: gr.Button(visible=True),\n",
        "        api_name=False\n",
        "    )\n",
        "    gr.on(\n",
        "        triggers=reset.click,\n",
        "        outputs=[response, reset, wish, submit],\n",
        "        fn=lambda: [gr.TextArea(visible=False), gr.Button(visible=False), gr.TextArea(interactive=True, value=None), gr.Button(visible=True)],\n",
        "        api_name=False\n",
        "    )\n",
        "\n",
        "app.launch()"
      ]
    },
    {
      "cell_type": "markdown",
      "metadata": {
        "id": "ll4STmkTJrMg"
      },
      "source": [
        "### Gradio [Examples](https://www.gradio.app/docs/gradio/examples) helper\n",
        "\n",
        "Gradio Examples lets you specift a dataset of curated inputs which can be tied to input components. This can come in handy when designing applications with multiple input fields and you want to provide preset values for those fields."
      ]
    },
    {
      "cell_type": "code",
      "execution_count": null,
      "metadata": {
        "id": "4iUq36DYL6XK"
      },
      "outputs": [],
      "source": [
        "with gr.Blocks(css=\"\"\"\n",
        "    .gradio-container {\n",
        "        display: flex;\n",
        "        flex-direction: column;\n",
        "        max-width: 1000px !important;\n",
        "    }\n",
        "    .btn.success {\n",
        "        background-color: #4CAF50;\n",
        "        color: white;\n",
        "    }\n",
        "    .btn.danger {\n",
        "        background-color: #F44336;\n",
        "        color: white;\n",
        "    }\n",
        "\"\"\") as app:\n",
        "    gr.HTML(\"\"\"\n",
        "    <center>\n",
        "      <h1>Spoil-A-Wish</h1>\n",
        "    </center>\n",
        "    \"\"\")\n",
        "    with gr.Row():\n",
        "        with gr.Column():\n",
        "            wish = gr.TextArea(label=\"Wish\")\n",
        "            response = gr.TextArea(label=\"Response\", visible=False)\n",
        "            submit = gr.Button(\"Spoil Wish\", elem_classes=\"btn success\")\n",
        "            reset = gr.Button(\"Try Again!\", elem_classes=\"btn danger\", visible=False)\n",
        "\n",
        "    gr.Examples(\n",
        "        examples=[\n",
        "            [\"I wish for a million dollars\"],\n",
        "            [\"I wish for a new car\"],\n",
        "            [\"I wish for a new house\"],\n",
        "            [\"I wish for a new job\"]\n",
        "        ],\n",
        "        inputs=[wish],\n",
        "        label=\"Try these\"\n",
        "\n",
        "    )\n",
        "\n",
        "    gr.on(\n",
        "        triggers=submit.click,\n",
        "        outputs=[wish, response, submit],\n",
        "        fn=lambda: [gr.TextArea(interactive=False), gr.TextArea(visible=True), gr.Button(visible=False)],\n",
        "        api_name=False\n",
        "    ).then(\n",
        "        fn=spoil_wish,\n",
        "        inputs=wish,\n",
        "        outputs=response\n",
        "    ).then(\n",
        "        outputs=reset,\n",
        "        fn=lambda: gr.Button(visible=True),\n",
        "        api_name=False\n",
        "    )\n",
        "    gr.on(\n",
        "        triggers=reset.click,\n",
        "        outputs=[response, reset, wish, submit],\n",
        "        fn=lambda: [gr.TextArea(visible=False), gr.Button(visible=False), gr.TextArea(interactive=True, value=None), gr.Button(visible=True)],\n",
        "        api_name=False\n",
        "    )\n",
        "\n",
        "app.launch()"
      ]
    },
    {
      "cell_type": "code",
      "execution_count": 12,
      "metadata": {
        "id": "Unij4_IPMcbD"
      },
      "outputs": [],
      "source": []
    }
  ],
  "metadata": {
    "colab": {
      "provenance": [],
      "include_colab_link": true
    },
    "kernelspec": {
      "display_name": "Python 3 (ipykernel)",
      "language": "python",
      "name": "python3"
    },
    "language_info": {
      "codemirror_mode": {
        "name": "ipython",
        "version": 3
      },
      "file_extension": ".py",
      "mimetype": "text/x-python",
      "name": "python",
      "nbconvert_exporter": "python",
      "pygments_lexer": "ipython3",
      "version": "3.12.8"
    }
  },
  "nbformat": 4,
  "nbformat_minor": 0
}