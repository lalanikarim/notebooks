{
 "cells": [
  {
   "cell_type": "markdown",
   "id": "5801513b-55ba-4ee5-a515-222856bdd259",
   "metadata": {},
   "source": [
    "# Simple LangGraph SQL Agent using MessageGraph"
   ]
  },
  {
   "cell_type": "code",
   "execution_count": 1,
   "id": "47893291-b103-4321-8e39-2ffadb5e5690",
   "metadata": {},
   "outputs": [],
   "source": [
    "# %load_ext lab_black"
   ]
  },
  {
   "cell_type": "markdown",
   "id": "8e0f39c1-b1af-4a03-985a-2e36e1248d57",
   "metadata": {},
   "source": [
    "## Imports"
   ]
  },
  {
   "cell_type": "code",
   "execution_count": 21,
   "id": "f907023a-9140-44c0-a26f-27ff3d6a3cb0",
   "metadata": {},
   "outputs": [],
   "source": [
    "from langchain_community.utilities.sql_database import SQLDatabase\n",
    "from langchain_community.agent_toolkits import SQLDatabaseToolkit\n",
    "from langchain_experimental.llms.ollama_functions import (\n",
    "    OllamaFunctions,\n",
    "    convert_to_ollama_tool,\n",
    ")\n",
    "from langchain_core.prompts import ChatPromptTemplate\n",
    "from langgraph.graph import MessageGraph, END\n",
    "from langgraph.prebuilt import ToolNode\n",
    "from IPython.display import display, HTML, Image"
   ]
  },
  {
   "cell_type": "markdown",
   "id": "003cea1d-fb90-48bf-b27c-ed4ec641ce79",
   "metadata": {},
   "source": [
    "## Load the database"
   ]
  },
  {
   "cell_type": "code",
   "execution_count": 3,
   "id": "09580a06-7d4c-47cf-8fe4-1c3f48d9809e",
   "metadata": {},
   "outputs": [],
   "source": [
    "db = SQLDatabase.from_uri(\"sqlite:///Chinook.db\")"
   ]
  },
  {
   "cell_type": "markdown",
   "id": "b79f2ec8-ab27-4ee7-bfad-0b571d0e99b9",
   "metadata": {},
   "source": [
    "## Setup the LLM using OllamaFunctions"
   ]
  },
  {
   "cell_type": "code",
   "execution_count": 4,
   "id": "6e293e2b-cf7c-4e7c-af18-06d230cdb1a6",
   "metadata": {},
   "outputs": [],
   "source": [
    "llm = OllamaFunctions(model=\"llama3\", format=\"json\", temperature=0)"
   ]
  },
  {
   "cell_type": "markdown",
   "id": "58d0ab2f-d55e-4106-b3c0-0efb45b1f210",
   "metadata": {},
   "source": [
    "## Prepare the SQL tools from SQLDatabaseToolkit"
   ]
  },
  {
   "cell_type": "code",
   "execution_count": 5,
   "id": "876c7f3b-aed7-4e85-9f99-7f562b1fecf3",
   "metadata": {},
   "outputs": [],
   "source": [
    "toolkit = SQLDatabaseToolkit(db=db, llm=llm, use_query_checker=True)\n",
    "tools = toolkit.get_tools()"
   ]
  },
  {
   "cell_type": "markdown",
   "id": "ea8a6ab5-785a-445b-866e-653c580073ef",
   "metadata": {},
   "source": [
    "## Bind LLM with SQL tools"
   ]
  },
  {
   "cell_type": "code",
   "execution_count": 6,
   "id": "d5908f1a-0508-49db-8e9f-20a2635e8018",
   "metadata": {},
   "outputs": [],
   "source": [
    "llm_with_tools = llm.bind_tools(tools)"
   ]
  },
  {
   "cell_type": "markdown",
   "id": "89b6c55d-63bb-4982-b1bb-73687e270ef3",
   "metadata": {},
   "source": [
    "## Prepare the Prompt Template"
   ]
  },
  {
   "cell_type": "code",
   "execution_count": 7,
   "id": "32bb2d04-6bc5-4ec7-bfb2-054d35f14449",
   "metadata": {},
   "outputs": [],
   "source": [
    "SQL_PREFIX = \"\"\"You are an agent designed to interact with a SQL database.\n",
    "Given an input question, create a syntactically correct SQLite query to run, then look at the results of the query and return the answer.\n",
    "Unless the user specifies a specific number of examples they wish to obtain, always limit your query to at most 5 results.\n",
    "You can order the results by a relevant column to return the most interesting examples in the database.\n",
    "Never query for all the columns from a specific table, only ask for the relevant columns given the question.\n",
    "You have access to tools for interacting with the database.\n",
    "Only use the below tools. Only use the information returned by the below tools to construct your final answer.\n",
    "You MUST double check your query before executing it. If you get an error while executing a query, rewrite the query and try again.\n",
    "\n",
    "DO NOT make any DML statements (INSERT, UPDATE, DELETE, DROP etc.) to the database.\n",
    "\n",
    "To start you should ALWAYS look at the tables in the database to see what you can query.\n",
    "Do NOT skip this step.\n",
    "Then you should query the schema of the most relevant tables.\n",
    "You have access to the following tools:\"\"\"\n",
    "\n",
    "prompt = ChatPromptTemplate.from_messages(\n",
    "    [\n",
    "        (\"system\", SQL_PREFIX),\n",
    "        (\"human\", \"{input}\")\n",
    "    ]\n",
    ")"
   ]
  },
  {
   "cell_type": "markdown",
   "id": "1986f366-b09b-4093-b502-089da4235277",
   "metadata": {},
   "source": [
    "## Create the oracle LCEL chain (this [oracle](https://en.wikipedia.org/wiki/Oracle) and not this [Oracle](https://en.wikipedia.org/wiki/Oracle_Database))"
   ]
  },
  {
   "cell_type": "code",
   "execution_count": 8,
   "id": "4fe68d4a-37f1-4b05-aaa7-3b96c218a857",
   "metadata": {},
   "outputs": [],
   "source": [
    "oracle_chain = prompt | llm_with_tools"
   ]
  },
  {
   "cell_type": "markdown",
   "id": "5f205b13-1807-41a6-90de-df704e0de1be",
   "metadata": {},
   "source": [
    "### Create a Message Graph builder"
   ]
  },
  {
   "cell_type": "code",
   "execution_count": 9,
   "id": "b2738ef5-7b1e-448a-ab31-faeb2b8115c4",
   "metadata": {},
   "outputs": [],
   "source": [
    "builder = MessageGraph()"
   ]
  },
  {
   "cell_type": "markdown",
   "id": "483e7253-8110-49c1-9767-95fd0f9f30ba",
   "metadata": {},
   "source": [
    "### Create oracle node for graph agent"
   ]
  },
  {
   "cell_type": "code",
   "execution_count": 10,
   "id": "1b2c7216-e663-46db-b26c-9675c3338291",
   "metadata": {},
   "outputs": [],
   "source": [
    "def oracle_node(state):\n",
    "    last_message = state[-1]\n",
    "    return oracle_chain.invoke({\"input\": last_message.content})"
   ]
  },
  {
   "cell_type": "markdown",
   "id": "18896535-4dfd-4e58-b522-7e351b30c0e4",
   "metadata": {},
   "source": [
    "### Create tools node for graph agent"
   ]
  },
  {
   "cell_type": "code",
   "execution_count": 11,
   "id": "0ffa08d8-24ab-4bca-b353-5b58174ae138",
   "metadata": {},
   "outputs": [],
   "source": [
    "tools_node = ToolNode(tools)"
   ]
  },
  {
   "cell_type": "markdown",
   "id": "f805e40b-d011-4bc2-882c-e576c7d8cd96",
   "metadata": {},
   "source": [
    "### Add nodes to the graph builder"
   ]
  },
  {
   "cell_type": "code",
   "execution_count": 12,
   "id": "34561e31-53cb-4829-aa1a-bd48acb724ba",
   "metadata": {},
   "outputs": [],
   "source": [
    "builder.add_node(\"oracle_node\", oracle_node)\n",
    "builder.add_node(\"tools_node\", tools_node)"
   ]
  },
  {
   "cell_type": "markdown",
   "id": "39b60622-3fd2-4576-961a-f22a05fe5831",
   "metadata": {},
   "source": [
    "### Connect notes with edges"
   ]
  },
  {
   "cell_type": "code",
   "execution_count": 13,
   "id": "99d1278f-973f-4790-b986-fd040c963092",
   "metadata": {},
   "outputs": [],
   "source": [
    "builder.add_edge(\"oracle_node\", \"tools_node\")\n",
    "builder.add_edge(\"tools_node\", END)"
   ]
  },
  {
   "cell_type": "markdown",
   "id": "4fa9a567-c8d5-467f-ae60-8d2465056307",
   "metadata": {},
   "source": [
    "### Set entry point into the graph agent"
   ]
  },
  {
   "cell_type": "code",
   "execution_count": 14,
   "id": "a69d6df0-e5d8-4794-9002-78176ef687d2",
   "metadata": {},
   "outputs": [],
   "source": [
    "builder.set_entry_point(\"oracle_node\")"
   ]
  },
  {
   "cell_type": "markdown",
   "id": "ca50f5b6-cf8c-4e5c-84fa-9dfe52ada5ec",
   "metadata": {},
   "source": [
    "### Compile the graph into an agent"
   ]
  },
  {
   "cell_type": "code",
   "execution_count": 15,
   "id": "960ba375-a444-4e56-9051-7a12b15f245f",
   "metadata": {},
   "outputs": [],
   "source": [
    "graph = builder.compile()"
   ]
  },
  {
   "cell_type": "code",
   "execution_count": 22,
   "id": "9128cf1d-0b60-45ab-bce8-a9002cdb4389",
   "metadata": {},
   "outputs": [
    {
     "data": {
      "image/jpeg": "[encoded data removed]",
      "text/plain": [
       "<IPython.core.display.Image object>"
      ]
     },
     "metadata": {},
     "output_type": "display_data"
    }
   ],
   "source": [
    "display(Image(graph.get_graph().draw_mermaid_png()))"
   ]
  },
  {
   "cell_type": "markdown",
   "id": "793dc3e2-31ab-4843-b531-6f575e63a48d",
   "metadata": {},
   "source": [
    "## Test the LangGraph SQL Agent"
   ]
  },
  {
   "cell_type": "code",
   "execution_count": 16,
   "id": "45835ff3-7a71-48d8-b5ee-ebce209c39ff",
   "metadata": {},
   "outputs": [
    {
     "name": "stdout",
     "output_type": "stream",
     "text": [
      "Album, Artist, Customer, Employee, Genre, Invoice, InvoiceLine, MediaType, Playlist, PlaylistTrack, Track\n"
     ]
    }
   ],
   "source": [
    "result = graph.invoke(\"how many tables I have in the database?\")\n",
    "print(result[-1].content)"
   ]
  },
  {
   "cell_type": "code",
   "execution_count": 17,
   "id": "e13e7045-8e49-4005-97e8-cfa62e7f7f7b",
   "metadata": {},
   "outputs": [
    {
     "name": "stdout",
     "output_type": "stream",
     "text": [
      "\n",
      "CREATE TABLE \"Artist\" (\n",
      "\t\"ArtistId\" INTEGER NOT NULL, \n",
      "\t\"Name\" NVARCHAR(120), \n",
      "\tPRIMARY KEY (\"ArtistId\")\n",
      ")\n",
      "\n",
      "/*\n",
      "3 rows from Artist table:\n",
      "ArtistId\tName\n",
      "1\tAC/DC\n",
      "2\tAccept\n",
      "3\tAerosmith\n",
      "*/\n"
     ]
    }
   ],
   "source": [
    "result = graph.invoke(\"what is the schema of the Artist table?\")\n",
    "print(result[-1].content)"
   ]
  },
  {
   "cell_type": "code",
   "execution_count": 18,
   "id": "c64c8800-022b-4681-b855-3da64fe07e65",
   "metadata": {},
   "outputs": [
    {
     "name": "stdout",
     "output_type": "stream",
     "text": [
      "[(1, 'AC/DC'), (2, 'Accept'), (3, 'Aerosmith'), (4, 'Alanis Morissette'), (5, 'Alice In Chains')]\n"
     ]
    }
   ],
   "source": [
    "result = graph.invoke(\"Show the first 5 records of the Artist table\")\n",
    "print(result[-1].content)"
   ]
  }
 ],
 "metadata": {
  "kernelspec": {
   "display_name": "Python 3 (ipykernel)",
   "language": "python",
   "name": "python3"
  },
  "language_info": {
   "codemirror_mode": {
    "name": "ipython",
    "version": 3
   },
   "file_extension": ".py",
   "mimetype": "text/x-python",
   "name": "python",
   "nbconvert_exporter": "python",
   "pygments_lexer": "ipython3",
   "version": "3.10.12"
  }
 },
 "nbformat": 4,
 "nbformat_minor": 5
}
