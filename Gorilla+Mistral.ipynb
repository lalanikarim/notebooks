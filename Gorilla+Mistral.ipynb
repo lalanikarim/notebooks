{
 "cells": [
  {
   "cell_type": "code",
   "execution_count": 341,
   "id": "62875121-4071-4e43-9d18-3303730677dd",
   "metadata": {},
   "outputs": [],
   "source": [
    "from langchain.llms import Ollama\n",
    "from langchain.prompts import PromptTemplate\n",
    "from langchain.schema import StrOutputParser\n",
    "from langchain_core.runnables import RunnableParallel, RunnablePassthrough, RunnableLambda\n",
    "from operator import itemgetter\n",
    "import json"
   ]
  },
  {
   "cell_type": "code",
   "execution_count": 313,
   "id": "4a3efcc9-5061-4213-a8ff-521c72aa8277",
   "metadata": {},
   "outputs": [],
   "source": [
    "order_food = {  \n",
    "    \"name\" : \"Order Food on Uber\",\n",
    "    \"api_call\": \"uber.eat.order\",\n",
    "    \"description\": \"Order food on uber eat given a list of items and the quantity of items respectively\",\n",
    "    \"parameters\": \n",
    "        [\n",
    "            {\n",
    "                \"name\": \"restaurants\", \n",
    "                \"description\": \"The restaurants user wants to order from\" \n",
    "            }, \n",
    "            {\n",
    "                \"name\": \"items\", \n",
    "                \"description\": \"A list of order user wants to order from restaurants\"\n",
    "            },\n",
    "            {\n",
    "                \"name\": \"quantities\", \n",
    "                \"description\": \"A list of quantities corresponding to the items ordered\"\n",
    "            }\n",
    "        ]\n",
    "    }"
   ]
  },
  {
   "cell_type": "code",
   "execution_count": 314,
   "id": "48be3548-f4b9-4734-9cd4-1c5a9b1720d9",
   "metadata": {},
   "outputs": [],
   "source": [
    "ride_share = {\n",
    "        \"name\": \"Uber Carpool\",\n",
    "        \"api_name\": \"uber.ride\",\n",
    "        \"description\": \"Find suitable ride for customers given the location, type of ride, and the amount of time the customer is willing to wait as parameters\",\n",
    "        \"parameters\":  [\n",
    "            {\"name\": \"loc\", \"description\": \"Location of the starting place of the Uber ride\"},\n",
    "            {\"name\": \"type\", \"enum\": [\"plus\", \"comfort\", \"black\"], \"description\": \"Types of Uber ride user is ordering\"},\n",
    "            {\"name\": \"time\", \"description\": \"The amount of time in minutes the customer is willing to wait\"}\n",
    "        ]\n",
    "    }"
   ]
  },
  {
   "cell_type": "code",
   "execution_count": 355,
   "id": "059573d2-12a3-425a-bfc8-be2224421833",
   "metadata": {},
   "outputs": [],
   "source": [
    "functions_string = json.dumps([order_food,ride_share])"
   ]
  },
  {
   "cell_type": "code",
   "execution_count": 316,
   "id": "b1080254-7fed-4814-af7a-de0517bfe018",
   "metadata": {},
   "outputs": [],
   "source": [
    "gorilla_llm = Ollama(model=\"gorilla-openfunctions\", temperature=0)"
   ]
  },
  {
   "cell_type": "code",
   "execution_count": 318,
   "id": "2e8a9370-db0b-4508-881d-9d35dc41a782",
   "metadata": {},
   "outputs": [],
   "source": [
    "mistral_llm = Ollama(model=\"mistral\", temperature=0)"
   ]
  },
  {
   "cell_type": "code",
   "execution_count": 357,
   "id": "7178e71c-98d7-408a-a453-681d8de375a3",
   "metadata": {},
   "outputs": [],
   "source": [
    "gorilla_prompt = PromptTemplate.from_template(\"USER: <<question>> {question} <<function>> {functions_string}\\nASSISTANT: \").partial(functions_string=functions_string)"
   ]
  },
  {
   "cell_type": "code",
   "execution_count": 358,
   "id": "f93eb3c0-3087-4b8a-b90f-ba0ad75ddf72",
   "metadata": {},
   "outputs": [],
   "source": [
    "mistral_prompt = PromptTemplate.from_template(\"\"\"<s>[INST]You are a helpful AI API assistant. You have access to the following tools:\n",
    "\n",
    "{functions_string}\n",
    "\n",
    "Only use these tools to generate appropriate calls based on user's questions. Use parameter name based on the tool description.\n",
    "\n",
    "For example:\n",
    "Order a ride to the airport of type comfort. I want to leave in 10 minutes.\n",
    "I want to order 2 big macs and a regular fries from McDonalds and a diet coke from 711.\n",
    "I am craving chicken biriyani from bawarchi.\n",
    "I need to leave for work in 20 mins. \n",
    "[/INST]</s>\n",
    "uber.ride(loc=\"airport\", type=\"comfort\", time=10)\n",
    "uber.eat.order(restaurants=\"McDonalds\", items=[\"big macs\",\"regular fries\"], quantities=[2,1])\n",
    "uber.eat.order(restaurants=\"711\", items=[\"diet coke\"], quantities=[1])\n",
    "uber.eat.order(restaurants=\"bawarchi\", items=[\"chicken biriyani\"], quantities=[1])\n",
    "uber.ride(loc=\"work\", type=\"comfort\", time=20)\n",
    "[INST]\n",
    "{question}\n",
    "[/INST]\n",
    "\"\"\").partial(functions_string=functions_string)"
   ]
  },
  {
   "cell_type": "code",
   "execution_count": 408,
   "id": "4b030c6e-134b-4f42-9e05-9d88d515762c",
   "metadata": {},
   "outputs": [],
   "source": [
    "prompt = PromptTemplate.from_template(\"{request}\")"
   ]
  },
  {
   "cell_type": "code",
   "execution_count": 409,
   "id": "e88f3da2-d65b-45a8-a200-c85b99ac7c79",
   "metadata": {},
   "outputs": [],
   "source": [
    "chain = (\n",
    "    prompt | \n",
    "    {\n",
    "        \"question\": RunnablePassthrough() | RunnableLambda(lambda p: p.to_string()), \n",
    "        \"functions_string\": RunnableLambda(lambda x:functions_strings)\n",
    "    } | \n",
    "    {\n",
    "        \"gorilla\": gorilla_prompt | gorilla_llm | StrOutputParser(), \n",
    "        \"mistral\": mistral_prompt | mistral_llm | StrOutputParser() \n",
    "    }\n",
    ")"
   ]
  },
  {
   "cell_type": "code",
   "execution_count": 410,
   "id": "9cbad079-c8e1-468e-90df-4aea6871e26a",
   "metadata": {},
   "outputs": [
    {
     "data": {
      "text/plain": [
       "{'gorilla': 'uber.eat.order(restaurants=\"McDonalds\", items=[\"2 big macs\"], quantities=[2])',\n",
       " 'mistral': 'uber.eat.order(restaurants=\"McDonalds\", items=[\"big macs\"], quantities=[2])'}"
      ]
     },
     "execution_count": 410,
     "metadata": {},
     "output_type": "execute_result"
    }
   ],
   "source": [
    "chain.invoke({\"request\":\"Order 2 big macs from McDonalds\"})"
   ]
  },
  {
   "cell_type": "code",
   "execution_count": 411,
   "id": "b3fba3b6-76fe-4b30-89f8-47768be46188",
   "metadata": {},
   "outputs": [
    {
     "data": {
      "text/plain": [
       "{'gorilla': 'uber.ride(loc=\"airport\", type=\"comfort\", time=10)',\n",
       " 'mistral': 'uber.ride(loc=\"airport\", type=\"comfort\", time=10)'}"
      ]
     },
     "execution_count": 411,
     "metadata": {},
     "output_type": "execute_result"
    }
   ],
   "source": [
    "chain.invoke({\"request\":\"Book a ride to the airport within next 10 minutes\"})"
   ]
  },
  {
   "cell_type": "code",
   "execution_count": 412,
   "id": "6d6be661-5a9b-4f2a-9f5f-1184642a2f77",
   "metadata": {},
   "outputs": [
    {
     "data": {
      "text/plain": [
       "{'gorilla': 'uber.eat.order(restaurants=[\"Jersey Mike\\'s\"], items=[\"Philly Cheesestake\", \"Diet Coke\", \"Chips\"], quantities=[1, 1, 1])',\n",
       " 'mistral': 'uber.eat.order(restaurants=\"Jersey Mike\\'s\", items=[\"regular philly cheesestake\",\"diet coke\",\"chips\"], quantities=[1,1,1])\\nuber.ride(loc=\"home\", type=\"comfort\", time=20)'}"
      ]
     },
     "execution_count": 412,
     "metadata": {},
     "output_type": "execute_result"
    }
   ],
   "source": [
    "chain.invoke({\"request\":\"I am craving a regular philly cheesestake with a diet coke and chips from Jersey Mike's\"})"
   ]
  },
  {
   "cell_type": "code",
   "execution_count": 413,
   "id": "ca5d6be5-02cd-462d-82eb-ad7599c9dd0c",
   "metadata": {},
   "outputs": [
    {
     "data": {
      "text/plain": [
       "{'gorilla': 'uber.eat.order(restaurants=\"McDonald\\'s\", items=[\"5 burgers\", \"6 chicken wings\"], quantities=[10])',\n",
       " 'mistral': 'uber.eat.order(restaurants=\"McDonalds\", items=[\"burger\", \"chicken wings\"], quantities=[5,6])\\nuber.ride(loc=\"airport\", type=\"comfort\", time=10)'}"
      ]
     },
     "execution_count": 413,
     "metadata": {},
     "output_type": "execute_result"
    }
   ],
   "source": [
    "chain.invoke({\"request\":\"I want to order five burgers and six chicken wings from McDonlad and go to the airport in 10 minutes\"})"
   ]
  },
  {
   "cell_type": "code",
   "execution_count": 414,
   "id": "35819eb0-e431-4bb4-b0c2-379ee0e21c39",
   "metadata": {},
   "outputs": [
    {
     "data": {
      "text/plain": [
       "{'gorilla': 'uber.ride(loc=\"park\", type=\"comfort\", time=15)',\n",
       " 'mistral': 'uber.ride(loc=\"park\", type=\"comfort\", time=15)'}"
      ]
     },
     "execution_count": 414,
     "metadata": {},
     "output_type": "execute_result"
    }
   ],
   "source": [
    "chain.invoke({\"request\":\"I need a ride to be at the park in 15 minutes\"})"
   ]
  },
  {
   "cell_type": "code",
   "execution_count": 415,
   "id": "db05a50f-3894-4f25-a71a-0f227ef9211c",
   "metadata": {},
   "outputs": [
    {
     "data": {
      "text/plain": [
       "{'gorilla': 'uber.eat.order(restaurants=[\"Mirchi\", \"Hopdoddys\"], \\n              items=[\"chicken tikka masala\", \"2 naans\", \"1 chicken biriyani\"], \\n              quantities=[1, 2, 3])',\n",
       " 'mistral': 'uber.eat.order(restaurants=[\"Mirchi\", \"Hopdoddy\\'s\"], items=[\"chicken tikka masala\", \"2 naans\", \"1 chicken biriyani\", \"El Diablo burger\", \"fries\"], quantities=[1, 2, 1, 1, 1])\\nuber.ride(loc=\"home\", type=\"comfort\", time=30)'}"
      ]
     },
     "execution_count": 415,
     "metadata": {},
     "output_type": "execute_result"
    }
   ],
   "source": [
    "chain.invoke({\"request\":\"I want to order chicken tikka masala, 2 naans, and 1 chicken biriyani from Mirchi and an El Diablo burger and fries from Hopdoddys\"})"
   ]
  }
 ],
 "metadata": {
  "kernelspec": {
   "display_name": "Python 3 (ipykernel)",
   "language": "python",
   "name": "python3"
  },
  "language_info": {
   "codemirror_mode": {
    "name": "ipython",
    "version": 3
   },
   "file_extension": ".py",
   "mimetype": "text/x-python",
   "name": "python",
   "nbconvert_exporter": "python",
   "pygments_lexer": "ipython3",
   "version": "3.10.12"
  }
 },
 "nbformat": 4,
 "nbformat_minor": 5
}
