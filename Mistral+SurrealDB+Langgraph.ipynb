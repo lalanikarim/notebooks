{
 "cells": [
  {
   "cell_type": "code",
   "execution_count": 1,
   "id": "f27978c8-f08e-4847-9be7-92e95cee00ca",
   "metadata": {},
   "outputs": [
    {
     "data": {
      "text/plain": [
       "True"
      ]
     },
     "execution_count": 1,
     "metadata": {},
     "output_type": "execute_result"
    }
   ],
   "source": [
    "from dotenv import load_dotenv\n",
    "import os\n",
    "\n",
    "load_dotenv()"
   ]
  },
  {
   "cell_type": "code",
   "execution_count": 619,
   "id": "48cb084e-1fdf-4ce4-abfc-d26c0c09a4e3",
   "metadata": {
    "collapsed": true,
    "jupyter": {
     "outputs_hidden": true
    }
   },
   "outputs": [
    {
     "name": "stdout",
     "output_type": "stream",
     "text": [
      "Requirement already satisfied: langchain in /home/karim/Jupyter/.venv/lib/python3.10/site-packages (0.1.6)\n",
      "Requirement already satisfied: langchain_openai in /home/karim/Jupyter/.venv/lib/python3.10/site-packages (0.0.5)\n",
      "Requirement already satisfied: langchain_experimental in /home/karim/Jupyter/.venv/lib/python3.10/site-packages (0.0.50)\n",
      "Requirement already satisfied: langgraph in /home/karim/Jupyter/.venv/lib/python3.10/site-packages (0.0.24)\n",
      "Requirement already satisfied: duckduckgo-search in /home/karim/Jupyter/.venv/lib/python3.10/site-packages (4.4)\n",
      "Requirement already satisfied: sentence-transformers in /home/karim/Jupyter/.venv/lib/python3.10/site-packages (2.3.1)\n",
      "Collecting surrealdb\n",
      "  Downloading surrealdb-0.3.2-py3-none-any.whl (14 kB)\n",
      "Requirement already satisfied: langchain-core<0.2,>=0.1.22 in /home/karim/Jupyter/.venv/lib/python3.10/site-packages (from langchain) (0.1.22)\n",
      "Requirement already satisfied: SQLAlchemy<3,>=1.4 in /home/karim/Jupyter/.venv/lib/python3.10/site-packages (from langchain) (2.0.25)\n",
      "Requirement already satisfied: langchain-community<0.1,>=0.0.18 in /home/karim/Jupyter/.venv/lib/python3.10/site-packages (from langchain) (0.0.19)\n",
      "Requirement already satisfied: langsmith<0.1,>=0.0.83 in /home/karim/Jupyter/.venv/lib/python3.10/site-packages (from langchain) (0.0.87)\n",
      "Requirement already satisfied: numpy<2,>=1 in /home/karim/Jupyter/.venv/lib/python3.10/site-packages (from langchain) (1.26.4)\n",
      "Requirement already satisfied: pydantic<3,>=1 in /home/karim/Jupyter/.venv/lib/python3.10/site-packages (from langchain) (2.6.1)\n",
      "Requirement already satisfied: PyYAML>=5.3 in /home/karim/Jupyter/.venv/lib/python3.10/site-packages (from langchain) (6.0.1)\n",
      "Requirement already satisfied: dataclasses-json<0.7,>=0.5.7 in /home/karim/Jupyter/.venv/lib/python3.10/site-packages (from langchain) (0.6.4)\n",
      "Requirement already satisfied: jsonpatch<2.0,>=1.33 in /home/karim/Jupyter/.venv/lib/python3.10/site-packages (from langchain) (1.33)\n",
      "Requirement already satisfied: async-timeout<5.0.0,>=4.0.0 in /home/karim/Jupyter/.venv/lib/python3.10/site-packages (from langchain) (4.0.3)\n",
      "Requirement already satisfied: requests<3,>=2 in /home/karim/Jupyter/.venv/lib/python3.10/site-packages (from langchain) (2.31.0)\n",
      "Requirement already satisfied: aiohttp<4.0.0,>=3.8.3 in /home/karim/Jupyter/.venv/lib/python3.10/site-packages (from langchain) (3.9.1)\n",
      "Requirement already satisfied: tenacity<9.0.0,>=8.1.0 in /home/karim/Jupyter/.venv/lib/python3.10/site-packages (from langchain) (8.2.3)\n",
      "Requirement already satisfied: tiktoken<0.6.0,>=0.5.2 in /home/karim/Jupyter/.venv/lib/python3.10/site-packages (from langchain_openai) (0.5.2)\n",
      "Requirement already satisfied: openai<2.0.0,>=1.10.0 in /home/karim/Jupyter/.venv/lib/python3.10/site-packages (from langchain_openai) (1.12.0)\n",
      "Requirement already satisfied: nest-asyncio>=1.6.0 in /home/karim/Jupyter/.venv/lib/python3.10/site-packages (from duckduckgo-search) (1.6.0)\n",
      "Requirement already satisfied: curl-cffi>=0.6.0b7 in /home/karim/Jupyter/.venv/lib/python3.10/site-packages (from duckduckgo-search) (0.6.0b9)\n",
      "Requirement already satisfied: click>=8.1.7 in /home/karim/Jupyter/.venv/lib/python3.10/site-packages (from duckduckgo-search) (8.1.7)\n",
      "Requirement already satisfied: lxml>=4.9.3 in /home/karim/Jupyter/.venv/lib/python3.10/site-packages (from duckduckgo-search) (5.1.0)\n",
      "Requirement already satisfied: docstring-inheritance>=2.1.2 in /home/karim/Jupyter/.venv/lib/python3.10/site-packages (from duckduckgo-search) (2.1.2)\n",
      "Requirement already satisfied: scikit-learn in /home/karim/Jupyter/.venv/lib/python3.10/site-packages (from sentence-transformers) (1.4.0)\n",
      "Requirement already satisfied: tqdm in /home/karim/Jupyter/.venv/lib/python3.10/site-packages (from sentence-transformers) (4.66.1)\n",
      "Requirement already satisfied: scipy in /home/karim/Jupyter/.venv/lib/python3.10/site-packages (from sentence-transformers) (1.12.0)\n",
      "Requirement already satisfied: sentencepiece in /home/karim/Jupyter/.venv/lib/python3.10/site-packages (from sentence-transformers) (0.1.99)\n",
      "Requirement already satisfied: huggingface-hub>=0.15.1 in /home/karim/Jupyter/.venv/lib/python3.10/site-packages (from sentence-transformers) (0.20.3)\n",
      "Requirement already satisfied: nltk in /home/karim/Jupyter/.venv/lib/python3.10/site-packages (from sentence-transformers) (3.8.1)\n",
      "Requirement already satisfied: transformers<5.0.0,>=4.32.0 in /home/karim/Jupyter/.venv/lib/python3.10/site-packages (from sentence-transformers) (4.37.2)\n",
      "Requirement already satisfied: Pillow in /home/karim/Jupyter/.venv/lib/python3.10/site-packages (from sentence-transformers) (10.2.0)\n",
      "Requirement already satisfied: torch>=1.11.0 in /home/karim/Jupyter/.venv/lib/python3.10/site-packages (from sentence-transformers) (2.2.0)\n",
      "Collecting websockets<11.0,>=10.4\n",
      "  Downloading websockets-10.4-cp310-cp310-manylinux_2_5_x86_64.manylinux1_x86_64.manylinux_2_17_x86_64.manylinux2014_x86_64.whl (106 kB)\n",
      "\u001b[2K     \u001b[90m━━━━━━━━━━━━━━━━━━━━━━━━━━━━━━━━━━━━━━━\u001b[0m \u001b[32m106.8/106.8 KB\u001b[0m \u001b[31m2.9 MB/s\u001b[0m eta \u001b[36m0:00:00\u001b[0ma \u001b[36m0:00:01\u001b[0m\n",
      "\u001b[?25hRequirement already satisfied: httpx>=0.23.0 in /home/karim/Jupyter/.venv/lib/python3.10/site-packages (from surrealdb) (0.26.0)\n",
      "Requirement already satisfied: yarl<2.0,>=1.0 in /home/karim/Jupyter/.venv/lib/python3.10/site-packages (from aiohttp<4.0.0,>=3.8.3->langchain) (1.9.4)\n",
      "Requirement already satisfied: multidict<7.0,>=4.5 in /home/karim/Jupyter/.venv/lib/python3.10/site-packages (from aiohttp<4.0.0,>=3.8.3->langchain) (6.0.4)\n",
      "Requirement already satisfied: aiosignal>=1.1.2 in /home/karim/Jupyter/.venv/lib/python3.10/site-packages (from aiohttp<4.0.0,>=3.8.3->langchain) (1.3.1)\n",
      "Requirement already satisfied: frozenlist>=1.1.1 in /home/karim/Jupyter/.venv/lib/python3.10/site-packages (from aiohttp<4.0.0,>=3.8.3->langchain) (1.4.1)\n",
      "Requirement already satisfied: attrs>=17.3.0 in /home/karim/Jupyter/.venv/lib/python3.10/site-packages (from aiohttp<4.0.0,>=3.8.3->langchain) (23.2.0)\n",
      "Requirement already satisfied: certifi in /home/karim/Jupyter/.venv/lib/python3.10/site-packages (from curl-cffi>=0.6.0b7->duckduckgo-search) (2023.11.17)\n",
      "Requirement already satisfied: cffi>=1.12.0 in /home/karim/Jupyter/.venv/lib/python3.10/site-packages (from curl-cffi>=0.6.0b7->duckduckgo-search) (1.16.0)\n",
      "Requirement already satisfied: marshmallow<4.0.0,>=3.18.0 in /home/karim/Jupyter/.venv/lib/python3.10/site-packages (from dataclasses-json<0.7,>=0.5.7->langchain) (3.20.2)\n",
      "Requirement already satisfied: typing-inspect<1,>=0.4.0 in /home/karim/Jupyter/.venv/lib/python3.10/site-packages (from dataclasses-json<0.7,>=0.5.7->langchain) (0.9.0)\n",
      "Requirement already satisfied: anyio in /home/karim/Jupyter/.venv/lib/python3.10/site-packages (from httpx>=0.23.0->surrealdb) (4.2.0)\n",
      "Requirement already satisfied: idna in /home/karim/Jupyter/.venv/lib/python3.10/site-packages (from httpx>=0.23.0->surrealdb) (3.6)\n",
      "Requirement already satisfied: sniffio in /home/karim/Jupyter/.venv/lib/python3.10/site-packages (from httpx>=0.23.0->surrealdb) (1.3.0)\n",
      "Requirement already satisfied: httpcore==1.* in /home/karim/Jupyter/.venv/lib/python3.10/site-packages (from httpx>=0.23.0->surrealdb) (1.0.2)\n",
      "Requirement already satisfied: h11<0.15,>=0.13 in /home/karim/Jupyter/.venv/lib/python3.10/site-packages (from httpcore==1.*->httpx>=0.23.0->surrealdb) (0.14.0)\n",
      "Requirement already satisfied: filelock in /home/karim/Jupyter/.venv/lib/python3.10/site-packages (from huggingface-hub>=0.15.1->sentence-transformers) (3.13.1)\n",
      "Requirement already satisfied: typing-extensions>=3.7.4.3 in /home/karim/Jupyter/.venv/lib/python3.10/site-packages (from huggingface-hub>=0.15.1->sentence-transformers) (4.9.0)\n",
      "Requirement already satisfied: packaging>=20.9 in /home/karim/Jupyter/.venv/lib/python3.10/site-packages (from huggingface-hub>=0.15.1->sentence-transformers) (23.2)\n",
      "Requirement already satisfied: fsspec>=2023.5.0 in /home/karim/Jupyter/.venv/lib/python3.10/site-packages (from huggingface-hub>=0.15.1->sentence-transformers) (2024.2.0)\n",
      "Requirement already satisfied: jsonpointer>=1.9 in /home/karim/Jupyter/.venv/lib/python3.10/site-packages (from jsonpatch<2.0,>=1.33->langchain) (2.4)\n",
      "Requirement already satisfied: distro<2,>=1.7.0 in /home/karim/Jupyter/.venv/lib/python3.10/site-packages (from openai<2.0.0,>=1.10.0->langchain_openai) (1.9.0)\n",
      "Requirement already satisfied: annotated-types>=0.4.0 in /home/karim/Jupyter/.venv/lib/python3.10/site-packages (from pydantic<3,>=1->langchain) (0.6.0)\n",
      "Requirement already satisfied: pydantic-core==2.16.2 in /home/karim/Jupyter/.venv/lib/python3.10/site-packages (from pydantic<3,>=1->langchain) (2.16.2)\n",
      "Requirement already satisfied: urllib3<3,>=1.21.1 in /home/karim/Jupyter/.venv/lib/python3.10/site-packages (from requests<3,>=2->langchain) (2.0.7)\n",
      "Requirement already satisfied: charset-normalizer<4,>=2 in /home/karim/Jupyter/.venv/lib/python3.10/site-packages (from requests<3,>=2->langchain) (3.3.2)\n",
      "Requirement already satisfied: greenlet!=0.4.17 in /home/karim/Jupyter/.venv/lib/python3.10/site-packages (from SQLAlchemy<3,>=1.4->langchain) (3.0.3)\n",
      "Requirement already satisfied: regex>=2022.1.18 in /home/karim/Jupyter/.venv/lib/python3.10/site-packages (from tiktoken<0.6.0,>=0.5.2->langchain_openai) (2023.12.25)\n",
      "Requirement already satisfied: nvidia-curand-cu12==10.3.2.106 in /home/karim/Jupyter/.venv/lib/python3.10/site-packages (from torch>=1.11.0->sentence-transformers) (10.3.2.106)\n",
      "Requirement already satisfied: nvidia-cusolver-cu12==11.4.5.107 in /home/karim/Jupyter/.venv/lib/python3.10/site-packages (from torch>=1.11.0->sentence-transformers) (11.4.5.107)\n",
      "Requirement already satisfied: triton==2.2.0 in /home/karim/Jupyter/.venv/lib/python3.10/site-packages (from torch>=1.11.0->sentence-transformers) (2.2.0)\n",
      "Requirement already satisfied: nvidia-nvtx-cu12==12.1.105 in /home/karim/Jupyter/.venv/lib/python3.10/site-packages (from torch>=1.11.0->sentence-transformers) (12.1.105)\n",
      "Requirement already satisfied: nvidia-cusparse-cu12==12.1.0.106 in /home/karim/Jupyter/.venv/lib/python3.10/site-packages (from torch>=1.11.0->sentence-transformers) (12.1.0.106)\n",
      "Requirement already satisfied: nvidia-nccl-cu12==2.19.3 in /home/karim/Jupyter/.venv/lib/python3.10/site-packages (from torch>=1.11.0->sentence-transformers) (2.19.3)\n",
      "Requirement already satisfied: jinja2 in /home/karim/Jupyter/.venv/lib/python3.10/site-packages (from torch>=1.11.0->sentence-transformers) (3.1.3)\n",
      "Requirement already satisfied: networkx in /home/karim/Jupyter/.venv/lib/python3.10/site-packages (from torch>=1.11.0->sentence-transformers) (3.2.1)\n",
      "Requirement already satisfied: nvidia-cuda-runtime-cu12==12.1.105 in /home/karim/Jupyter/.venv/lib/python3.10/site-packages (from torch>=1.11.0->sentence-transformers) (12.1.105)\n",
      "Requirement already satisfied: nvidia-cuda-cupti-cu12==12.1.105 in /home/karim/Jupyter/.venv/lib/python3.10/site-packages (from torch>=1.11.0->sentence-transformers) (12.1.105)\n",
      "Requirement already satisfied: sympy in /home/karim/Jupyter/.venv/lib/python3.10/site-packages (from torch>=1.11.0->sentence-transformers) (1.12)\n",
      "Requirement already satisfied: nvidia-cublas-cu12==12.1.3.1 in /home/karim/Jupyter/.venv/lib/python3.10/site-packages (from torch>=1.11.0->sentence-transformers) (12.1.3.1)\n",
      "Requirement already satisfied: nvidia-cudnn-cu12==8.9.2.26 in /home/karim/Jupyter/.venv/lib/python3.10/site-packages (from torch>=1.11.0->sentence-transformers) (8.9.2.26)\n",
      "Requirement already satisfied: nvidia-cufft-cu12==11.0.2.54 in /home/karim/Jupyter/.venv/lib/python3.10/site-packages (from torch>=1.11.0->sentence-transformers) (11.0.2.54)\n",
      "Requirement already satisfied: nvidia-cuda-nvrtc-cu12==12.1.105 in /home/karim/Jupyter/.venv/lib/python3.10/site-packages (from torch>=1.11.0->sentence-transformers) (12.1.105)\n",
      "Requirement already satisfied: nvidia-nvjitlink-cu12 in /home/karim/Jupyter/.venv/lib/python3.10/site-packages (from nvidia-cusolver-cu12==11.4.5.107->torch>=1.11.0->sentence-transformers) (12.3.101)\n",
      "Requirement already satisfied: tokenizers<0.19,>=0.14 in /home/karim/Jupyter/.venv/lib/python3.10/site-packages (from transformers<5.0.0,>=4.32.0->sentence-transformers) (0.15.1)\n",
      "Requirement already satisfied: safetensors>=0.4.1 in /home/karim/Jupyter/.venv/lib/python3.10/site-packages (from transformers<5.0.0,>=4.32.0->sentence-transformers) (0.4.2)\n",
      "Requirement already satisfied: joblib in /home/karim/Jupyter/.venv/lib/python3.10/site-packages (from nltk->sentence-transformers) (1.3.2)\n",
      "Requirement already satisfied: threadpoolctl>=2.0.0 in /home/karim/Jupyter/.venv/lib/python3.10/site-packages (from scikit-learn->sentence-transformers) (3.2.0)\n",
      "Requirement already satisfied: exceptiongroup>=1.0.2 in /home/karim/Jupyter/.venv/lib/python3.10/site-packages (from anyio->httpx>=0.23.0->surrealdb) (1.2.0)\n",
      "Requirement already satisfied: pycparser in /home/karim/Jupyter/.venv/lib/python3.10/site-packages (from cffi>=1.12.0->curl-cffi>=0.6.0b7->duckduckgo-search) (2.21)\n",
      "Requirement already satisfied: mypy-extensions>=0.3.0 in /home/karim/Jupyter/.venv/lib/python3.10/site-packages (from typing-inspect<1,>=0.4.0->dataclasses-json<0.7,>=0.5.7->langchain) (1.0.0)\n",
      "Requirement already satisfied: MarkupSafe>=2.0 in /home/karim/Jupyter/.venv/lib/python3.10/site-packages (from jinja2->torch>=1.11.0->sentence-transformers) (2.1.4)\n",
      "Requirement already satisfied: mpmath>=0.19 in /home/karim/Jupyter/.venv/lib/python3.10/site-packages (from sympy->torch>=1.11.0->sentence-transformers) (1.3.0)\n",
      "Installing collected packages: websockets, surrealdb\n",
      "Successfully installed surrealdb-0.3.2 websockets-10.4\n",
      "Note: you may need to restart the kernel to use updated packages.\n"
     ]
    }
   ],
   "source": [
    "%pip install -U langchain langchain_openai langchain_experimental langgraph duckduckgo-search sentence-transformers surrealdb"
   ]
  },
  {
   "cell_type": "code",
   "execution_count": 2,
   "id": "186d4f37-a209-4c6a-9f48-e29ae85e0c86",
   "metadata": {},
   "outputs": [],
   "source": [
    "from langchain_community.tools import DuckDuckGoSearchRun\n",
    "tools = [DuckDuckGoSearchRun()]"
   ]
  },
  {
   "cell_type": "code",
   "execution_count": 3,
   "id": "3e6bdfd4-0b7f-4cb8-ac9b-0cda05d9cd0a",
   "metadata": {},
   "outputs": [],
   "source": [
    "from langgraph.prebuilt import ToolExecutor\n",
    "\n",
    "tool_executor = ToolExecutor(tools)"
   ]
  },
  {
   "cell_type": "code",
   "execution_count": 7,
   "id": "53f18e92-8da1-4e59-be9e-2026654f9064",
   "metadata": {},
   "outputs": [],
   "source": [
    "from langchain_openai import ChatOpenAI\n",
    "\n",
    "# We will set streaming=True so that we can stream tokens\n",
    "# See the streaming section for more information on this.\n",
    "\n",
    "model = ChatOpenAI(\n",
    "    api_key='ollama',\n",
    "    base_url='http://localhost:11434/v1',\n",
    "    model='mistral',\n",
    "    temperature=0, \n",
    "    streaming=True)"
   ]
  },
  {
   "cell_type": "code",
   "execution_count": 8,
   "id": "73cc99ec-cde7-4b6b-bbd4-ebe460406170",
   "metadata": {},
   "outputs": [],
   "source": [
    "from langchain_core.utils.function_calling import convert_to_openai_function\n",
    "\n",
    "functions = [convert_to_openai_function(t) for t in tools]\n",
    "model = model.bind_functions(functions)"
   ]
  },
  {
   "cell_type": "code",
   "execution_count": 9,
   "id": "8837462f-5804-452c-a749-ffdf6cd07229",
   "metadata": {},
   "outputs": [
    {
     "name": "stderr",
     "output_type": "stream",
     "text": [
      "/home/karim/Jupyter/.venv/lib/python3.10/site-packages/tqdm/auto.py:21: TqdmWarning: IProgress not found. Please update jupyter and ipywidgets. See https://ipywidgets.readthedocs.io/en/stable/user_install.html\n",
      "  from .autonotebook import tqdm as notebook_tqdm\n"
     ]
    }
   ],
   "source": [
    "from langchain_community.vectorstores import SurrealDBStore\n",
    "from langchain_community.embeddings import HuggingFaceEmbeddings\n",
    "\n",
    "embedding_function = HuggingFaceEmbeddings()\n",
    "sdb = SurrealDBStore(embedding_function=embedding_function, db_user=\"root\", db_pass=\"root\")\n",
    "\n",
    "await sdb.initialize()"
   ]
  },
  {
   "cell_type": "code",
   "execution_count": 629,
   "id": "c2d93934-a0df-40e3-82d7-6cc7e80f30b2",
   "metadata": {},
   "outputs": [
    {
     "data": {
      "text/plain": [
       "['documents:h96ejbnpjqnncvidboxo',\n",
       " 'documents:o5w8x44oiq81u9v5u4xo',\n",
       " 'documents:k65f3pg6z86fqg52xiv6',\n",
       " 'documents:0285ks1u3z8sa54l95mp',\n",
       " 'documents:swr0qhi1sqiyfqfm07pc',\n",
       " 'documents:sqwr8q3fl2fbyg8eqz97',\n",
       " 'documents:343xknpmdw67s4p406di',\n",
       " 'documents:qkzezz7c4gxoy64ybl0s',\n",
       " 'documents:3yfo3l4vi55qvdkl990q',\n",
       " 'documents:4jl8nvhig022v6w6mc36',\n",
       " 'documents:o09xdj9b17kq2xgb3who',\n",
       " 'documents:6tlws6mcqmff2b7bukwz',\n",
       " 'documents:q2z2bwhr3ilthvd37dhb',\n",
       " 'documents:9forwkkqj1e03wc6g5o0',\n",
       " 'documents:rxxwy95a728s1okhsvmv',\n",
       " 'documents:gqt6pti397p6pdz9mw51',\n",
       " 'documents:1btjx002kpd234x9c3sf',\n",
       " 'documents:k3msjjjw6q7rc6ovbgg9',\n",
       " 'documents:mfdqt3zlsyjgdnlv63qj',\n",
       " 'documents:rk94mnyg22gkq3yi2rbp',\n",
       " 'documents:sal0awa7a17n8lg804qi',\n",
       " 'documents:9zorkadxixa8dut015t1',\n",
       " 'documents:k0i5tastg5kcmkqn1fwp',\n",
       " 'documents:0xn0f7g32nrz4v08s82n',\n",
       " 'documents:upcvxevum53lcwnm7pme',\n",
       " 'documents:dm4hpw49f33bvtsndr6m',\n",
       " 'documents:uo0bbb55de2lqz7bmn2q',\n",
       " 'documents:i1v2do7eth3tjft4dajn',\n",
       " 'documents:t8gm2ngwnkp0o6rpy4r9',\n",
       " 'documents:nagu424ujo7syl727iky',\n",
       " 'documents:i8mmropdy138yqkor9gq',\n",
       " 'documents:3tgwcm7wbtsexlho9x7n',\n",
       " 'documents:hpdnxgimo6qpxhklu1km',\n",
       " 'documents:fpwl091xnemysj15gl1u',\n",
       " 'documents:ahqgyfe1r6wrf8znlboe',\n",
       " 'documents:kl397hf9ufoddlkdoivi',\n",
       " 'documents:oweqmlvu9e4g5vkvgu7d',\n",
       " 'documents:xl0fobzwwb07lfzifdjb',\n",
       " 'documents:77uck50lmryrf9jvycxs',\n",
       " 'documents:0a9pc4xihyzjiwrxrwd0',\n",
       " 'documents:dcmwalb3xpl6dyf5pvi9',\n",
       " 'documents:dagwqkjus6efav92msxq']"
      ]
     },
     "execution_count": 629,
     "metadata": {},
     "output_type": "execute_result"
    }
   ],
   "source": [
    "from langchain.text_splitter import CharacterTextSplitter\n",
    "from langchain_community.document_loaders import TextLoader\n",
    "\n",
    "documents = TextLoader(\"state_of_the_union.txt\").load()\n",
    "text_splitter = CharacterTextSplitter(chunk_size=1000, chunk_overlap=0)\n",
    "docs = text_splitter.split_documents(documents)\n",
    "\n",
    "await sdb.adelete()\n",
    "await sdb.aadd_documents(docs)"
   ]
  },
  {
   "cell_type": "code",
   "execution_count": 10,
   "id": "68b0d732-0137-4ea2-b439-199d24dbff1e",
   "metadata": {},
   "outputs": [
    {
     "data": {
      "text/plain": [
       "[Document(page_content='Tonight. I call on the Senate to: Pass the Freedom to Vote Act. Pass the John Lewis Voting Rights Act. And while you’re at it, pass the Disclose Act so Americans can know who is funding our elections. \\n\\nTonight, I’d like to honor someone who has dedicated his life to serve this country: Justice Stephen Breyer—an Army veteran, Constitutional scholar, and retiring Justice of the United States Supreme Court. Justice Breyer, thank you for your service. \\n\\nOne of the most serious constitutional responsibilities a President has is nominating someone to serve on the United States Supreme Court. \\n\\nAnd I did that 4 days ago, when I nominated Circuit Court of Appeals Judge Ketanji Brown Jackson. One of our nation’s top legal minds, who will continue Justice Breyer’s legacy of excellence.', metadata={'id': 'documents:3tgwcm7wbtsexlho9x7n', 'source': 'state_of_the_union.txt'}),\n",
       " Document(page_content='As Frances Haugen, who is here with us tonight, has shown, we must hold social media platforms accountable for the national experiment they’re conducting on our children for profit. \\n\\nIt’s time to strengthen privacy protections, ban targeted advertising to children, demand tech companies stop collecting personal data on our children. \\n\\nAnd let’s get all Americans the mental health services they need. More people they can turn to for help, and full parity between physical and mental health care. \\n\\nThird, support our veterans. \\n\\nVeterans are the best of us. \\n\\nI’ve always believed that we have a sacred obligation to equip all those we send to war and care for them and their families when they come home. \\n\\nMy administration is providing assistance with job training and housing, and now helping lower-income veterans get VA care debt-free.  \\n\\nOur troops in Iraq and Afghanistan faced many dangers.', metadata={'id': 'documents:oweqmlvu9e4g5vkvgu7d', 'source': 'state_of_the_union.txt'}),\n",
       " Document(page_content='A former top litigator in private practice. A former federal public defender. And from a family of public school educators and police officers. A consensus builder. Since she’s been nominated, she’s received a broad range of support—from the Fraternal Order of Police to former judges appointed by Democrats and Republicans. \\n\\nAnd if we are to advance liberty and justice, we need to secure the Border and fix the immigration system. \\n\\nWe can do both. At our border, we’ve installed new technology like cutting-edge scanners to better detect drug smuggling.  \\n\\nWe’ve set up joint patrols with Mexico and Guatemala to catch more human traffickers.  \\n\\nWe’re putting in place dedicated immigration judges so families fleeing persecution and violence can have their cases heard faster. \\n\\nWe’re securing commitments and supporting partners in South and Central America to host more refugees and secure their own borders.', metadata={'id': 'documents:hpdnxgimo6qpxhklu1km', 'source': 'state_of_the_union.txt'}),\n",
       " Document(page_content='But cancer from prolonged exposure to burn pits ravaged Heath’s lungs and body. \\n\\nDanielle says Heath was a fighter to the very end. \\n\\nHe didn’t know how to stop fighting, and neither did she. \\n\\nThrough her pain she found purpose to demand we do better. \\n\\nTonight, Danielle—we are. \\n\\nThe VA is pioneering new ways of linking toxic exposures to diseases, already helping more veterans get benefits. \\n\\nAnd tonight, I’m announcing we’re expanding eligibility to veterans suffering from nine respiratory cancers. \\n\\nI’m also calling on Congress: pass a law to make sure veterans devastated by toxic exposures in Iraq and Afghanistan finally get the benefits and comprehensive health care they deserve. \\n\\nAnd fourth, let’s end cancer as we know it. \\n\\nThis is personal to me and Jill, to Kamala, and to so many of you. \\n\\nCancer is the #2 cause of death in America–second only to heart disease.', metadata={'id': 'documents:77uck50lmryrf9jvycxs', 'source': 'state_of_the_union.txt'})]"
      ]
     },
     "execution_count": 10,
     "metadata": {},
     "output_type": "execute_result"
    }
   ],
   "source": [
    "query = \"What did the president say about Ketanji Brown Jackson\"\n",
    "await sdb.asimilarity_search(query)"
   ]
  },
  {
   "cell_type": "code",
   "execution_count": 11,
   "id": "6dbf6593-c0a5-4e8e-abf3-fb3e525c7e66",
   "metadata": {},
   "outputs": [
    {
     "data": {
      "text/plain": [
       "[(Document(page_content='Tonight. I call on the Senate to: Pass the Freedom to Vote Act. Pass the John Lewis Voting Rights Act. And while you’re at it, pass the Disclose Act so Americans can know who is funding our elections. \\n\\nTonight, I’d like to honor someone who has dedicated his life to serve this country: Justice Stephen Breyer—an Army veteran, Constitutional scholar, and retiring Justice of the United States Supreme Court. Justice Breyer, thank you for your service. \\n\\nOne of the most serious constitutional responsibilities a President has is nominating someone to serve on the United States Supreme Court. \\n\\nAnd I did that 4 days ago, when I nominated Circuit Court of Appeals Judge Ketanji Brown Jackson. One of our nation’s top legal minds, who will continue Justice Breyer’s legacy of excellence.', metadata={'id': 'documents:3tgwcm7wbtsexlho9x7n', 'source': 'state_of_the_union.txt'}),\n",
       "  0.3983954794333666),\n",
       " (Document(page_content='As Frances Haugen, who is here with us tonight, has shown, we must hold social media platforms accountable for the national experiment they’re conducting on our children for profit. \\n\\nIt’s time to strengthen privacy protections, ban targeted advertising to children, demand tech companies stop collecting personal data on our children. \\n\\nAnd let’s get all Americans the mental health services they need. More people they can turn to for help, and full parity between physical and mental health care. \\n\\nThird, support our veterans. \\n\\nVeterans are the best of us. \\n\\nI’ve always believed that we have a sacred obligation to equip all those we send to war and care for them and their families when they come home. \\n\\nMy administration is providing assistance with job training and housing, and now helping lower-income veterans get VA care debt-free.  \\n\\nOur troops in Iraq and Afghanistan faced many dangers.', metadata={'id': 'documents:oweqmlvu9e4g5vkvgu7d', 'source': 'state_of_the_union.txt'}),\n",
       "  0.25237640340436557),\n",
       " (Document(page_content='A former top litigator in private practice. A former federal public defender. And from a family of public school educators and police officers. A consensus builder. Since she’s been nominated, she’s received a broad range of support—from the Fraternal Order of Police to former judges appointed by Democrats and Republicans. \\n\\nAnd if we are to advance liberty and justice, we need to secure the Border and fix the immigration system. \\n\\nWe can do both. At our border, we’ve installed new technology like cutting-edge scanners to better detect drug smuggling.  \\n\\nWe’ve set up joint patrols with Mexico and Guatemala to catch more human traffickers.  \\n\\nWe’re putting in place dedicated immigration judges so families fleeing persecution and violence can have their cases heard faster. \\n\\nWe’re securing commitments and supporting partners in South and Central America to host more refugees and secure their own borders.', metadata={'id': 'documents:hpdnxgimo6qpxhklu1km', 'source': 'state_of_the_union.txt'}),\n",
       "  0.24958006945609668),\n",
       " (Document(page_content='But cancer from prolonged exposure to burn pits ravaged Heath’s lungs and body. \\n\\nDanielle says Heath was a fighter to the very end. \\n\\nHe didn’t know how to stop fighting, and neither did she. \\n\\nThrough her pain she found purpose to demand we do better. \\n\\nTonight, Danielle—we are. \\n\\nThe VA is pioneering new ways of linking toxic exposures to diseases, already helping more veterans get benefits. \\n\\nAnd tonight, I’m announcing we’re expanding eligibility to veterans suffering from nine respiratory cancers. \\n\\nI’m also calling on Congress: pass a law to make sure veterans devastated by toxic exposures in Iraq and Afghanistan finally get the benefits and comprehensive health care they deserve. \\n\\nAnd fourth, let’s end cancer as we know it. \\n\\nThis is personal to me and Jill, to Kamala, and to so many of you. \\n\\nCancer is the #2 cause of death in America–second only to heart disease.', metadata={'id': 'documents:77uck50lmryrf9jvycxs', 'source': 'state_of_the_union.txt'}),\n",
       "  0.24647353463971935)]"
      ]
     },
     "execution_count": 11,
     "metadata": {},
     "output_type": "execute_result"
    }
   ],
   "source": [
    "await sdb.asimilarity_search_with_relevance_scores(query)"
   ]
  },
  {
   "cell_type": "code",
   "execution_count": 106,
   "id": "890ede46-3fca-4fce-b371-3e834810d24e",
   "metadata": {},
   "outputs": [],
   "source": [
    "from langchain_core.runnables import RunnablePassthrough\n",
    "from langchain.prompts import PromptTemplate\n",
    "\n",
    "main_prompt = PromptTemplate.from_template(\n",
    "    \"\"\"You are a helpful assistant. Provide a response based on the below context. \n",
    "    If you don't have an answer, just say \"I don't know\". Don't suggest an answer.\n",
    "\n",
    "    Context:\n",
    "    {context}\n",
    "\n",
    "    Response:\n",
    "    \"\"\"\n",
    ")\n",
    "\n",
    "main_chain = main_prompt | model\n",
    "\n",
    "rag_prompt = PromptTemplate.from_template(\n",
    "    \"\"\"You are a helpful assistant. Provide a response based on the below context. \n",
    "    If you don't have an answer, just say \"I don't know\". Don't suggest an answer.\n",
    "\n",
    "    Context:\n",
    "    {context}\n",
    "\n",
    "    Human: {question}\n",
    "    AI: \"\"\"\n",
    ")\n",
    "\n",
    "rag_chain = (\n",
    "    {\n",
    "        \"context\": sdb.as_retriever(),\n",
    "        \"question\": RunnablePassthrough()\n",
    "    } | rag_prompt | model\n",
    ")\n",
    "\n",
    "review_prompt = PromptTemplate.from_template(\n",
    "    \"\"\"Review Message 1 and Message 2 below. Prepare a response accordingly. See reference examples below:\n",
    "\n",
    "    Only the below are valid responses:\n",
    "    1. If questions is about the state of the union, or asks what the President of United States say, then prepare a json response with the following format:\n",
    "\n",
    "    {{\"retrieve\": true}}\n",
    "\n",
    "    2. If Message 2 includes a satisfactory answer for the question, and doesn't include phrase similar to \"I cannot provide..\" etc, then prepare a json response with the following format:\n",
    "\n",
    "    {{\"response\": true}}\n",
    "    \n",
    "    3. If neither 1 or 2 work, then prepare a json response with the following format:\n",
    "\n",
    "    {{\"function\": {{\"arguments\": {{\"query\": \"question\"}}, \"name\": \"duckduckgo_search\"}}}}\n",
    "    \n",
    "    We only have access to \"duckduckgo_search\".\n",
    "    Do not include any additional explanation.\n",
    "    Do not respond that you can not provide an answer.\n",
    "    \n",
    "    Examples:\n",
    "\n",
    "    Message 1: What did the president say in the third state of the union?\n",
    "    Message 2: Some response\n",
    "    Final Response: {{\"retrieve\": true}}\n",
    "    \n",
    "    Message 1: What is the capital of France?\n",
    "    Message 2: Capital of France is Paris.\n",
    "    Final Response: {{\"response\": true}}\n",
    "\n",
    "    Message 1: Summarize the state of the union\n",
    "    Message 2: summary of the state of the union\n",
    "    Final Response: {{\"retrieve\": true}}\n",
    "\n",
    "    Message 1: Why is the sky blue?\n",
    "    Message 2: I don't have an answer for this question. I don't have real-time access to that data.\n",
    "    Final Response: {{\"function\": {{\"arguments\": {{\"query\": \"Why is the sky blue?\"}}, \"name\": \"duckduckgo_search\"}}}}\n",
    "\n",
    "    Message 1: What is 2+2?\n",
    "    Message 2: 2 + 2 = 4\n",
    "    Final Response: {{\"response\": true}}\n",
    "\n",
    "    Message 1: Who is Motoko Kusinagi?\n",
    "    Message 2: I don't have an answer for this question. I don't have real-time access to that data.\n",
    "    Final Response: {{\"function\": {{\"arguments\": {{\"query\": \"Who is Motoko Kusinagi?\"}}, \"name\": \"duckduckgo_search\"}}}}\n",
    "\n",
    "    It is very important that you only respond with valid json and nothing else.\n",
    "    \n",
    "    Message 1: {message_1}\n",
    "    Message 2: {message_2}\n",
    "    Final Response: \n",
    "    \"\"\"\n",
    ")\n",
    "\n",
    "review = review_prompt | model"
   ]
  },
  {
   "cell_type": "code",
   "execution_count": 107,
   "id": "99b6a351-9eda-43ae-bff1-c4f0ebdadec1",
   "metadata": {},
   "outputs": [],
   "source": [
    "from typing import TypedDict, Annotated, Sequence\n",
    "import operator\n",
    "from langchain_core.messages import BaseMessage\n",
    "\n",
    "\n",
    "class AgentState(TypedDict):\n",
    "    messages: Annotated[Sequence[BaseMessage], operator.add]"
   ]
  },
  {
   "cell_type": "code",
   "execution_count": 108,
   "id": "7fdaab9c-d278-4743-8683-ac5952c410ec",
   "metadata": {},
   "outputs": [],
   "source": [
    "from langgraph.prebuilt import ToolInvocation\n",
    "import json\n",
    "from langchain_core.messages import FunctionMessage\n",
    "\n",
    "def router(state):\n",
    "    messages = state['messages']\n",
    "    last_message = messages[-1]\n",
    "    # If there is no function call, then we finish\n",
    "    if \"function\" in last_message.additional_kwargs:\n",
    "        return \"continue\"\n",
    "    # Otherwise if there is, we continue\n",
    "    else:\n",
    "        if \"retrieve\" in last_message.additional_kwargs:\n",
    "            return \"retrieve\"\n",
    "        else:\n",
    "            return \"end\"\n",
    "\n",
    "def review_model(state):\n",
    "    messages = state['messages']\n",
    "    response = messages[-1]\n",
    "    request = [message for message in messages if isinstance(message,HumanMessage)][-1]\n",
    "\n",
    "    question = request.content\n",
    "    answer = response.content\n",
    "\n",
    "    review_response = review.invoke({\"message_1\":question,\"message_2\":answer})\n",
    "\n",
    "    try:\n",
    "        resp = json.loads(review_response.content)\n",
    "        if \"function\" in resp:\n",
    "            resp[\"function\"][\"arguments\"] = json.dumps(resp[\"function\"][\"arguments\"])\n",
    "            response.additional_kwargs = resp\n",
    "            response.content = \"\"\n",
    "        else:\n",
    "            if \"retrieve\" in resp:\n",
    "                response = request\n",
    "                response.additional_kwargs = {\"retrieve\":True}\n",
    "    except:\n",
    "        pass\n",
    "    # \"\"\"\n",
    "    # We return a list, because this will get added to the existing list\n",
    "    print(response)\n",
    "    return {\"messages\": [response]}\n",
    "    \n",
    "# Define the function that calls the model\n",
    "def call_model(state):\n",
    "    messages = state['messages']\n",
    "    \n",
    "    # response = model.invoke(messages)\n",
    "    response = main_chain.invoke({\"context\":messages})\n",
    "    \n",
    "    # We return a list, because this will get added to the existing list\n",
    "    return {\"messages\": [response]}\n",
    "\n",
    "async def call_rag(state):\n",
    "    messages = state['messages']\n",
    "\n",
    "    last_message = messages[-1]\n",
    "\n",
    "    question = last_message.content\n",
    "    response = await rag_chain.ainvoke(question)\n",
    "\n",
    "    return {\"messages\": [response]}\n",
    "\n",
    "# Define the function to execute tools\n",
    "def call_tool(state):\n",
    "    messages = state['messages']\n",
    "    # Based on the continue condition\n",
    "    # we know the last message involves a function call\n",
    "    last_message = messages[-1]\n",
    "    # We construct an ToolInvocation from the function_call\n",
    "    action = ToolInvocation(\n",
    "        tool=last_message.additional_kwargs[\"function\"][\"name\"],\n",
    "        tool_input=json.loads(last_message.additional_kwargs[\"function\"][\"arguments\"]),\n",
    "    )\n",
    "    # We call the tool_executor and get back a response\n",
    "    response = tool_executor.invoke(action)\n",
    "    # We use the response to create a FunctionMessage\n",
    "    function_message = FunctionMessage(content=str(response), name=action.tool)\n",
    "    # We return a list, because this will get added to the existing list\n",
    "    return {\"messages\": [function_message]}"
   ]
  },
  {
   "cell_type": "code",
   "execution_count": 109,
   "id": "bae87c6b-168c-4a4f-9587-d0ede4932adb",
   "metadata": {},
   "outputs": [],
   "source": [
    "from langgraph.graph import StateGraph, END\n",
    "# Define a new graph\n",
    "workflow = StateGraph(AgentState)\n",
    "\n",
    "# Define the two nodes we will cycle between\n",
    "workflow.add_node(\"agent\", call_model)\n",
    "workflow.add_node(\"rag\", call_rag)\n",
    "workflow.add_node(\"review\", review_model)\n",
    "workflow.add_node(\"action\", call_tool)\n",
    "\n",
    "# Set the entrypoint as `agent`\n",
    "# This means that this node is the first one called\n",
    "workflow.set_entry_point(\"agent\")\n",
    "\n",
    "# After 'agent' is called, 'review' is called next\n",
    "workflow.add_edge(\"agent\",\"review\")\n",
    "workflow.add_edge(\"rag\",\"review\")\n",
    "\n",
    "# We now add a conditional edge\n",
    "workflow.add_conditional_edges(\n",
    "    # First, we define the start node. We use `agent`.\n",
    "    # This means these are the edges taken after the `agent` node is called.\n",
    "    \"review\",\n",
    "    # Next, we pass in the function that will determine which node is called next.\n",
    "    router,\n",
    "    # Finally we pass in a mapping.\n",
    "    # The keys are strings, and the values are other nodes.\n",
    "    # END is a special node marking that the graph should finish.\n",
    "    # What will happen is we will call `should_continue`, and then the output of that\n",
    "    # will be matched against the keys in this mapping.\n",
    "    # Based on which one it matches, that node will then be called.\n",
    "    {\n",
    "        # If `tools`, then we call the tool node.\n",
    "        \"continue\": \"action\",\n",
    "        \"retrieve\": \"rag\",\n",
    "        # Otherwise we finish.\n",
    "        \"end\": END\n",
    "    }\n",
    ")\n",
    "\n",
    "# We now add a normal edge from `tools` to `agent`.\n",
    "# This means that after `tools` is called, `agent` node is called next.\n",
    "workflow.add_edge('action', 'agent')\n",
    "\n",
    "# Finally, we compile it!\n",
    "# This compiles it into a LangChain Runnable,\n",
    "# meaning you can use it as you would any other runnable\n",
    "app = workflow.compile()"
   ]
  },
  {
   "cell_type": "code",
   "execution_count": 110,
   "id": "cb2ade87-625f-4f30-95e9-c85ead272a58",
   "metadata": {},
   "outputs": [],
   "source": [
    "async def get_answer(inputs):\n",
    "    messages = (await app.ainvoke(inputs))[\"messages\"]\n",
    "    response = messages[-1].content\n",
    "    functions_called = len([message for message in messages if isinstance(message,FunctionMessage)])\n",
    "    print(f\"Response: {response}\\nFunctions called: {functions_called}\")"
   ]
  },
  {
   "cell_type": "code",
   "execution_count": 111,
   "id": "0b0655b5-2998-4521-a3fb-4403f39912a6",
   "metadata": {},
   "outputs": [
    {
     "name": "stdout",
     "output_type": "stream",
     "text": [
      "content='' additional_kwargs={'function': {'arguments': '{\"query\": \"San Francisco weather\"}', 'name': 'duckduckgo_search'}}\n",
      "content=' The latest weather information for San Francisco can be found by checking the forecasts from trusted sources such as Weather Underground, CBS San Francisco, and the Met Office. These sources provide current conditions, hourly and daily forecasts, radar, satellite images, maps, and more. Based on the context provided, it appears that there is a high chance of rain in San Francisco according to the National Weather Service forecast for Wednesday. However, for the most accurate and up-to-date information, I recommend visiting the websites or apps of these weather services.'\n",
      "Response:  The latest weather information for San Francisco can be found by checking the forecasts from trusted sources such as Weather Underground, CBS San Francisco, and the Met Office. These sources provide current conditions, hourly and daily forecasts, radar, satellite images, maps, and more. Based on the context provided, it appears that there is a high chance of rain in San Francisco according to the National Weather Service forecast for Wednesday. However, for the most accurate and up-to-date information, I recommend visiting the websites or apps of these weather services.\n",
      "Functions called: 1\n"
     ]
    }
   ],
   "source": [
    "from langchain_core.messages import HumanMessage\n",
    "\n",
    "inputs = {\"messages\": [HumanMessage(content=\"what is the weather in sf\")]}\n",
    "await get_answer(inputs)"
   ]
  },
  {
   "cell_type": "code",
   "execution_count": 112,
   "id": "eaa2a001-7a9a-4dbb-961b-f5c8703fbff7",
   "metadata": {},
   "outputs": [
    {
     "name": "stdout",
     "output_type": "stream",
     "text": [
      "content=' The sum of 2 and 5 is 7.'\n",
      "Response:  The sum of 2 and 5 is 7.\n",
      "Functions called: 0\n"
     ]
    }
   ],
   "source": [
    "inputs = {\"messages\": [HumanMessage(content=\"what is 2 + 5\")]}\n",
    "await get_answer(inputs)"
   ]
  },
  {
   "cell_type": "code",
   "execution_count": 113,
   "id": "a786ed9b-dd5e-433b-8c28-f279e0b86c86",
   "metadata": {},
   "outputs": [
    {
     "name": "stdout",
     "output_type": "stream",
     "text": [
      "content=' The capital city of France is Paris.'\n",
      "Response:  The capital city of France is Paris.\n",
      "Functions called: 0\n"
     ]
    }
   ],
   "source": [
    "inputs = {\"messages\": [HumanMessage(content=\"what is the capital of France\")]}\n",
    "await get_answer(inputs)"
   ]
  },
  {
   "cell_type": "code",
   "execution_count": 114,
   "id": "54252b73-0a6f-4dde-bca3-d98b81e81f80",
   "metadata": {},
   "outputs": [
    {
     "name": "stdout",
     "output_type": "stream",
     "text": [
      "content='' additional_kwargs={'function': {'arguments': '{\"query\": \"events happening in Austin this weekend\"}', 'name': 'duckduckgo_search'}}\n",
      "content=\" Based on the context provided, here is a list of events happening in Austin this weekend (February 2-4, 2023):\\n1. If You're In Love: An Evening of Shoegaze & Dream-Pop ft. Lovelorn & Heartchaser at Hotel Vegas on Friday, February 2.\\n2. Transit Method (Album Release) with Bat Lips and Megafauna at Hotel Vegas also on Friday, February 2.\\n3. Hunt for Treasure at the French Legation Flea Market on Saturday, February 3. This new open-air vintage fair in East Austin offers about 25 vendors and an archaeology-themed talk and demonstration by the Texas Historical Commission.\\n4. There are also mentions of Lunar New Year celebrations and Super Bowl parties, but no specific details or dates were provided in the context.\\n5. Additionally, there are ongoing events and annual festivals like SXSW, ACL Music Festival, Austin Film Festival, Formula 1, Austin Marathon, NASCAR at COTA that you may consider planning your trip around.\"\n",
      "Response:  Based on the context provided, here is a list of events happening in Austin this weekend (February 2-4, 2023):\n",
      "1. If You're In Love: An Evening of Shoegaze & Dream-Pop ft. Lovelorn & Heartchaser at Hotel Vegas on Friday, February 2.\n",
      "2. Transit Method (Album Release) with Bat Lips and Megafauna at Hotel Vegas also on Friday, February 2.\n",
      "3. Hunt for Treasure at the French Legation Flea Market on Saturday, February 3. This new open-air vintage fair in East Austin offers about 25 vendors and an archaeology-themed talk and demonstration by the Texas Historical Commission.\n",
      "4. There are also mentions of Lunar New Year celebrations and Super Bowl parties, but no specific details or dates were provided in the context.\n",
      "5. Additionally, there are ongoing events and annual festivals like SXSW, ACL Music Festival, Austin Film Festival, Formula 1, Austin Marathon, NASCAR at COTA that you may consider planning your trip around.\n",
      "Functions called: 1\n"
     ]
    }
   ],
   "source": [
    "inputs = {\"messages\": [HumanMessage(content=\"Search events happening in Austin this weekend. Give response as a list.\")]}\n",
    "await get_answer(inputs)"
   ]
  },
  {
   "cell_type": "code",
   "execution_count": 115,
   "id": "6f28d4e7-601d-4547-bf0a-d98adfda4f40",
   "metadata": {},
   "outputs": [
    {
     "name": "stdout",
     "output_type": "stream",
     "text": [
      "content='' additional_kwargs={'function': {'arguments': '{\"query\": \"What was Alice\\'s role in the Umbrella Corporation?\"}', 'name': 'duckduckgo_search'}}\n",
      "content='' additional_kwargs={'function': {'arguments': '{\"query\": \"What was Alice\\'s role in the Umbrella Corporation?\"}', 'name': 'duckduckgo_search'}}\n",
      "content=' Based on the context provided, Alice is seeking revenge against the Umbrella Corporation and uncovering their secrets with the help of an ally. She is not currently employed by or holding a role within the Umbrella Corporation.'\n",
      "Response:  Based on the context provided, Alice is seeking revenge against the Umbrella Corporation and uncovering their secrets with the help of an ally. She is not currently employed by or holding a role within the Umbrella Corporation.\n",
      "Functions called: 2\n"
     ]
    }
   ],
   "source": [
    "inputs = {\"messages\": [HumanMessage(content=\"What was Alice doing for the Umbrella Corporation?\")]}\n",
    "await get_answer(inputs)"
   ]
  },
  {
   "cell_type": "code",
   "execution_count": 116,
   "id": "31f5a1d2-4769-402b-b257-0e34b111e48e",
   "metadata": {},
   "outputs": [
    {
     "name": "stdout",
     "output_type": "stream",
     "text": [
      "content='' additional_kwargs={'function': {'arguments': '{\"query\": \"What is the premise of the movie Argylle (2024)?\"}', 'name': 'duckduckgo_search'}}\n",
      "content=' The movie \"Argylle\" (2024) follows the story of secret agent Argylle, played by Henry Cavill. In the beginning, he infiltrates a Greek-set club where he meets a woman named LaGrange (Dua Lipa). They engage in a dance before she escapes amid gunfire from bad guys. The film is described as a fun and highly stylized spy movie with a star-studded cast. However, there have been criticisms about certain elements of the movie being unsuccessful. There is also a post-credits scene.'\n",
      "Response:  The movie \"Argylle\" (2024) follows the story of secret agent Argylle, played by Henry Cavill. In the beginning, he infiltrates a Greek-set club where he meets a woman named LaGrange (Dua Lipa). They engage in a dance before she escapes amid gunfire from bad guys. The film is described as a fun and highly stylized spy movie with a star-studded cast. However, there have been criticisms about certain elements of the movie being unsuccessful. There is also a post-credits scene.\n",
      "Functions called: 1\n"
     ]
    }
   ],
   "source": [
    "inputs = {\"messages\": [HumanMessage(content=\"What is the premise of the movie Argylle (2024)\")]}\n",
    "await get_answer(inputs)"
   ]
  },
  {
   "cell_type": "code",
   "execution_count": 118,
   "id": "3377fb75-92a1-4953-8377-49be9e8f0878",
   "metadata": {},
   "outputs": [
    {
     "name": "stdout",
     "output_type": "stream",
     "text": [
      "content='' additional_kwargs={'function': {'arguments': '{\"query\": \"How did Argylle (2024) do on the box office?\"}', 'name': 'duckduckgo_search'}}\n",
      "content=' The box office earnings for \"Argylle (2024)\" are reported to have been around $18 million during its opening weekend. However, it is considered a career-worst showing for director Matthew Vaughn.'\n",
      "Response:  The box office earnings for \"Argylle (2024)\" are reported to have been around $18 million during its opening weekend. However, it is considered a career-worst showing for director Matthew Vaughn.\n",
      "Functions called: 1\n"
     ]
    }
   ],
   "source": [
    "inputs = {\"messages\": [HumanMessage(content=\"How did Argylle (2024) do on the box office?\")]}\n",
    "await get_answer(inputs)"
   ]
  },
  {
   "cell_type": "code",
   "execution_count": 119,
   "id": "8648d3f2-885c-48f1-ac6d-3efb971eb75e",
   "metadata": {},
   "outputs": [
    {
     "name": "stdout",
     "output_type": "stream",
     "text": [
      "content='' additional_kwargs={'function': {'arguments': '{\"query\": \"Is Argylle (2024) a hit or a flop movie? Why?\"}', 'name': 'duckduckgo_search'}}\n",
      "content=' Based on the context provided, it appears that \"Argylle (2024)\" is currently considered a box office flop. The movie had a high budget of $200 million and failed to generate sufficient ticket sales during its theatrical release, with reported earnings of around $18 million. Additionally, the article mentions that Apple, the studio behind the film, has experienced its first box office failure with \"Argylle.\"'\n",
      "Response:  Based on the context provided, it appears that \"Argylle (2024)\" is currently considered a box office flop. The movie had a high budget of $200 million and failed to generate sufficient ticket sales during its theatrical release, with reported earnings of around $18 million. Additionally, the article mentions that Apple, the studio behind the film, has experienced its first box office failure with \"Argylle.\"\n",
      "Functions called: 1\n"
     ]
    }
   ],
   "source": [
    "inputs = {\"messages\": [HumanMessage(content=\"Is Argylle (2024) a hit or a flop movie? Why?\")]}\n",
    "await get_answer(inputs)"
   ]
  },
  {
   "cell_type": "code",
   "execution_count": 127,
   "id": "99eac349-7ca9-47e1-b0a9-c783d0040ecf",
   "metadata": {},
   "outputs": [
    {
     "name": "stdout",
     "output_type": "stream",
     "text": [
      "content=' I\\'m unable to directly provide you with specific code samples for Langchain or Langgraph in Python as I don\\'t have access to their exact implementations. However, if you search online using keywords like \"Langchain Python code sample\" or \"Langgraph Python code example\", you might find some resources that can help you get started. Good luck with your project!'\n",
      "Response:  I'm unable to directly provide you with specific code samples for Langchain or Langgraph in Python as I don't have access to their exact implementations. However, if you search online using keywords like \"Langchain Python code sample\" or \"Langgraph Python code example\", you might find some resources that can help you get started. Good luck with your project!\n",
      "Functions called: 0\n"
     ]
    }
   ],
   "source": [
    "inputs = {\"messages\": [HumanMessage(content=\"Search for sample Langchain and Langgraph code in python\")]}\n",
    "await get_answer(inputs)"
   ]
  },
  {
   "cell_type": "code",
   "execution_count": 124,
   "id": "1324f4f7-ceb9-42da-a0c7-8f2bf67b087e",
   "metadata": {},
   "outputs": [
    {
     "name": "stdout",
     "output_type": "stream",
     "text": [
      "content='' additional_kwargs={'function': {'arguments': '{\"query\": \"What did the president say about Ketanji Brown Jackson\"}', 'name': 'duckduckgo_search'}}\n",
      "content=' In the context provided, former President Trump and President Biden have different views on Ketanji Brown Jackson\\'s stance during a Supreme Court hearing. The article mentions that Justice Ketanji Brown Jackson, appointed by President Biden, seemed wary of arguments regarding the 14th amendment applying to presidents, as it does not specifically include the word \"president\" in the clause itself.'\n",
      "Response:  In the context provided, former President Trump and President Biden have different views on Ketanji Brown Jackson's stance during a Supreme Court hearing. The article mentions that Justice Ketanji Brown Jackson, appointed by President Biden, seemed wary of arguments regarding the 14th amendment applying to presidents, as it does not specifically include the word \"president\" in the clause itself.\n",
      "Functions called: 1\n"
     ]
    }
   ],
   "source": [
    "inputs = {\"messages\": [HumanMessage(content=\"What did the president say about Ketanji Brown Jackson\")]}\n",
    "await get_answer(inputs)"
   ]
  }
 ],
 "metadata": {
  "kernelspec": {
   "display_name": "Python 3 (ipykernel)",
   "language": "python",
   "name": "python3"
  },
  "language_info": {
   "codemirror_mode": {
    "name": "ipython",
    "version": 3
   },
   "file_extension": ".py",
   "mimetype": "text/x-python",
   "name": "python",
   "nbconvert_exporter": "python",
   "pygments_lexer": "ipython3",
   "version": "3.10.12"
  }
 },
 "nbformat": 4,
 "nbformat_minor": 5
}
