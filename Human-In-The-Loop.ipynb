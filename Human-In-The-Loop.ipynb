{
 "cells": [
  {
   "cell_type": "code",
   "execution_count": 1,
   "id": "e85a51c5-347b-467b-847f-089fb679e482",
   "metadata": {},
   "outputs": [
    {
     "data": {
      "image/jpeg": "[encoded data removed]",
      "text/plain": [
       "<IPython.core.display.Image object>"
      ]
     },
     "metadata": {},
     "output_type": "display_data"
    }
   ],
   "source": [
    "from typing import TypedDict\n",
    "from langgraph.graph import StateGraph, START, END\n",
    "from langgraph.checkpoint.memory import MemorySaver\n",
    "from IPython.display import Image, display\n",
    "\n",
    "\n",
    "class State(TypedDict):\n",
    "    input: str\n",
    "\n",
    "\n",
    "def step_1(state):\n",
    "    print(\"---Step 1---\")\n",
    "    pass\n",
    "\n",
    "\n",
    "def step_2(state):\n",
    "    print(\"---Step 2---\")\n",
    "    pass\n",
    "\n",
    "\n",
    "def step_3(state):\n",
    "    print(\"---Step 3---\")\n",
    "    pass\n",
    "\n",
    "\n",
    "builder = StateGraph(State)\n",
    "builder.add_node(\"step_1\", step_1)\n",
    "builder.add_node(\"step_2\", step_2)\n",
    "builder.add_node(\"step_3\", step_3)\n",
    "builder.add_edge(START, \"step_1\")\n",
    "builder.add_edge(\"step_1\", \"step_2\")\n",
    "builder.add_edge(\"step_2\", \"step_3\")\n",
    "builder.add_edge(\"step_3\", END)\n",
    "\n",
    "# Set up memory\n",
    "memory = MemorySaver()\n",
    "\n",
    "# Add\n",
    "graph = builder.compile(checkpointer=memory, interrupt_before=[\"step_3\"])\n",
    "\n",
    "# View\n",
    "display(Image(graph.get_graph().draw_mermaid_png()))"
   ]
  },
  {
   "cell_type": "code",
   "execution_count": 3,
   "id": "19b6569c-61c1-44ee-bacd-a289a0503a65",
   "metadata": {},
   "outputs": [
    {
     "name": "stdout",
     "output_type": "stream",
     "text": [
      "{'input': 'hello world'}\n",
      "---Step 1---\n",
      "---Step 2---\n"
     ]
    },
    {
     "name": "stdin",
     "output_type": "stream",
     "text": [
      "Do you want to go to Step 3? (yes/no):  yes\n"
     ]
    },
    {
     "name": "stdout",
     "output_type": "stream",
     "text": [
      "---Step 3---\n"
     ]
    }
   ],
   "source": [
    "# Input\n",
    "initial_input = {\"input\": \"hello world\"}\n",
    "\n",
    "# Thread\n",
    "thread = {\"configurable\": {\"thread_id\": \"1\"}}\n",
    "\n",
    "# Run the graph until the first interruption\n",
    "for event in graph.stream(initial_input, thread, stream_mode=\"values\"):\n",
    "    print(event)\n",
    "\n",
    "user_approval = input(\"Do you want to go to Step 3? (yes/no): \")\n",
    "\n",
    "if user_approval.lower() == \"yes\":\n",
    "    # If approved, continue the graph execution\n",
    "    for event in graph.stream(None, thread, stream_mode=\"values\"):\n",
    "        print(event)\n",
    "else:\n",
    "    print(\"Operation cancelled by user.\")"
   ]
  },
  {
   "cell_type": "code",
   "execution_count": 16,
   "id": "1af89454-1d80-4e8a-9095-ad3bdc1a8cc6",
   "metadata": {},
   "outputs": [
    {
     "name": "stdout",
     "output_type": "stream",
     "text": [
      "---Step 1---\n",
      "---Step 2---\n"
     ]
    },
    {
     "data": {
      "text/plain": [
       "{'input': 'hello world'}"
      ]
     },
     "execution_count": 16,
     "metadata": {},
     "output_type": "execute_result"
    }
   ],
   "source": [
    "# Input\n",
    "initial_input = {\"input\": \"hello world\"}\n",
    "\n",
    "# Thread\n",
    "thread = {\"configurable\": {\"thread_id\": \"1\"}}\n",
    "\n",
    "graph.invoke(initial_input, thread)"
   ]
  },
  {
   "cell_type": "code",
   "execution_count": 17,
   "id": "3a053aea-2b2e-4779-aa30-100b9e89a264",
   "metadata": {},
   "outputs": [
    {
     "data": {
      "text/plain": [
       "{'configurable': {'thread_id': '1'}}"
      ]
     },
     "execution_count": 17,
     "metadata": {},
     "output_type": "execute_result"
    }
   ],
   "source": [
    "thread"
   ]
  },
  {
   "cell_type": "code",
   "execution_count": 19,
   "id": "15a49ee8-f028-4174-a212-cda50bdd29cf",
   "metadata": {},
   "outputs": [
    {
     "name": "stdout",
     "output_type": "stream",
     "text": [
      "---Step 3---\n"
     ]
    }
   ],
   "source": [
    "graph.invoke(None, thread)"
   ]
  },
  {
   "cell_type": "code",
   "execution_count": 18,
   "id": "386b91af-2501-472c-bee2-09ae20976a3e",
   "metadata": {},
   "outputs": [
    {
     "data": {
      "text/plain": [
       "StateSnapshot(values={'input': 'hello world'}, next=('step_3',), config={'configurable': {'thread_id': '1', 'thread_ts': '1ef465c9-c3ed-601b-801a-a55e1e9b5c64'}}, metadata={'source': 'loop', 'step': 26, 'writes': None}, created_at='2024-07-20T05:55:04.407226+00:00', parent_config=None)"
      ]
     },
     "execution_count": 18,
     "metadata": {},
     "output_type": "execute_result"
    }
   ],
   "source": [
    "graph.get_state(thread)"
   ]
  },
  {
   "cell_type": "code",
   "execution_count": 21,
   "id": "a1b841ff-9351-4798-9dc6-1de0c08277f0",
   "metadata": {},
   "outputs": [
    {
     "data": {
      "text/plain": [
       "{'input': 'hello world'}"
      ]
     },
     "execution_count": 21,
     "metadata": {},
     "output_type": "execute_result"
    }
   ],
   "source": [
    "graph.get_state(thread).values"
   ]
  },
  {
   "cell_type": "code",
   "execution_count": 33,
   "id": "c31bce9c-53a1-430b-b0d0-d67319a49dc7",
   "metadata": {},
   "outputs": [
    {
     "data": {
      "text/plain": [
       "StateSnapshot(values={'input': 'hello world'}, next=('step_2',), config={'configurable': {'thread_id': '1', 'thread_ts': '1ef4659f-9fb3-65e2-8001-6cd1122bfa25'}}, metadata={'source': 'loop', 'step': 1, 'writes': None}, created_at='2024-07-20T05:36:13.179818+00:00', parent_config=None)"
      ]
     },
     "execution_count": 33,
     "metadata": {},
     "output_type": "execute_result"
    }
   ],
   "source": [
    "replay = [history for history in graph.get_state_history(thread)][2]\n",
    "replay"
   ]
  },
  {
   "cell_type": "code",
   "execution_count": 34,
   "id": "5e8abe09-d559-4c2b-b610-e4d42ff7ad48",
   "metadata": {},
   "outputs": [
    {
     "name": "stdout",
     "output_type": "stream",
     "text": [
      "---Step 2---\n",
      "---Step 3---\n"
     ]
    }
   ],
   "source": [
    "graph.invoke(None, replay.config)"
   ]
  },
  {
   "cell_type": "code",
   "execution_count": 36,
   "id": "85f7ff2c-6a8e-4504-9f0c-01eecca2814b",
   "metadata": {},
   "outputs": [
    {
     "data": {
      "text/plain": [
       "{'configurable': {'thread_id': '1',\n",
       "  'thread_ts': '1ef465e8-192c-6e27-8002-f847aba4ee1a'}}"
      ]
     },
     "execution_count": 36,
     "metadata": {},
     "output_type": "execute_result"
    }
   ],
   "source": [
    "graph.update_state(replay.config,{\"input\":\"good night\"})"
   ]
  },
  {
   "cell_type": "code",
   "execution_count": 37,
   "id": "8596fb0a-007b-4ce2-98cd-9b725a7cb29e",
   "metadata": {},
   "outputs": [
    {
     "name": "stdout",
     "output_type": "stream",
     "text": [
      "---Step 2---\n",
      "---Step 3---\n"
     ]
    }
   ],
   "source": [
    "graph.invoke(None, replay.config)"
   ]
  },
  {
   "cell_type": "code",
   "execution_count": 39,
   "id": "622202f1-4833-4f96-9220-addf1c7fec97",
   "metadata": {},
   "outputs": [
    {
     "data": {
      "text/plain": [
       "[StateSnapshot(values={}, next=('__start__',), config={'configurable': {'thread_id': '1', 'thread_ts': '1ef4659f-9fa6-6bdf-bfff-07818c734be9'}}, metadata={'source': 'input', 'step': -1, 'writes': {'input': 'hello world'}}, created_at='2024-07-20T05:36:13.174670+00:00', parent_config=None),\n",
       " StateSnapshot(values={'input': 'hello world'}, next=('step_1',), config={'configurable': {'thread_id': '1', 'thread_ts': '1ef4659f-9faa-6b63-8000-52a7b0d979cc'}}, metadata={'source': 'loop', 'step': 0, 'writes': None}, created_at='2024-07-20T05:36:13.176294+00:00', parent_config=None),\n",
       " StateSnapshot(values={'input': 'hello world'}, next=('step_2',), config={'configurable': {'thread_id': '1', 'thread_ts': '1ef4659f-9fb3-65e2-8001-6cd1122bfa25'}}, metadata={'source': 'loop', 'step': 1, 'writes': None}, created_at='2024-07-20T05:36:13.179818+00:00', parent_config=None),\n",
       " StateSnapshot(values={'input': 'hello world'}, next=('step_3',), config={'configurable': {'thread_id': '1', 'thread_ts': '1ef4659f-9fba-615d-8002-b0219229e14e'}}, metadata={'source': 'loop', 'step': 2, 'writes': None}, created_at='2024-07-20T05:36:13.182576+00:00', parent_config=None),\n",
       " StateSnapshot(values={'input': 'hello world'}, next=('__start__',), config={'configurable': {'thread_id': '1', 'thread_ts': '1ef4659f-d4f7-6aa0-8003-73fb1ea778e8'}}, metadata={'source': 'input', 'step': 3, 'writes': {'input': 'hello world'}}, created_at='2024-07-20T05:36:18.765250+00:00', parent_config=None),\n",
       " StateSnapshot(values={'input': 'hello world'}, next=('step_1',), config={'configurable': {'thread_id': '1', 'thread_ts': '1ef4659f-d4ff-650e-8004-87856c8fe139'}}, metadata={'source': 'loop', 'step': 4, 'writes': None}, created_at='2024-07-20T05:36:18.768376+00:00', parent_config=None),\n",
       " StateSnapshot(values={'input': 'hello world'}, next=('step_2',), config={'configurable': {'thread_id': '1', 'thread_ts': '1ef4659f-d507-6edc-8005-a44ad63a94e7'}}, metadata={'source': 'loop', 'step': 5, 'writes': None}, created_at='2024-07-20T05:36:18.771911+00:00', parent_config=None),\n",
       " StateSnapshot(values={'input': 'hello world'}, next=('step_3',), config={'configurable': {'thread_id': '1', 'thread_ts': '1ef4659f-d50d-60dc-8006-ddb0926bb55a'}}, metadata={'source': 'loop', 'step': 6, 'writes': None}, created_at='2024-07-20T05:36:18.774013+00:00', parent_config=None),\n",
       " StateSnapshot(values={'input': 'hello world'}, next=(), config={'configurable': {'thread_id': '1', 'thread_ts': '1ef4659f-e7e7-6bee-8007-21cbb6220ec0'}}, metadata={'source': 'loop', 'step': 7, 'writes': None}, created_at='2024-07-20T05:36:20.750994+00:00', parent_config=None),\n",
       " StateSnapshot(values={'input': 'hello world'}, next=('__start__',), config={'configurable': {'thread_id': '1', 'thread_ts': '1ef465a2-7338-6faa-8008-78ed86a911eb'}}, metadata={'source': 'input', 'step': 8, 'writes': {'input': 'hello world'}}, created_at='2024-07-20T05:37:29.046585+00:00', parent_config=None),\n",
       " StateSnapshot(values={'input': 'hello world'}, next=('step_1',), config={'configurable': {'thread_id': '1', 'thread_ts': '1ef465a2-733e-6569-8009-bff13f603fcd'}}, metadata={'source': 'loop', 'step': 9, 'writes': None}, created_at='2024-07-20T05:37:29.048786+00:00', parent_config=None),\n",
       " StateSnapshot(values={'input': 'hello world'}, next=('step_2',), config={'configurable': {'thread_id': '1', 'thread_ts': '1ef465a2-7347-616b-800a-3ae1cff4e488'}}, metadata={'source': 'loop', 'step': 10, 'writes': None}, created_at='2024-07-20T05:37:29.052369+00:00', parent_config=None),\n",
       " StateSnapshot(values={'input': 'hello world'}, next=('step_3',), config={'configurable': {'thread_id': '1', 'thread_ts': '1ef465a2-734e-6c35-800b-2202e83099f0'}}, metadata={'source': 'loop', 'step': 11, 'writes': None}, created_at='2024-07-20T05:37:29.055517+00:00', parent_config=None),\n",
       " StateSnapshot(values={'input': 'hello world'}, next=(), config={'configurable': {'thread_id': '1', 'thread_ts': '1ef465a3-8f56-6f81-800c-22c52b9714f7'}}, metadata={'source': 'loop', 'step': 12, 'writes': None}, created_at='2024-07-20T05:37:58.838429+00:00', parent_config=None),\n",
       " StateSnapshot(values={'input': 'hello world'}, next=('__start__',), config={'configurable': {'thread_id': '1', 'thread_ts': '1ef465a3-f0ba-6b49-800d-a4d638cc338d'}}, metadata={'source': 'input', 'step': 13, 'writes': {'input': 'hello world'}}, created_at='2024-07-20T05:38:09.050474+00:00', parent_config=None),\n",
       " StateSnapshot(values={'input': 'hello world'}, next=('step_1',), config={'configurable': {'thread_id': '1', 'thread_ts': '1ef465a3-f0c2-6d4a-800e-63e2b4bf14bd'}}, metadata={'source': 'loop', 'step': 14, 'writes': None}, created_at='2024-07-20T05:38:09.053802+00:00', parent_config=None),\n",
       " StateSnapshot(values={'input': 'hello world'}, next=('step_2',), config={'configurable': {'thread_id': '1', 'thread_ts': '1ef465a3-f0ca-61a2-800f-624cae7ce1a1'}}, metadata={'source': 'loop', 'step': 15, 'writes': None}, created_at='2024-07-20T05:38:09.056789+00:00', parent_config=None),\n",
       " StateSnapshot(values={'input': 'hello world'}, next=('step_3',), config={'configurable': {'thread_id': '1', 'thread_ts': '1ef465a3-f0ce-6ee3-8010-d93c7795afb6'}}, metadata={'source': 'loop', 'step': 16, 'writes': None}, created_at='2024-07-20T05:38:09.058762+00:00', parent_config=None),\n",
       " StateSnapshot(values={'input': 'hello world'}, next=(), config={'configurable': {'thread_id': '1', 'thread_ts': '1ef465a4-1d45-66fc-8011-e8e6c3722bcf'}}, metadata={'source': 'loop', 'step': 17, 'writes': None}, created_at='2024-07-20T05:38:13.721013+00:00', parent_config=None),\n",
       " StateSnapshot(values={'input': 'hello world'}, next=('__start__',), config={'configurable': {'thread_id': '1', 'thread_ts': '1ef465b1-f024-6856-8012-0d189c7b9891'}}, metadata={'source': 'input', 'step': 18, 'writes': {'input': 'hello world'}}, created_at='2024-07-20T05:44:24.798600+00:00', parent_config=None),\n",
       " StateSnapshot(values={'input': 'hello world'}, next=('step_1',), config={'configurable': {'thread_id': '1', 'thread_ts': '1ef465b1-f02a-62fc-8013-12d308820e64'}}, metadata={'source': 'loop', 'step': 19, 'writes': None}, created_at='2024-07-20T05:44:24.800909+00:00', parent_config=None),\n",
       " StateSnapshot(values={'input': 'hello world'}, next=('step_2',), config={'configurable': {'thread_id': '1', 'thread_ts': '1ef465b1-f032-67e8-8014-a2f9ecc3d28d'}}, metadata={'source': 'loop', 'step': 20, 'writes': None}, created_at='2024-07-20T05:44:24.804315+00:00', parent_config=None),\n",
       " StateSnapshot(values={'input': 'hello world'}, next=('step_3',), config={'configurable': {'thread_id': '1', 'thread_ts': '1ef465b1-f038-67f8-8015-3681fdbfc5f8'}}, metadata={'source': 'loop', 'step': 21, 'writes': None}, created_at='2024-07-20T05:44:24.806773+00:00', parent_config=None),\n",
       " StateSnapshot(values={'input': 'hello world'}, next=(), config={'configurable': {'thread_id': '1', 'thread_ts': '1ef465b2-be1b-6496-8016-790ab79b78de'}}, metadata={'source': 'loop', 'step': 22, 'writes': None}, created_at='2024-07-20T05:44:46.395462+00:00', parent_config=None),\n",
       " StateSnapshot(values={'input': 'hello world'}, next=('__start__',), config={'configurable': {'thread_id': '1', 'thread_ts': '1ef465c9-c3d6-641b-8017-241ad8e48b0d'}}, metadata={'source': 'input', 'step': 23, 'writes': {'input': 'hello world'}}, created_at='2024-07-20T05:55:04.397902+00:00', parent_config=None),\n",
       " StateSnapshot(values={'input': 'hello world'}, next=('step_1',), config={'configurable': {'thread_id': '1', 'thread_ts': '1ef465c9-c3dd-69c4-8018-10b81731ec4e'}}, metadata={'source': 'loop', 'step': 24, 'writes': None}, created_at='2024-07-20T05:55:04.400905+00:00', parent_config=None),\n",
       " StateSnapshot(values={'input': 'hello world'}, next=('step_2',), config={'configurable': {'thread_id': '1', 'thread_ts': '1ef465c9-c3e5-631b-8019-0b87ca8104ff'}}, metadata={'source': 'loop', 'step': 25, 'writes': None}, created_at='2024-07-20T05:55:04.404005+00:00', parent_config=None),\n",
       " StateSnapshot(values={'input': 'hello world'}, next=('step_3',), config={'configurable': {'thread_id': '1', 'thread_ts': '1ef465c9-c3ed-601b-801a-a55e1e9b5c64'}}, metadata={'source': 'loop', 'step': 26, 'writes': None}, created_at='2024-07-20T05:55:04.407226+00:00', parent_config=None),\n",
       " StateSnapshot(values={'input': 'hello world'}, next=(), config={'configurable': {'thread_id': '1', 'thread_ts': '1ef465ca-0d8e-6a09-801b-d1c15a50d0fd'}}, metadata={'source': 'loop', 'step': 27, 'writes': None}, created_at='2024-07-20T05:55:12.127998+00:00', parent_config=None),\n",
       " StateSnapshot(values={'input': 'hello world'}, next=('step_2',), config={'configurable': {'thread_id': '1', 'thread_ts': '1ef465e2-8c8e-6398-8001-d900e1dd5354'}}, metadata={'source': 'loop', 'step': 1, 'writes': None}, created_at='2024-07-20T06:06:09.689886+00:00', parent_config=None),\n",
       " StateSnapshot(values={'input': 'hello world'}, next=('step_3',), config={'configurable': {'thread_id': '1', 'thread_ts': '1ef465e2-8c91-6684-8002-f4f8b6a04121'}}, metadata={'source': 'loop', 'step': 2, 'writes': None}, created_at='2024-07-20T06:06:09.691190+00:00', parent_config=None),\n",
       " StateSnapshot(values={'input': 'hello world'}, next=(), config={'configurable': {'thread_id': '1', 'thread_ts': '1ef465e2-8c94-6365-8003-01b2a3fe6469'}}, metadata={'source': 'loop', 'step': 3, 'writes': None}, created_at='2024-07-20T06:06:09.692340+00:00', parent_config=None),\n",
       " StateSnapshot(values={'input': 'hello world'}, next=('step_3',), config={'configurable': {'thread_id': '1', 'thread_ts': '1ef465e2-c9f1-625c-8002-eb3b49ed2a8d'}}, metadata={'source': 'loop', 'step': 2, 'writes': None}, created_at='2024-07-20T06:06:16.126693+00:00', parent_config=None),\n",
       " StateSnapshot(values={'input': 'hello world'}, next=(), config={'configurable': {'thread_id': '1', 'thread_ts': '1ef465e2-c9f6-6f29-8003-88600991f37f'}}, metadata={'source': 'loop', 'step': 3, 'writes': None}, created_at='2024-07-20T06:06:16.129079+00:00', parent_config=None),\n",
       " StateSnapshot(values={'input': 'good night'}, next=('step_2',), config={'configurable': {'thread_id': '1', 'thread_ts': '1ef465e8-192c-6e27-8002-f847aba4ee1a'}}, metadata={'source': 'update', 'step': 2, 'writes': {'step_1': {'input': 'good night'}}}, created_at='2024-07-20T06:08:38.652647+00:00', parent_config=None),\n",
       " StateSnapshot(values={'input': 'hello world'}, next=('step_3',), config={'configurable': {'thread_id': '1', 'thread_ts': '1ef465e8-b24f-634b-8002-aa169d5bc8aa'}}, metadata={'source': 'loop', 'step': 2, 'writes': None}, created_at='2024-07-20T06:08:54.709906+00:00', parent_config=None),\n",
       " StateSnapshot(values={'input': 'hello world'}, next=(), config={'configurable': {'thread_id': '1', 'thread_ts': '1ef465e8-b256-60ae-8003-e2fb0f55f57d'}}, metadata={'source': 'loop', 'step': 3, 'writes': None}, created_at='2024-07-20T06:08:54.712710+00:00', parent_config=None)]"
      ]
     },
     "execution_count": 39,
     "metadata": {},
     "output_type": "execute_result"
    }
   ],
   "source": [
    "[history for history in graph.get_state_history(thread)]"
   ]
  },
  {
   "cell_type": "code",
   "execution_count": null,
   "id": "1d54236e-20a9-457b-9d5f-33d7f5864db0",
   "metadata": {},
   "outputs": [],
   "source": []
  }
 ],
 "metadata": {
  "kernelspec": {
   "display_name": "Python 3 (ipykernel)",
   "language": "python",
   "name": "python3"
  },
  "language_info": {
   "codemirror_mode": {
    "name": "ipython",
    "version": 3
   },
   "file_extension": ".py",
   "mimetype": "text/x-python",
   "name": "python",
   "nbconvert_exporter": "python",
   "pygments_lexer": "ipython3",
   "version": "3.12.4"
  }
 },
 "nbformat": 4,
 "nbformat_minor": 5
}
